{
 "cells": [
  {
   "cell_type": "markdown",
   "metadata": {},
   "source": [
    "# Laboratorio 1"
   ]
  },
  {
   "cell_type": "code",
   "execution_count": null,
   "metadata": {},
   "outputs": [],
   "source": [
    "#Instalcion de todas las librerias\n",
    "import pandas as pd\n",
    "import numpy as np\n",
    "import seaborn as sns\n",
    "import sys\n",
    "from sklearn.base import BaseEstimator, ClassifierMixin\n",
    "import matplotlib.pyplot as plt"
   ]
  },
  {
   "cell_type": "markdown",
   "metadata": {},
   "source": [
    "### Carga de datos"
   ]
  },
  {
   "cell_type": "code",
   "execution_count": 3,
   "metadata": {},
   "outputs": [],
   "source": [
    "# Uso de la libreria pandas para la lectura de archivos\n",
    "data=pd.read_csv('train_data.csv', sep=',', encoding = 'utf-8')\n",
    "# Asignación a una nueva variable de los datos leidos\n",
    "data_t=data"
   ]
  },
  {
   "cell_type": "code",
   "execution_count": 4,
   "metadata": {},
   "outputs": [
    {
     "data": {
      "text/html": [
       "<div>\n",
       "<style scoped>\n",
       "    .dataframe tbody tr th:only-of-type {\n",
       "        vertical-align: middle;\n",
       "    }\n",
       "\n",
       "    .dataframe tbody tr th {\n",
       "        vertical-align: top;\n",
       "    }\n",
       "\n",
       "    .dataframe thead th {\n",
       "        text-align: right;\n",
       "    }\n",
       "</style>\n",
       "<table border=\"1\" class=\"dataframe\">\n",
       "  <thead>\n",
       "    <tr style=\"text-align: right;\">\n",
       "      <th></th>\n",
       "      <th>objid</th>\n",
       "      <th>ra</th>\n",
       "      <th>dec</th>\n",
       "      <th>u</th>\n",
       "      <th>g</th>\n",
       "      <th>r</th>\n",
       "      <th>i</th>\n",
       "      <th>z</th>\n",
       "      <th>run</th>\n",
       "      <th>camcol</th>\n",
       "      <th>field</th>\n",
       "      <th>score</th>\n",
       "      <th>clean</th>\n",
       "      <th>class</th>\n",
       "      <th>redshift</th>\n",
       "      <th>mjd</th>\n",
       "      <th>rowv</th>\n",
       "      <th>colv</th>\n",
       "    </tr>\n",
       "  </thead>\n",
       "  <tbody>\n",
       "    <tr>\n",
       "      <th>0</th>\n",
       "      <td>1237648722306924571</td>\n",
       "      <td>185.574486</td>\n",
       "      <td>0.701402</td>\n",
       "      <td>19.11034</td>\n",
       "      <td>17.62099</td>\n",
       "      <td>17.03464</td>\n",
       "      <td>16.82993</td>\n",
       "      <td>16.71711</td>\n",
       "      <td>756</td>\n",
       "      <td>5</td>\n",
       "      <td>466</td>\n",
       "      <td>0.864145</td>\n",
       "      <td>1</td>\n",
       "      <td>STAR</td>\n",
       "      <td>8.780529e-05</td>\n",
       "      <td>54140</td>\n",
       "      <td>0.002418</td>\n",
       "      <td>0.001363</td>\n",
       "    </tr>\n",
       "    <tr>\n",
       "      <th>1</th>\n",
       "      <td>1237648720167436418</td>\n",
       "      <td>203.801841</td>\n",
       "      <td>-0.853906</td>\n",
       "      <td>18.90957</td>\n",
       "      <td>17.62940</td>\n",
       "      <td>17.01465</td>\n",
       "      <td>16.62059</td>\n",
       "      <td>16.35239</td>\n",
       "      <td>756</td>\n",
       "      <td>1</td>\n",
       "      <td>588</td>\n",
       "      <td>0.816541</td>\n",
       "      <td>1</td>\n",
       "      <td>GALAXY</td>\n",
       "      <td>8.619995e-02</td>\n",
       "      <td>51955</td>\n",
       "      <td>0.008650</td>\n",
       "      <td>0.007056</td>\n",
       "    </tr>\n",
       "    <tr>\n",
       "      <th>2</th>\n",
       "      <td>1237648720685105352</td>\n",
       "      <td>160.034264</td>\n",
       "      <td>-0.421626</td>\n",
       "      <td>19.26340</td>\n",
       "      <td>17.67693</td>\n",
       "      <td>16.82551</td>\n",
       "      <td>16.42307</td>\n",
       "      <td>16.13864</td>\n",
       "      <td>756</td>\n",
       "      <td>2</td>\n",
       "      <td>295</td>\n",
       "      <td>0.870381</td>\n",
       "      <td>1</td>\n",
       "      <td>GALAXY</td>\n",
       "      <td>1.330486e-01</td>\n",
       "      <td>51913</td>\n",
       "      <td>0.003938</td>\n",
       "      <td>-0.002028</td>\n",
       "    </tr>\n",
       "    <tr>\n",
       "      <th>3</th>\n",
       "      <td>1237648703510937836</td>\n",
       "      <td>200.807373</td>\n",
       "      <td>-0.682024</td>\n",
       "      <td>18.82022</td>\n",
       "      <td>17.77765</td>\n",
       "      <td>17.38575</td>\n",
       "      <td>17.11128</td>\n",
       "      <td>16.93540</td>\n",
       "      <td>752</td>\n",
       "      <td>2</td>\n",
       "      <td>382</td>\n",
       "      <td>0.867801</td>\n",
       "      <td>1</td>\n",
       "      <td>GALAXY</td>\n",
       "      <td>8.636355e-02</td>\n",
       "      <td>51959</td>\n",
       "      <td>0.001839</td>\n",
       "      <td>0.001160</td>\n",
       "    </tr>\n",
       "    <tr>\n",
       "      <th>4</th>\n",
       "      <td>1237648720161275992</td>\n",
       "      <td>189.792404</td>\n",
       "      <td>-1.001480</td>\n",
       "      <td>18.91391</td>\n",
       "      <td>19.05355</td>\n",
       "      <td>19.46278</td>\n",
       "      <td>19.75660</td>\n",
       "      <td>20.09613</td>\n",
       "      <td>756</td>\n",
       "      <td>1</td>\n",
       "      <td>494</td>\n",
       "      <td>0.833824</td>\n",
       "      <td>1</td>\n",
       "      <td>STAR</td>\n",
       "      <td>-4.090000e-08</td>\n",
       "      <td>54562</td>\n",
       "      <td>0.001929</td>\n",
       "      <td>-0.000465</td>\n",
       "    </tr>\n",
       "    <tr>\n",
       "      <th>...</th>\n",
       "      <td>...</td>\n",
       "      <td>...</td>\n",
       "      <td>...</td>\n",
       "      <td>...</td>\n",
       "      <td>...</td>\n",
       "      <td>...</td>\n",
       "      <td>...</td>\n",
       "      <td>...</td>\n",
       "      <td>...</td>\n",
       "      <td>...</td>\n",
       "      <td>...</td>\n",
       "      <td>...</td>\n",
       "      <td>...</td>\n",
       "      <td>...</td>\n",
       "      <td>...</td>\n",
       "      <td>...</td>\n",
       "      <td>...</td>\n",
       "      <td>...</td>\n",
       "    </tr>\n",
       "    <tr>\n",
       "      <th>3995</th>\n",
       "      <td>1237648720690741273</td>\n",
       "      <td>172.826005</td>\n",
       "      <td>-0.484303</td>\n",
       "      <td>18.81890</td>\n",
       "      <td>17.89273</td>\n",
       "      <td>17.54372</td>\n",
       "      <td>17.41363</td>\n",
       "      <td>17.31821</td>\n",
       "      <td>756</td>\n",
       "      <td>2</td>\n",
       "      <td>381</td>\n",
       "      <td>0.887803</td>\n",
       "      <td>1</td>\n",
       "      <td>STAR</td>\n",
       "      <td>1.521540e-04</td>\n",
       "      <td>54891</td>\n",
       "      <td>0.000675</td>\n",
       "      <td>0.000324</td>\n",
       "    </tr>\n",
       "    <tr>\n",
       "      <th>3996</th>\n",
       "      <td>1237649918427267086</td>\n",
       "      <td>11.165126</td>\n",
       "      <td>13.745240</td>\n",
       "      <td>17.46665</td>\n",
       "      <td>15.96142</td>\n",
       "      <td>15.36014</td>\n",
       "      <td>15.14572</td>\n",
       "      <td>15.04453</td>\n",
       "      <td>1035</td>\n",
       "      <td>1</td>\n",
       "      <td>38</td>\n",
       "      <td>0.844826</td>\n",
       "      <td>1</td>\n",
       "      <td>STAR</td>\n",
       "      <td>4.182837e-05</td>\n",
       "      <td>53242</td>\n",
       "      <td>-0.000440</td>\n",
       "      <td>-0.000301</td>\n",
       "    </tr>\n",
       "    <tr>\n",
       "      <th>3997</th>\n",
       "      <td>1237648720164684046</td>\n",
       "      <td>197.579529</td>\n",
       "      <td>-0.971573</td>\n",
       "      <td>19.45682</td>\n",
       "      <td>18.32555</td>\n",
       "      <td>17.86916</td>\n",
       "      <td>17.57512</td>\n",
       "      <td>17.41648</td>\n",
       "      <td>756</td>\n",
       "      <td>1</td>\n",
       "      <td>546</td>\n",
       "      <td>0.819151</td>\n",
       "      <td>1</td>\n",
       "      <td>GALAXY</td>\n",
       "      <td>8.160563e-02</td>\n",
       "      <td>51985</td>\n",
       "      <td>0.011348</td>\n",
       "      <td>0.005854</td>\n",
       "    </tr>\n",
       "    <tr>\n",
       "      <th>3998</th>\n",
       "      <td>1237648721206575779</td>\n",
       "      <td>124.877626</td>\n",
       "      <td>-0.048110</td>\n",
       "      <td>19.20158</td>\n",
       "      <td>17.31450</td>\n",
       "      <td>16.36573</td>\n",
       "      <td>15.91760</td>\n",
       "      <td>15.57736</td>\n",
       "      <td>756</td>\n",
       "      <td>3</td>\n",
       "      <td>60</td>\n",
       "      <td>0.894044</td>\n",
       "      <td>1</td>\n",
       "      <td>GALAXY</td>\n",
       "      <td>8.744828e-02</td>\n",
       "      <td>55888</td>\n",
       "      <td>-0.004486</td>\n",
       "      <td>-0.006072</td>\n",
       "    </tr>\n",
       "    <tr>\n",
       "      <th>3999</th>\n",
       "      <td>1237648720161800205</td>\n",
       "      <td>190.920230</td>\n",
       "      <td>-0.972532</td>\n",
       "      <td>17.63725</td>\n",
       "      <td>16.65544</td>\n",
       "      <td>16.29970</td>\n",
       "      <td>16.14733</td>\n",
       "      <td>16.09544</td>\n",
       "      <td>756</td>\n",
       "      <td>1</td>\n",
       "      <td>502</td>\n",
       "      <td>0.845173</td>\n",
       "      <td>1</td>\n",
       "      <td>STAR</td>\n",
       "      <td>2.131280e-04</td>\n",
       "      <td>51928</td>\n",
       "      <td>0.001372</td>\n",
       "      <td>0.000094</td>\n",
       "    </tr>\n",
       "  </tbody>\n",
       "</table>\n",
       "<p>4000 rows × 18 columns</p>\n",
       "</div>"
      ],
      "text/plain": [
       "                    objid          ra        dec         u         g  \\\n",
       "0     1237648722306924571  185.574486   0.701402  19.11034  17.62099   \n",
       "1     1237648720167436418  203.801841  -0.853906  18.90957  17.62940   \n",
       "2     1237648720685105352  160.034264  -0.421626  19.26340  17.67693   \n",
       "3     1237648703510937836  200.807373  -0.682024  18.82022  17.77765   \n",
       "4     1237648720161275992  189.792404  -1.001480  18.91391  19.05355   \n",
       "...                   ...         ...        ...       ...       ...   \n",
       "3995  1237648720690741273  172.826005  -0.484303  18.81890  17.89273   \n",
       "3996  1237649918427267086   11.165126  13.745240  17.46665  15.96142   \n",
       "3997  1237648720164684046  197.579529  -0.971573  19.45682  18.32555   \n",
       "3998  1237648721206575779  124.877626  -0.048110  19.20158  17.31450   \n",
       "3999  1237648720161800205  190.920230  -0.972532  17.63725  16.65544   \n",
       "\n",
       "             r         i         z   run  camcol  field     score  clean  \\\n",
       "0     17.03464  16.82993  16.71711   756       5    466  0.864145      1   \n",
       "1     17.01465  16.62059  16.35239   756       1    588  0.816541      1   \n",
       "2     16.82551  16.42307  16.13864   756       2    295  0.870381      1   \n",
       "3     17.38575  17.11128  16.93540   752       2    382  0.867801      1   \n",
       "4     19.46278  19.75660  20.09613   756       1    494  0.833824      1   \n",
       "...        ...       ...       ...   ...     ...    ...       ...    ...   \n",
       "3995  17.54372  17.41363  17.31821   756       2    381  0.887803      1   \n",
       "3996  15.36014  15.14572  15.04453  1035       1     38  0.844826      1   \n",
       "3997  17.86916  17.57512  17.41648   756       1    546  0.819151      1   \n",
       "3998  16.36573  15.91760  15.57736   756       3     60  0.894044      1   \n",
       "3999  16.29970  16.14733  16.09544   756       1    502  0.845173      1   \n",
       "\n",
       "       class      redshift    mjd      rowv      colv  \n",
       "0       STAR  8.780529e-05  54140  0.002418  0.001363  \n",
       "1     GALAXY  8.619995e-02  51955  0.008650  0.007056  \n",
       "2     GALAXY  1.330486e-01  51913  0.003938 -0.002028  \n",
       "3     GALAXY  8.636355e-02  51959  0.001839  0.001160  \n",
       "4       STAR -4.090000e-08  54562  0.001929 -0.000465  \n",
       "...      ...           ...    ...       ...       ...  \n",
       "3995    STAR  1.521540e-04  54891  0.000675  0.000324  \n",
       "3996    STAR  4.182837e-05  53242 -0.000440 -0.000301  \n",
       "3997  GALAXY  8.160563e-02  51985  0.011348  0.005854  \n",
       "3998  GALAXY  8.744828e-02  55888 -0.004486 -0.006072  \n",
       "3999    STAR  2.131280e-04  51928  0.001372  0.000094  \n",
       "\n",
       "[4000 rows x 18 columns]"
      ]
     },
     "execution_count": 4,
     "metadata": {},
     "output_type": "execute_result"
    }
   ],
   "source": [
    "data_t"
   ]
  },
  {
   "cell_type": "markdown",
   "metadata": {},
   "source": [
    "## Entendimiento de los Datos\n",
    "\n",
    "Antes de comenzar a analizar los datos, es fundamental identificar cuáles son más importantes que otros.\n",
    "\n",
    "###  Variables Necesarias\n",
    "\n",
    "- **ra (Ascensión recta)**\n",
    "  - Indica la posición del objeto en el cielo.\n",
    "- **dec (Declinación)**\n",
    "  - Complementa la posición del objeto en coordenadas celestes.\n",
    "- **u, g, r, z, i (Magnitudes en diferentes filtros)**\n",
    "  - Permiten clasificar y caracterizar los objetos en función de su emisión de luz en distintos rangos de longitud de onda.\n",
    "  - Son fundamentales para estimar redshifts fotométricos si se quiere hacer una estimación sin espectroscopía.\n",
    "- **class**\n",
    "  - Indica si el objeto es una estrella (**STAR**), una galaxia (**GALAXY**) o un cuásar (**QSO**).\n",
    "  - Importante porque el redshift se aplica principalmente a galaxias y cuásares.\n",
    "- **redshift**\n",
    "  - Es el valor clave de estudio, ya que representa el corrimiento al rojo del objeto.\n",
    "- **mjd (Día juliano)**\n",
    "  - Puede ser útil si se estudian variaciones en observaciones a lo largo del tiempo.\n",
    "\n",
    "###  Variables Opcionales o Menos Relevantes\n",
    "\n",
    "- **run, camcol, field**\n",
    "  - Se relacionan con la instrumentación del telescopio y pueden ser útiles para control de calidad, pero no necesariamente para el análisis del redshift.\n",
    "- **score**\n",
    "  - Indica la calidad de la observación. Podría ser útil para filtrar datos de baja calidad.\n",
    "- **clean**\n",
    "  - También puede ayudar a filtrar observaciones con problemas en la fotometría.\n",
    "- **rowv y colv**\n",
    "  - Indican velocidades en grados/día, que pueden ser útiles si se quiere analizar movimiento propio, pero no son necesarias para un análisis del redshift.\n",
    "\n",
    "\n"
   ]
  },
  {
   "cell_type": "code",
   "execution_count": null,
   "metadata": {},
   "outputs": [
    {
     "name": "stdout",
     "output_type": "stream",
     "text": [
      "Dimensiones de los datos:  (4000, 18) El primer valor corresponde a filas y el segundo a columnas\n"
     ]
    }
   ],
   "source": [
    "#Entendimiento del tamaño del data Set a ser manejado\n",
    "print('Dimensiones de los datos: ', data_t.shape, 'El primer valor corresponde a filas y el segundo a columnas')"
   ]
  },
  {
   "cell_type": "code",
   "execution_count": 45,
   "metadata": {},
   "outputs": [
    {
     "data": {
      "text/html": [
       "<div>\n",
       "<style scoped>\n",
       "    .dataframe tbody tr th:only-of-type {\n",
       "        vertical-align: middle;\n",
       "    }\n",
       "\n",
       "    .dataframe tbody tr th {\n",
       "        vertical-align: top;\n",
       "    }\n",
       "\n",
       "    .dataframe thead th {\n",
       "        text-align: right;\n",
       "    }\n",
       "</style>\n",
       "<table border=\"1\" class=\"dataframe\">\n",
       "  <thead>\n",
       "    <tr style=\"text-align: right;\">\n",
       "      <th></th>\n",
       "      <th>objid</th>\n",
       "      <th>ra</th>\n",
       "      <th>dec</th>\n",
       "      <th>u</th>\n",
       "      <th>g</th>\n",
       "      <th>r</th>\n",
       "      <th>i</th>\n",
       "      <th>z</th>\n",
       "      <th>run</th>\n",
       "      <th>camcol</th>\n",
       "      <th>field</th>\n",
       "      <th>score</th>\n",
       "      <th>clean</th>\n",
       "      <th>class</th>\n",
       "      <th>redshift</th>\n",
       "      <th>mjd</th>\n",
       "      <th>rowv</th>\n",
       "      <th>colv</th>\n",
       "    </tr>\n",
       "  </thead>\n",
       "  <tbody>\n",
       "    <tr>\n",
       "      <th>0</th>\n",
       "      <td>1237648722306924571</td>\n",
       "      <td>185.574486</td>\n",
       "      <td>0.701402</td>\n",
       "      <td>19.11034</td>\n",
       "      <td>17.62099</td>\n",
       "      <td>17.03464</td>\n",
       "      <td>16.82993</td>\n",
       "      <td>16.71711</td>\n",
       "      <td>756</td>\n",
       "      <td>5</td>\n",
       "      <td>466</td>\n",
       "      <td>0.864145</td>\n",
       "      <td>1</td>\n",
       "      <td>STAR</td>\n",
       "      <td>8.780529e-05</td>\n",
       "      <td>54140</td>\n",
       "      <td>0.002418</td>\n",
       "      <td>0.001363</td>\n",
       "    </tr>\n",
       "    <tr>\n",
       "      <th>1</th>\n",
       "      <td>1237648720167436418</td>\n",
       "      <td>203.801841</td>\n",
       "      <td>-0.853906</td>\n",
       "      <td>18.90957</td>\n",
       "      <td>17.62940</td>\n",
       "      <td>17.01465</td>\n",
       "      <td>16.62059</td>\n",
       "      <td>16.35239</td>\n",
       "      <td>756</td>\n",
       "      <td>1</td>\n",
       "      <td>588</td>\n",
       "      <td>0.816541</td>\n",
       "      <td>1</td>\n",
       "      <td>GALAXY</td>\n",
       "      <td>8.619995e-02</td>\n",
       "      <td>51955</td>\n",
       "      <td>0.008650</td>\n",
       "      <td>0.007056</td>\n",
       "    </tr>\n",
       "    <tr>\n",
       "      <th>2</th>\n",
       "      <td>1237648720685105352</td>\n",
       "      <td>160.034264</td>\n",
       "      <td>-0.421626</td>\n",
       "      <td>19.26340</td>\n",
       "      <td>17.67693</td>\n",
       "      <td>16.82551</td>\n",
       "      <td>16.42307</td>\n",
       "      <td>16.13864</td>\n",
       "      <td>756</td>\n",
       "      <td>2</td>\n",
       "      <td>295</td>\n",
       "      <td>0.870381</td>\n",
       "      <td>1</td>\n",
       "      <td>GALAXY</td>\n",
       "      <td>1.330486e-01</td>\n",
       "      <td>51913</td>\n",
       "      <td>0.003938</td>\n",
       "      <td>-0.002028</td>\n",
       "    </tr>\n",
       "    <tr>\n",
       "      <th>3</th>\n",
       "      <td>1237648703510937836</td>\n",
       "      <td>200.807373</td>\n",
       "      <td>-0.682024</td>\n",
       "      <td>18.82022</td>\n",
       "      <td>17.77765</td>\n",
       "      <td>17.38575</td>\n",
       "      <td>17.11128</td>\n",
       "      <td>16.93540</td>\n",
       "      <td>752</td>\n",
       "      <td>2</td>\n",
       "      <td>382</td>\n",
       "      <td>0.867801</td>\n",
       "      <td>1</td>\n",
       "      <td>GALAXY</td>\n",
       "      <td>8.636355e-02</td>\n",
       "      <td>51959</td>\n",
       "      <td>0.001839</td>\n",
       "      <td>0.001160</td>\n",
       "    </tr>\n",
       "    <tr>\n",
       "      <th>4</th>\n",
       "      <td>1237648720161275992</td>\n",
       "      <td>189.792404</td>\n",
       "      <td>-1.001480</td>\n",
       "      <td>18.91391</td>\n",
       "      <td>19.05355</td>\n",
       "      <td>19.46278</td>\n",
       "      <td>19.75660</td>\n",
       "      <td>20.09613</td>\n",
       "      <td>756</td>\n",
       "      <td>1</td>\n",
       "      <td>494</td>\n",
       "      <td>0.833824</td>\n",
       "      <td>1</td>\n",
       "      <td>STAR</td>\n",
       "      <td>-4.090000e-08</td>\n",
       "      <td>54562</td>\n",
       "      <td>0.001929</td>\n",
       "      <td>-0.000465</td>\n",
       "    </tr>\n",
       "    <tr>\n",
       "      <th>5</th>\n",
       "      <td>1237648720132178408</td>\n",
       "      <td>123.386052</td>\n",
       "      <td>-1.045499</td>\n",
       "      <td>18.52214</td>\n",
       "      <td>17.45173</td>\n",
       "      <td>17.23112</td>\n",
       "      <td>17.16427</td>\n",
       "      <td>17.13214</td>\n",
       "      <td>756</td>\n",
       "      <td>1</td>\n",
       "      <td>50</td>\n",
       "      <td>0.851417</td>\n",
       "      <td>1</td>\n",
       "      <td>STAR</td>\n",
       "      <td>1.190440e-05</td>\n",
       "      <td>53816</td>\n",
       "      <td>-0.002165</td>\n",
       "      <td>-0.000364</td>\n",
       "    </tr>\n",
       "    <tr>\n",
       "      <th>6</th>\n",
       "      <td>1237648720165863598</td>\n",
       "      <td>200.243728</td>\n",
       "      <td>-0.895931</td>\n",
       "      <td>18.09523</td>\n",
       "      <td>16.82764</td>\n",
       "      <td>16.18942</td>\n",
       "      <td>15.83503</td>\n",
       "      <td>15.58671</td>\n",
       "      <td>756</td>\n",
       "      <td>1</td>\n",
       "      <td>564</td>\n",
       "      <td>0.815295</td>\n",
       "      <td>0</td>\n",
       "      <td>GALAXY</td>\n",
       "      <td>4.815651e-02</td>\n",
       "      <td>51984</td>\n",
       "      <td>-0.011610</td>\n",
       "      <td>0.002361</td>\n",
       "    </tr>\n",
       "    <tr>\n",
       "      <th>7</th>\n",
       "      <td>1237648704054624442</td>\n",
       "      <td>216.256661</td>\n",
       "      <td>-0.220799</td>\n",
       "      <td>19.20765</td>\n",
       "      <td>18.73173</td>\n",
       "      <td>18.84302</td>\n",
       "      <td>18.98353</td>\n",
       "      <td>19.15128</td>\n",
       "      <td>752</td>\n",
       "      <td>3</td>\n",
       "      <td>486</td>\n",
       "      <td>0.804086</td>\n",
       "      <td>1</td>\n",
       "      <td>STAR</td>\n",
       "      <td>-2.234210e-04</td>\n",
       "      <td>51613</td>\n",
       "      <td>-0.002153</td>\n",
       "      <td>-0.001026</td>\n",
       "    </tr>\n",
       "    <tr>\n",
       "      <th>8</th>\n",
       "      <td>1237648722308890870</td>\n",
       "      <td>190.050847</td>\n",
       "      <td>0.695672</td>\n",
       "      <td>17.82951</td>\n",
       "      <td>15.90091</td>\n",
       "      <td>15.02515</td>\n",
       "      <td>14.61881</td>\n",
       "      <td>14.30353</td>\n",
       "      <td>756</td>\n",
       "      <td>5</td>\n",
       "      <td>496</td>\n",
       "      <td>0.822898</td>\n",
       "      <td>1</td>\n",
       "      <td>GALAXY</td>\n",
       "      <td>4.634102e-02</td>\n",
       "      <td>51941</td>\n",
       "      <td>-0.000474</td>\n",
       "      <td>-0.001548</td>\n",
       "    </tr>\n",
       "    <tr>\n",
       "      <th>9</th>\n",
       "      <td>1237648720163963081</td>\n",
       "      <td>195.951990</td>\n",
       "      <td>-0.966005</td>\n",
       "      <td>17.76132</td>\n",
       "      <td>16.51327</td>\n",
       "      <td>15.89811</td>\n",
       "      <td>15.53069</td>\n",
       "      <td>15.31236</td>\n",
       "      <td>756</td>\n",
       "      <td>1</td>\n",
       "      <td>535</td>\n",
       "      <td>0.811336</td>\n",
       "      <td>1</td>\n",
       "      <td>GALAXY</td>\n",
       "      <td>8.944633e-02</td>\n",
       "      <td>51986</td>\n",
       "      <td>0.000894</td>\n",
       "      <td>0.001024</td>\n",
       "    </tr>\n",
       "  </tbody>\n",
       "</table>\n",
       "</div>"
      ],
      "text/plain": [
       "                 objid          ra       dec         u         g         r  \\\n",
       "0  1237648722306924571  185.574486  0.701402  19.11034  17.62099  17.03464   \n",
       "1  1237648720167436418  203.801841 -0.853906  18.90957  17.62940  17.01465   \n",
       "2  1237648720685105352  160.034264 -0.421626  19.26340  17.67693  16.82551   \n",
       "3  1237648703510937836  200.807373 -0.682024  18.82022  17.77765  17.38575   \n",
       "4  1237648720161275992  189.792404 -1.001480  18.91391  19.05355  19.46278   \n",
       "5  1237648720132178408  123.386052 -1.045499  18.52214  17.45173  17.23112   \n",
       "6  1237648720165863598  200.243728 -0.895931  18.09523  16.82764  16.18942   \n",
       "7  1237648704054624442  216.256661 -0.220799  19.20765  18.73173  18.84302   \n",
       "8  1237648722308890870  190.050847  0.695672  17.82951  15.90091  15.02515   \n",
       "9  1237648720163963081  195.951990 -0.966005  17.76132  16.51327  15.89811   \n",
       "\n",
       "          i         z  run  camcol  field     score  clean   class  \\\n",
       "0  16.82993  16.71711  756       5    466  0.864145      1    STAR   \n",
       "1  16.62059  16.35239  756       1    588  0.816541      1  GALAXY   \n",
       "2  16.42307  16.13864  756       2    295  0.870381      1  GALAXY   \n",
       "3  17.11128  16.93540  752       2    382  0.867801      1  GALAXY   \n",
       "4  19.75660  20.09613  756       1    494  0.833824      1    STAR   \n",
       "5  17.16427  17.13214  756       1     50  0.851417      1    STAR   \n",
       "6  15.83503  15.58671  756       1    564  0.815295      0  GALAXY   \n",
       "7  18.98353  19.15128  752       3    486  0.804086      1    STAR   \n",
       "8  14.61881  14.30353  756       5    496  0.822898      1  GALAXY   \n",
       "9  15.53069  15.31236  756       1    535  0.811336      1  GALAXY   \n",
       "\n",
       "       redshift    mjd      rowv      colv  \n",
       "0  8.780529e-05  54140  0.002418  0.001363  \n",
       "1  8.619995e-02  51955  0.008650  0.007056  \n",
       "2  1.330486e-01  51913  0.003938 -0.002028  \n",
       "3  8.636355e-02  51959  0.001839  0.001160  \n",
       "4 -4.090000e-08  54562  0.001929 -0.000465  \n",
       "5  1.190440e-05  53816 -0.002165 -0.000364  \n",
       "6  4.815651e-02  51984 -0.011610  0.002361  \n",
       "7 -2.234210e-04  51613 -0.002153 -0.001026  \n",
       "8  4.634102e-02  51941 -0.000474 -0.001548  \n",
       "9  8.944633e-02  51986  0.000894  0.001024  "
      ]
     },
     "metadata": {},
     "output_type": "display_data"
    }
   ],
   "source": [
    "# Visualizacion de los primeros 10 datos\n",
    "display(data_t.head(10))"
   ]
  },
  {
   "cell_type": "code",
   "execution_count": 12,
   "metadata": {},
   "outputs": [
    {
     "data": {
      "text/plain": [
       "objid         int64\n",
       "ra          float64\n",
       "dec         float64\n",
       "u           float64\n",
       "g           float64\n",
       "r           float64\n",
       "i           float64\n",
       "z           float64\n",
       "run           int64\n",
       "camcol        int64\n",
       "field         int64\n",
       "score       float64\n",
       "clean         int64\n",
       "class        object\n",
       "redshift    float64\n",
       "mjd           int64\n",
       "rowv        float64\n",
       "colv        float64\n",
       "dtype: object"
      ]
     },
     "execution_count": 12,
     "metadata": {},
     "output_type": "execute_result"
    }
   ],
   "source": [
    "# Imprimimos los diferentes tipos de las columnas\n",
    "data_t.dtypes"
   ]
  },
  {
   "cell_type": "code",
   "execution_count": null,
   "metadata": {},
   "outputs": [
    {
     "name": "stdout",
     "output_type": "stream",
     "text": [
      "Index(['objid', 'ra', 'dec', 'u', 'g', 'r', 'i', 'z', 'run', 'camcol', 'field',\n",
      "       'score', 'clean', 'redshift', 'mjd', 'rowv', 'colv'],\n",
      "      dtype='object')\n"
     ]
    }
   ],
   "source": [
    "# Imprimir las columnas numericas\n",
    "columnasNumericas= data_t.select_dtypes(include=['int','float']).columns\n",
    "print(columnasNumericas)"
   ]
  },
  {
   "cell_type": "code",
   "execution_count": 17,
   "metadata": {},
   "outputs": [
    {
     "data": {
      "text/html": [
       "<div>\n",
       "<style scoped>\n",
       "    .dataframe tbody tr th:only-of-type {\n",
       "        vertical-align: middle;\n",
       "    }\n",
       "\n",
       "    .dataframe tbody tr th {\n",
       "        vertical-align: top;\n",
       "    }\n",
       "\n",
       "    .dataframe thead th {\n",
       "        text-align: right;\n",
       "    }\n",
       "</style>\n",
       "<table border=\"1\" class=\"dataframe\">\n",
       "  <thead>\n",
       "    <tr style=\"text-align: right;\">\n",
       "      <th></th>\n",
       "      <th>objid</th>\n",
       "      <th>ra</th>\n",
       "      <th>dec</th>\n",
       "      <th>u</th>\n",
       "      <th>g</th>\n",
       "      <th>r</th>\n",
       "      <th>i</th>\n",
       "      <th>z</th>\n",
       "      <th>run</th>\n",
       "      <th>camcol</th>\n",
       "      <th>field</th>\n",
       "      <th>score</th>\n",
       "      <th>clean</th>\n",
       "      <th>class</th>\n",
       "      <th>redshift</th>\n",
       "      <th>mjd</th>\n",
       "      <th>rowv</th>\n",
       "      <th>colv</th>\n",
       "    </tr>\n",
       "  </thead>\n",
       "  <tbody>\n",
       "    <tr>\n",
       "      <th>count</th>\n",
       "      <td>4.000000e+03</td>\n",
       "      <td>4000.000000</td>\n",
       "      <td>4000.000000</td>\n",
       "      <td>4000.000000</td>\n",
       "      <td>4000.000000</td>\n",
       "      <td>4000.000000</td>\n",
       "      <td>4000.000000</td>\n",
       "      <td>4000.000000</td>\n",
       "      <td>4000.000000</td>\n",
       "      <td>4000.00000</td>\n",
       "      <td>4000.000000</td>\n",
       "      <td>4000.000000</td>\n",
       "      <td>4000.000000</td>\n",
       "      <td>4000</td>\n",
       "      <td>4000.000000</td>\n",
       "      <td>4000.000000</td>\n",
       "      <td>4000.000000</td>\n",
       "      <td>4000.000000</td>\n",
       "    </tr>\n",
       "    <tr>\n",
       "      <th>unique</th>\n",
       "      <td>NaN</td>\n",
       "      <td>NaN</td>\n",
       "      <td>NaN</td>\n",
       "      <td>NaN</td>\n",
       "      <td>NaN</td>\n",
       "      <td>NaN</td>\n",
       "      <td>NaN</td>\n",
       "      <td>NaN</td>\n",
       "      <td>NaN</td>\n",
       "      <td>NaN</td>\n",
       "      <td>NaN</td>\n",
       "      <td>NaN</td>\n",
       "      <td>NaN</td>\n",
       "      <td>6</td>\n",
       "      <td>NaN</td>\n",
       "      <td>NaN</td>\n",
       "      <td>NaN</td>\n",
       "      <td>NaN</td>\n",
       "    </tr>\n",
       "    <tr>\n",
       "      <th>top</th>\n",
       "      <td>NaN</td>\n",
       "      <td>NaN</td>\n",
       "      <td>NaN</td>\n",
       "      <td>NaN</td>\n",
       "      <td>NaN</td>\n",
       "      <td>NaN</td>\n",
       "      <td>NaN</td>\n",
       "      <td>NaN</td>\n",
       "      <td>NaN</td>\n",
       "      <td>NaN</td>\n",
       "      <td>NaN</td>\n",
       "      <td>NaN</td>\n",
       "      <td>NaN</td>\n",
       "      <td>GALAXY</td>\n",
       "      <td>NaN</td>\n",
       "      <td>NaN</td>\n",
       "      <td>NaN</td>\n",
       "      <td>NaN</td>\n",
       "    </tr>\n",
       "    <tr>\n",
       "      <th>freq</th>\n",
       "      <td>NaN</td>\n",
       "      <td>NaN</td>\n",
       "      <td>NaN</td>\n",
       "      <td>NaN</td>\n",
       "      <td>NaN</td>\n",
       "      <td>NaN</td>\n",
       "      <td>NaN</td>\n",
       "      <td>NaN</td>\n",
       "      <td>NaN</td>\n",
       "      <td>NaN</td>\n",
       "      <td>NaN</td>\n",
       "      <td>NaN</td>\n",
       "      <td>NaN</td>\n",
       "      <td>1857</td>\n",
       "      <td>NaN</td>\n",
       "      <td>NaN</td>\n",
       "      <td>NaN</td>\n",
       "      <td>NaN</td>\n",
       "    </tr>\n",
       "    <tr>\n",
       "      <th>mean</th>\n",
       "      <td>1.237649e+18</td>\n",
       "      <td>185.523295</td>\n",
       "      <td>0.248959</td>\n",
       "      <td>18.609049</td>\n",
       "      <td>17.363397</td>\n",
       "      <td>16.839856</td>\n",
       "      <td>16.597712</td>\n",
       "      <td>16.439392</td>\n",
       "      <td>743.829000</td>\n",
       "      <td>3.37625</td>\n",
       "      <td>419.602000</td>\n",
       "      <td>0.851765</td>\n",
       "      <td>0.895500</td>\n",
       "      <td>NaN</td>\n",
       "      <td>0.134015</td>\n",
       "      <td>52957.124750</td>\n",
       "      <td>0.000218</td>\n",
       "      <td>-0.000090</td>\n",
       "    </tr>\n",
       "    <tr>\n",
       "      <th>std</th>\n",
       "      <td>4.244222e+11</td>\n",
       "      <td>41.689446</td>\n",
       "      <td>2.001075</td>\n",
       "      <td>0.839431</td>\n",
       "      <td>0.950964</td>\n",
       "      <td>1.055343</td>\n",
       "      <td>1.141252</td>\n",
       "      <td>1.190502</td>\n",
       "      <td>98.865936</td>\n",
       "      <td>1.69909</td>\n",
       "      <td>167.162063</td>\n",
       "      <td>0.071311</td>\n",
       "      <td>0.305946</td>\n",
       "      <td>NaN</td>\n",
       "      <td>0.379742</td>\n",
       "      <td>1601.148131</td>\n",
       "      <td>0.008794</td>\n",
       "      <td>0.007457</td>\n",
       "    </tr>\n",
       "    <tr>\n",
       "      <th>min</th>\n",
       "      <td>1.237646e+18</td>\n",
       "      <td>10.469743</td>\n",
       "      <td>-1.252763</td>\n",
       "      <td>13.551780</td>\n",
       "      <td>12.974870</td>\n",
       "      <td>12.362850</td>\n",
       "      <td>12.010790</td>\n",
       "      <td>11.799530</td>\n",
       "      <td>211.000000</td>\n",
       "      <td>1.00000</td>\n",
       "      <td>19.000000</td>\n",
       "      <td>0.301912</td>\n",
       "      <td>0.000000</td>\n",
       "      <td>NaN</td>\n",
       "      <td>-0.003322</td>\n",
       "      <td>51608.000000</td>\n",
       "      <td>-0.264516</td>\n",
       "      <td>-0.168807</td>\n",
       "    </tr>\n",
       "    <tr>\n",
       "      <th>25%</th>\n",
       "      <td>1.237649e+18</td>\n",
       "      <td>162.474666</td>\n",
       "      <td>-0.631824</td>\n",
       "      <td>18.170375</td>\n",
       "      <td>16.796110</td>\n",
       "      <td>16.190785</td>\n",
       "      <td>15.870782</td>\n",
       "      <td>15.628205</td>\n",
       "      <td>752.000000</td>\n",
       "      <td>2.00000</td>\n",
       "      <td>311.000000</td>\n",
       "      <td>0.836866</td>\n",
       "      <td>1.000000</td>\n",
       "      <td>NaN</td>\n",
       "      <td>0.000106</td>\n",
       "      <td>51821.000000</td>\n",
       "      <td>-0.001212</td>\n",
       "      <td>-0.001609</td>\n",
       "    </tr>\n",
       "    <tr>\n",
       "      <th>50%</th>\n",
       "      <td>1.237649e+18</td>\n",
       "      <td>195.815451</td>\n",
       "      <td>0.053336</td>\n",
       "      <td>18.843745</td>\n",
       "      <td>17.472525</td>\n",
       "      <td>16.850835</td>\n",
       "      <td>16.571195</td>\n",
       "      <td>16.402665</td>\n",
       "      <td>756.000000</td>\n",
       "      <td>3.00000</td>\n",
       "      <td>434.000000</td>\n",
       "      <td>0.860675</td>\n",
       "      <td>1.000000</td>\n",
       "      <td>NaN</td>\n",
       "      <td>0.032038</td>\n",
       "      <td>51986.000000</td>\n",
       "      <td>0.000322</td>\n",
       "      <td>0.000125</td>\n",
       "    </tr>\n",
       "    <tr>\n",
       "      <th>75%</th>\n",
       "      <td>1.237649e+18</td>\n",
       "      <td>214.348425</td>\n",
       "      <td>0.593396</td>\n",
       "      <td>19.261563</td>\n",
       "      <td>17.997818</td>\n",
       "      <td>17.506640</td>\n",
       "      <td>17.258833</td>\n",
       "      <td>17.147037</td>\n",
       "      <td>756.000000</td>\n",
       "      <td>5.00000</td>\n",
       "      <td>527.000000</td>\n",
       "      <td>0.879834</td>\n",
       "      <td>1.000000</td>\n",
       "      <td>NaN</td>\n",
       "      <td>0.086479</td>\n",
       "      <td>54468.000000</td>\n",
       "      <td>0.001698</td>\n",
       "      <td>0.001672</td>\n",
       "    </tr>\n",
       "    <tr>\n",
       "      <th>max</th>\n",
       "      <td>1.237650e+18</td>\n",
       "      <td>249.758313</td>\n",
       "      <td>13.854010</td>\n",
       "      <td>19.599750</td>\n",
       "      <td>22.497450</td>\n",
       "      <td>22.265960</td>\n",
       "      <td>28.179630</td>\n",
       "      <td>20.847690</td>\n",
       "      <td>1035.000000</td>\n",
       "      <td>6.00000</td>\n",
       "      <td>812.000000</td>\n",
       "      <td>0.961145</td>\n",
       "      <td>1.000000</td>\n",
       "      <td>NaN</td>\n",
       "      <td>4.192597</td>\n",
       "      <td>58932.000000</td>\n",
       "      <td>0.181871</td>\n",
       "      <td>0.128814</td>\n",
       "    </tr>\n",
       "  </tbody>\n",
       "</table>\n",
       "</div>"
      ],
      "text/plain": [
       "               objid           ra          dec            u            g  \\\n",
       "count   4.000000e+03  4000.000000  4000.000000  4000.000000  4000.000000   \n",
       "unique           NaN          NaN          NaN          NaN          NaN   \n",
       "top              NaN          NaN          NaN          NaN          NaN   \n",
       "freq             NaN          NaN          NaN          NaN          NaN   \n",
       "mean    1.237649e+18   185.523295     0.248959    18.609049    17.363397   \n",
       "std     4.244222e+11    41.689446     2.001075     0.839431     0.950964   \n",
       "min     1.237646e+18    10.469743    -1.252763    13.551780    12.974870   \n",
       "25%     1.237649e+18   162.474666    -0.631824    18.170375    16.796110   \n",
       "50%     1.237649e+18   195.815451     0.053336    18.843745    17.472525   \n",
       "75%     1.237649e+18   214.348425     0.593396    19.261563    17.997818   \n",
       "max     1.237650e+18   249.758313    13.854010    19.599750    22.497450   \n",
       "\n",
       "                  r            i            z          run      camcol  \\\n",
       "count   4000.000000  4000.000000  4000.000000  4000.000000  4000.00000   \n",
       "unique          NaN          NaN          NaN          NaN         NaN   \n",
       "top             NaN          NaN          NaN          NaN         NaN   \n",
       "freq            NaN          NaN          NaN          NaN         NaN   \n",
       "mean      16.839856    16.597712    16.439392   743.829000     3.37625   \n",
       "std        1.055343     1.141252     1.190502    98.865936     1.69909   \n",
       "min       12.362850    12.010790    11.799530   211.000000     1.00000   \n",
       "25%       16.190785    15.870782    15.628205   752.000000     2.00000   \n",
       "50%       16.850835    16.571195    16.402665   756.000000     3.00000   \n",
       "75%       17.506640    17.258833    17.147037   756.000000     5.00000   \n",
       "max       22.265960    28.179630    20.847690  1035.000000     6.00000   \n",
       "\n",
       "              field        score        clean   class     redshift  \\\n",
       "count   4000.000000  4000.000000  4000.000000    4000  4000.000000   \n",
       "unique          NaN          NaN          NaN       6          NaN   \n",
       "top             NaN          NaN          NaN  GALAXY          NaN   \n",
       "freq            NaN          NaN          NaN    1857          NaN   \n",
       "mean     419.602000     0.851765     0.895500     NaN     0.134015   \n",
       "std      167.162063     0.071311     0.305946     NaN     0.379742   \n",
       "min       19.000000     0.301912     0.000000     NaN    -0.003322   \n",
       "25%      311.000000     0.836866     1.000000     NaN     0.000106   \n",
       "50%      434.000000     0.860675     1.000000     NaN     0.032038   \n",
       "75%      527.000000     0.879834     1.000000     NaN     0.086479   \n",
       "max      812.000000     0.961145     1.000000     NaN     4.192597   \n",
       "\n",
       "                 mjd         rowv         colv  \n",
       "count    4000.000000  4000.000000  4000.000000  \n",
       "unique           NaN          NaN          NaN  \n",
       "top              NaN          NaN          NaN  \n",
       "freq             NaN          NaN          NaN  \n",
       "mean    52957.124750     0.000218    -0.000090  \n",
       "std      1601.148131     0.008794     0.007457  \n",
       "min     51608.000000    -0.264516    -0.168807  \n",
       "25%     51821.000000    -0.001212    -0.001609  \n",
       "50%     51986.000000     0.000322     0.000125  \n",
       "75%     54468.000000     0.001698     0.001672  \n",
       "max     58932.000000     0.181871     0.128814  "
      ]
     },
     "execution_count": 17,
     "metadata": {},
     "output_type": "execute_result"
    }
   ],
   "source": [
    "data_t.describe( include='all')"
   ]
  },
  {
   "cell_type": "markdown",
   "metadata": {},
   "source": [
    "# 2 Preparación de datos"
   ]
  },
  {
   "cell_type": "markdown",
   "metadata": {},
   "source": [
    "### Para mejorar la calidad de los datos vamos a revisar las filas que están duplicadas"
   ]
  },
  {
   "cell_type": "code",
   "execution_count": 21,
   "metadata": {},
   "outputs": [
    {
     "name": "stdout",
     "output_type": "stream",
     "text": [
      "La cantidad de duplicados es = 0\n",
      "Empty DataFrame\n",
      "Columns: [objid, ra, dec, u, g, r, i, z, run, camcol, field, score, clean, class, redshift, mjd, rowv, colv]\n",
      "Index: []\n"
     ]
    }
   ],
   "source": [
    "print(\"La cantidad de duplicados es = \"+str(data_t.duplicated().sum()))  # Muestra el número de filas duplicadas\n",
    "print(data_t[data_t.duplicated()])"
   ]
  },
  {
   "cell_type": "markdown",
   "metadata": {},
   "source": [
    "#### Luego procedemos a eliminar los duplicados"
   ]
  },
  {
   "cell_type": "code",
   "execution_count": 22,
   "metadata": {},
   "outputs": [
    {
     "name": "stdout",
     "output_type": "stream",
     "text": [
      "La cantidad de duplicados es = 0\n"
     ]
    }
   ],
   "source": [
    "#Comando que elimina las filas que estan duplicadas\n",
    "data_t = data_t.drop_duplicates()\n",
    "print(\"La cantidad de duplicados es = \"+str(data_t.duplicated().sum()))  # Muestra el número de filas duplicadas"
   ]
  },
  {
   "cell_type": "markdown",
   "metadata": {},
   "source": [
    "### Ahora vamos a empezar a revisar los datos que se encuentran mal de cada columna en base a sus datos para ver si se pueden corregir o deben de ser eliminados"
   ]
  },
  {
   "cell_type": "code",
   "execution_count": 7,
   "metadata": {},
   "outputs": [
    {
     "data": {
      "text/plain": [
       "objid       0\n",
       "ra          0\n",
       "dec         0\n",
       "u           0\n",
       "g           0\n",
       "r           0\n",
       "i           0\n",
       "z           0\n",
       "run         0\n",
       "camcol      0\n",
       "field       0\n",
       "score       0\n",
       "clean       0\n",
       "class       0\n",
       "redshift    0\n",
       "mjd         0\n",
       "rowv        0\n",
       "colv        0\n",
       "dtype: int64"
      ]
     },
     "execution_count": 7,
     "metadata": {},
     "output_type": "execute_result"
    }
   ],
   "source": [
    "#Para empezar revisamos si hay valores nulos en el dataset, pero no se encuentran datos nulos\n",
    "data_t.isnull().sum()"
   ]
  },
  {
   "cell_type": "markdown",
   "metadata": {},
   "source": [
    "### Revisando la Columna 'ra' la cual describe Ubicación del objeto en su componente de ascensión recta de coordenada celeste."
   ]
  },
  {
   "cell_type": "code",
   "execution_count": 8,
   "metadata": {},
   "outputs": [
    {
     "data": {
      "text/plain": [
       "count    4000.000000\n",
       "mean      185.523295\n",
       "std        41.689446\n",
       "min        10.469743\n",
       "25%       162.474666\n",
       "50%       195.815451\n",
       "75%       214.348425\n",
       "max       249.758313\n",
       "Name: ra, dtype: float64"
      ]
     },
     "execution_count": 8,
     "metadata": {},
     "output_type": "execute_result"
    }
   ],
   "source": [
    "data['ra'].describe()"
   ]
  },
  {
   "cell_type": "code",
   "execution_count": 9,
   "metadata": {},
   "outputs": [
    {
     "name": "stdout",
     "output_type": "stream",
     "text": [
      "Empty DataFrame\n",
      "Columns: [objid, ra, dec, u, g, r, i, z, run, camcol, field, score, clean, class, redshift, mjd, rowv, colv]\n",
      "Index: []\n"
     ]
    }
   ],
   "source": [
    "# Ya que Ra describe la ubicación del objeto en su componente de ascensión recta de coordenada celeste. Este valor debe de estar entre 0 y 360 grados.\n",
    "df_out_rango = data_t[(data_t[\"ra\"] < 0) | (data_t[\"ra\"] > 360)]\n",
    "print(df_out_rango)"
   ]
  },
  {
   "cell_type": "code",
   "execution_count": 10,
   "metadata": {},
   "outputs": [
    {
     "name": "stdout",
     "output_type": "stream",
     "text": [
      "162.474665625 214.348425475 51.87375985\n",
      "84.66402585 292.15906525\n"
     ]
    },
    {
     "data": {
      "image/png": "[encoded data removed]",
      "text/plain": [
       "<Figure size 640x480 with 1 Axes>"
      ]
     },
     "metadata": {},
     "output_type": "display_data"
    }
   ],
   "source": [
    "#Revisamos si se encuentra dentro del rango intercuartil, los valores que se encuentren por fuera de esto son outlayers [Q1−1.5×IQR,Q3+1.5×IQR]\n",
    "\n",
    "Q1 = data_t['ra'].quantile(0.25)\n",
    "Q3 = data_t['ra'].quantile(0.75)\n",
    "IQR = Q3 - Q1\n",
    "\n",
    "lower_bound = Q1 - 1.5 * IQR\n",
    "upper_bound = Q3 + 1.5 * IQR\n",
    "print(Q1,Q3,IQR)\n",
    "print(lower_bound,upper_bound) \n",
    " \n",
    "outliers = data_t[(data_t['ra'] < lower_bound) | (data_t['ra'] > upper_bound)]\n",
    "# print(outliers['ra'])\n",
    "outliers\n",
    "plt.boxplot(data_t['ra'])\n",
    "plt.title(\"Boxplot de la Ascensión Recta (ra)\")\n",
    "plt.ylabel(\"Ascensión Recta\")\n",
    "plt.show()"
   ]
  },
  {
   "cell_type": "code",
   "execution_count": 11,
   "metadata": {},
   "outputs": [
    {
     "data": {
      "image/png": "[encoded data removed]",
      "text/plain": [
       "<Figure size 800x500 with 1 Axes>"
      ]
     },
     "metadata": {},
     "output_type": "display_data"
    }
   ],
   "source": [
    "# Crear el histograma para visualizar la distribución de 'ra'\n",
    "plt.figure(figsize=(8, 5))\n",
    "plt.hist(data_t[\"ra\"], bins=20, edgecolor=\"black\", alpha=0.7, color=\"orange\")\n",
    "plt.xlabel(\"Ascensión Recta (ra)\")\n",
    "plt.ylabel(\"Frecuencia\")\n",
    "plt.title(\"Distribución de la Ascensión Recta\")\n",
    "plt.grid(axis=\"y\", linestyle=\"--\", alpha=0.7)\n",
    "\n",
    "plt.show()"
   ]
  },
  {
   "cell_type": "code",
   "execution_count": 12,
   "metadata": {},
   "outputs": [
    {
     "name": "stdout",
     "output_type": "stream",
     "text": [
      "Valores únicos en class:\n",
      " ['STAR' 'GALAXY' 'QSO' 'S' 'QUASAR' 'G']\n"
     ]
    }
   ],
   "source": [
    "for col in data_t.select_dtypes(include=['object']):\n",
    "    print(f\"Valores únicos en {col}:\\n\", data_t[col].unique())"
   ]
  },
  {
   "cell_type": "markdown",
   "metadata": {},
   "source": [
    "## Columna dec\n",
    "Describe: Ubicación del objeto en su componente de declinación de coordenada celeste."
   ]
  },
  {
   "cell_type": "code",
   "execution_count": 13,
   "metadata": {},
   "outputs": [
    {
     "data": {
      "text/plain": [
       "count    4000.000000\n",
       "mean       18.609049\n",
       "std         0.839431\n",
       "min        13.551780\n",
       "25%        18.170375\n",
       "50%        18.843745\n",
       "75%        19.261563\n",
       "max        19.599750\n",
       "Name: u, dtype: float64"
      ]
     },
     "execution_count": 13,
     "metadata": {},
     "output_type": "execute_result"
    }
   ],
   "source": [
    "data_t['u'].describe()\n"
   ]
  },
  {
   "cell_type": "code",
   "execution_count": 14,
   "metadata": {},
   "outputs": [
    {
     "name": "stdout",
     "output_type": "stream",
     "text": [
      "Los valores negativos son estos  Empty DataFrame\n",
      "Columns: [objid, ra, dec, u, g, r, i, z, run, camcol, field, score, clean, class, redshift, mjd, rowv, colv]\n",
      "Index: []\n"
     ]
    }
   ],
   "source": [
    "#Revisamos si cuenta con valores negativos ya no que nos pide que sea mayor a 0\n",
    "negativos = data_t[(data_t['u']<=0)]\n",
    "print(\"Los valores negativos son estos \", negativos)"
   ]
  },
  {
   "cell_type": "markdown",
   "metadata": {},
   "source": [
    "## Columna g"
   ]
  },
  {
   "cell_type": "markdown",
   "metadata": {},
   "source": [
    "## Columna field"
   ]
  },
  {
   "cell_type": "markdown",
   "metadata": {},
   "source": [
    "#### 1. Ver los valores únicos y su frecuencia"
   ]
  },
  {
   "cell_type": "code",
   "execution_count": 37,
   "metadata": {},
   "outputs": [
    {
     "name": "stdout",
     "output_type": "stream",
     "text": [
      "field\n",
      "482    32\n",
      "365    30\n",
      "369    27\n",
      "368    27\n",
      "362    27\n",
      "       ..\n",
      "19      1\n",
      "637     1\n",
      "666     1\n",
      "636     1\n",
      "109     1\n",
      "Name: count, Length: 663, dtype: int64\n"
     ]
    },
    {
     "data": {
      "text/plain": [
       "count    4000.000000\n",
       "mean      185.523295\n",
       "std        41.689446\n",
       "min        10.469743\n",
       "25%       162.474666\n",
       "50%       195.815451\n",
       "75%       214.348425\n",
       "max       249.758313\n",
       "Name: ra, dtype: float64"
      ]
     },
     "execution_count": 37,
     "metadata": {},
     "output_type": "execute_result"
    }
   ],
   "source": [
    "print(data[\"field\"].value_counts())  # Frecuencia de cada categoría\n",
    "data['ra'].describe()"
   ]
  },
  {
   "cell_type": "markdown",
   "metadata": {},
   "source": [
    "#### 2. Visualizar distribución de los datos"
   ]
  },
  {
   "cell_type": "code",
   "execution_count": null,
   "metadata": {},
   "outputs": [
    {
     "name": "stdout",
     "output_type": "stream",
     "text": [
      "Q1: 311.0, Q3: 527.0, IQR: 216.0\n",
      "Límite inferior: -13.0, Límite superior: 851.0\n",
      "Número de outliers: 0\n"
     ]
    },
    {
     "data": {
      "image/png": "[encoded data removed]",
      "text/plain": [
       "<Figure size 1000x500 with 1 Axes>"
      ]
     },
     "metadata": {},
     "output_type": "display_data"
    },
    {
     "name": "stdout",
     "output_type": "stream",
     "text": [
      "Se observa una distribución correcta de los datos con un numero 0 de anomalías\n",
      "Correlación entre redshift y field: 0.04144653357568594\n"
     ]
    }
   ],
   "source": [
    "# Calcular cuartiles y rango intercuartil (IQR)\n",
    "Q1 = data_t['field'].quantile(0.25)\n",
    "Q3 = data_t['field'].quantile(0.75)\n",
    "IQR = Q3 - Q1\n",
    "\n",
    "# Definir límites para detectar outliers\n",
    "lower_bound = Q1 - 1.5 * IQR\n",
    "upper_bound = Q3 + 1.5 * IQR\n",
    "\n",
    "# Filtrar outliers\n",
    "outliers = data_t[(data_t['field'] < lower_bound) | (data_t['field'] > upper_bound)]\n",
    "print(f\"Q1: {Q1}, Q3: {Q3}, IQR: {IQR}\")\n",
    "print(f\"Límite inferior: {lower_bound}, Límite superior: {upper_bound}\")\n",
    "print(f\"Número de outliers: {len(outliers)}\")\n",
    "\n",
    "# Gráfico de caja y bigotes con puntos para outliers\n",
    "plt.figure(figsize=(10, 5))\n",
    "sns.boxplot(y=data_t[\"field\"], showfliers=True, flierprops={\"marker\": \"o\", \"markerfacecolor\": \"red\", \"markersize\": 6})\n",
    "\n",
    "# Configuración del gráfico\n",
    "plt.title(\"Boxplot de 'field' con outliers resaltados\")\n",
    "plt.ylabel(\"Valores de 'field'\")\n",
    "\n",
    "# Mostrar gráfico\n",
    "plt.show()\n",
    "\n",
    "print(\"Se observa una distribución correcta de los datos con un numero 0 de anomalías\")\n",
    "correlacion = data_t[\"redshift\"].corr(data_t[\"field\"])\n",
    "print(\"Correlación entre redshift y field:\", correlacion)"
   ]
  },
  {
   "cell_type": "markdown",
   "metadata": {},
   "source": [
    "## Columna score"
   ]
  },
  {
   "cell_type": "markdown",
   "metadata": {},
   "source": [
    "#### 1. Visualizar como se distribuyen los datos entre 0 y 1 por cuartiles"
   ]
  },
  {
   "cell_type": "code",
   "execution_count": 39,
   "metadata": {},
   "outputs": [
    {
     "data": {
      "text/plain": [
       "count    3983.000000\n",
       "mean        0.851756\n",
       "std         0.071434\n",
       "min         0.301912\n",
       "25%         0.836865\n",
       "50%         0.860675\n",
       "75%         0.879834\n",
       "max         0.961145\n",
       "Name: score, dtype: float64"
      ]
     },
     "execution_count": 39,
     "metadata": {},
     "output_type": "execute_result"
    }
   ],
   "source": [
    "data_t['score'].describe()"
   ]
  },
  {
   "cell_type": "markdown",
   "metadata": {},
   "source": [
    "#### 2. Visualización Gráfica"
   ]
  },
  {
   "cell_type": "code",
   "execution_count": null,
   "metadata": {},
   "outputs": [
    {
     "data": {
      "image/png": "[encoded data removed]",
      "text/plain": [
       "<Figure size 800x600 with 1 Axes>"
      ]
     },
     "metadata": {},
     "output_type": "display_data"
    },
    {
     "name": "stdout",
     "output_type": "stream",
     "text": [
      "Esto nos dá a entender que la mayoría de las observaciones presentan una alta calidad, además no se presentaron datos fuera del rango 0 - 1\n",
      "                   objid          ra       dec         u         g         r  \\\n",
      "31   1237648675605315758  242.562540  1.190245  18.42238  18.22688  18.16234   \n",
      "235  1237648675606823365  246.084939  1.174142  18.78055  17.26691  16.68871   \n",
      "277  1237648675605250186  242.438398  1.171876  17.91883  16.78357  16.36801   \n",
      "379  1237648675603743074  238.952113  1.206012  19.54832  17.72610  16.90218   \n",
      "411  1237648675608003121  248.683327  1.177546  19.46411  19.24191  19.19376   \n",
      "\n",
      "            i         z  run  camcol  field     score  clean   class  \\\n",
      "31   18.02632  17.98409  745       6    560  0.337776      1     QSO   \n",
      "235  16.45830  16.32949  745       6    583  0.365036      1    STAR   \n",
      "277  16.02861  15.88540  745       6    559  0.338786      1  GALAXY   \n",
      "379  16.43995  16.12423  745       6    536  0.303009      1  GALAXY   \n",
      "411  19.01704  19.03733  745       6    601  0.353446      1     QSO   \n",
      "\n",
      "     redshift    mjd      rowv      colv  \n",
      "31   1.927210  51690  0.000204  0.002798  \n",
      "235 -0.000001  52000 -0.003050 -0.001240  \n",
      "277  0.055552  51690 -0.004112 -0.036769  \n",
      "379  0.100297  51692  0.002575  0.000390  \n",
      "411  1.659050  51671 -0.000843 -0.000753  \n",
      "Total de registros con score entre 0 y 0.5: 61\n"
     ]
    }
   ],
   "source": [
    "# Crear el histograma\n",
    "plt.figure(figsize=(8, 6))\n",
    "sns.histplot(data_t['score'], bins=20, kde=True, color='blue', edgecolor='black')\n",
    "plt.title(\"Distribución de Score\", fontsize=14)\n",
    "plt.xlabel(\"Score\", fontsize=12)\n",
    "plt.ylabel(\"Frecuencia\", fontsize=12)\n",
    "plt.grid(True, linestyle=\"--\", alpha=0.6)\n",
    "plt.show()\n",
    "print(\"Esto nos dá a entender que la mayoría de las observaciones presentan una alta calidad, además no se presentaron datos fuera del rango 0 - 1\")"
   ]
  },
  {
   "cell_type": "markdown",
   "metadata": {},
   "source": [
    "#### 3. Eliminar datos que tienen una score y un clean 0"
   ]
  },
  {
   "cell_type": "markdown",
   "metadata": {},
   "source": [
    "Decidimos eliminar ciertos datos con una score y clean bajo ya que no aportan mucho a nuestro analisis"
   ]
  },
  {
   "cell_type": "code",
   "execution_count": 15,
   "metadata": {},
   "outputs": [
    {
     "name": "stdout",
     "output_type": "stream",
     "text": [
      "(4000, 18)\n",
      "(3991, 18)\n"
     ]
    }
   ],
   "source": [
    "print(data_t.shape)\n",
    "data_t = data_t[~((data_t[\"score\"] < 0.4) & (data_t[\"clean\"] == 0))]\n",
    "print(data_t.shape)"
   ]
  },
  {
   "cell_type": "markdown",
   "metadata": {},
   "source": [
    "## Columna clean"
   ]
  },
  {
   "cell_type": "markdown",
   "metadata": {},
   "source": [
    "#### 1. Describir por cuartiles los datos de clean"
   ]
  },
  {
   "cell_type": "code",
   "execution_count": 50,
   "metadata": {},
   "outputs": [
    {
     "data": {
      "text/plain": [
       "count    3983.000000\n",
       "mean        0.895305\n",
       "std         0.306198\n",
       "min         0.000000\n",
       "25%         1.000000\n",
       "50%         1.000000\n",
       "75%         1.000000\n",
       "max         1.000000\n",
       "Name: clean, dtype: float64"
      ]
     },
     "execution_count": 50,
     "metadata": {},
     "output_type": "execute_result"
    }
   ],
   "source": [
    "data_t['clean'].describe()"
   ]
  },
  {
   "cell_type": "markdown",
   "metadata": {},
   "source": [
    "#### 2. Análisis grafico para detectar anomalías"
   ]
  },
  {
   "cell_type": "code",
   "execution_count": 56,
   "metadata": {},
   "outputs": [
    {
     "data": {
      "image/png": "[encoded data removed]",
      "text/plain": [
       "<Figure size 600x600 with 1 Axes>"
      ]
     },
     "metadata": {},
     "output_type": "display_data"
    },
    {
     "name": "stdout",
     "output_type": "stream",
     "text": [
      "Se observa que todos los datos son binarios , es decir 0 o 1, no se detectaron anomalías\n"
     ]
    }
   ],
   "source": [
    "plt.figure(figsize=(6,6))\n",
    "data_t['clean'].value_counts().plot(kind='pie', autopct='%1.1f%%', colors=['green', 'red'])\n",
    "\n",
    "plt.title(\"Proporción de objetos con fotometría confiable\")\n",
    "plt.ylabel(\"\")\n",
    "plt.show()\n",
    "print(\"Se observa que todos los datos son binarios , es decir 0 o 1, no se detectaron anomalías\")"
   ]
  },
  {
   "cell_type": "markdown",
   "metadata": {},
   "source": [
    "## Columna class"
   ]
  },
  {
   "cell_type": "markdown",
   "metadata": {},
   "source": [
    "#### 1. Revisión de como se distribuyen las clases"
   ]
  },
  {
   "cell_type": "code",
   "execution_count": 58,
   "metadata": {},
   "outputs": [
    {
     "name": "stdout",
     "output_type": "stream",
     "text": [
      "Valores únicos en 'class': ['STAR' 'GALAXY' 'QSO' 'S' 'QUASAR' 'G']\n",
      "\n",
      "Valores nulos en 'class': 0\n",
      "\n",
      "Distribución de clases:\n",
      "class\n",
      "GALAXY    1847\n",
      "STAR      1625\n",
      "QSO        291\n",
      "S          175\n",
      "G           44\n",
      "QUASAR       1\n",
      "Name: count, dtype: int64\n"
     ]
    }
   ],
   "source": [
    "data_t['class'].describe()\n",
    "print(\"Valores únicos en 'class':\", data_t['class'].unique())\n",
    "print(\"\\nValores nulos en 'class':\", data_t['class'].isnull().sum())\n",
    "\n",
    "# Ver distribución de las clases\n",
    "print(\"\\nDistribución de clases:\")\n",
    "print(data_t['class'].value_counts())\n"
   ]
  },
  {
   "cell_type": "markdown",
   "metadata": {},
   "source": [
    "#### 2. Como se detectaron anomalías en las clasificaciones , se hace una normalización"
   ]
  },
  {
   "cell_type": "markdown",
   "metadata": {},
   "source": [
    "En este caso por intuición vamos a tomar los datos de clasificación G y convertirlos GALAXY"
   ]
  },
  {
   "cell_type": "code",
   "execution_count": 60,
   "metadata": {},
   "outputs": [],
   "source": [
    "# Reemplazar 'G' por 'GALAXY'\n",
    "data_t['class'] = data_t['class'].replace('G', 'GALAXY')"
   ]
  },
  {
   "cell_type": "markdown",
   "metadata": {},
   "source": [
    "Por otro lado para los datos que tienen la clasificación S los modificaremos para que sean STAR"
   ]
  },
  {
   "cell_type": "code",
   "execution_count": 59,
   "metadata": {},
   "outputs": [],
   "source": [
    "# Reemplazar 'S' por 'STAR'\n",
    "data_t['class'] = data_t['class'].replace('S', 'STAR')"
   ]
  },
  {
   "cell_type": "markdown",
   "metadata": {},
   "source": [
    "Tambien para hacer el uso de solo una etiqueta cambiamos Quasar por QSO"
   ]
  },
  {
   "cell_type": "code",
   "execution_count": 61,
   "metadata": {},
   "outputs": [],
   "source": [
    "# Reemplazar 'QUASAR' por 'QSO'\n",
    "data_t['class'] = data_t['class'].replace('QUASAR', 'QSO')"
   ]
  },
  {
   "cell_type": "markdown",
   "metadata": {},
   "source": [
    "Luego volvemos a revisar si ya se hicieron los cambios correctamente"
   ]
  },
  {
   "cell_type": "code",
   "execution_count": 62,
   "metadata": {},
   "outputs": [
    {
     "name": "stdout",
     "output_type": "stream",
     "text": [
      "Valores únicos en 'class': ['STAR' 'GALAXY' 'QSO']\n",
      "\n",
      "Valores nulos en 'class': 0\n",
      "\n",
      "Distribución de clases:\n",
      "class\n",
      "GALAXY    1891\n",
      "STAR      1800\n",
      "QSO        292\n",
      "Name: count, dtype: int64\n"
     ]
    }
   ],
   "source": [
    "data_t['class'].describe()\n",
    "print(\"Valores únicos en 'class':\", data_t['class'].unique())\n",
    "print(\"\\nValores nulos en 'class':\", data_t['class'].isnull().sum())\n",
    "\n",
    "# Ver distribución de las clases\n",
    "print(\"\\nDistribución de clases:\")\n",
    "print(data_t['class'].value_counts())"
   ]
  },
  {
   "cell_type": "markdown",
   "metadata": {},
   "source": [
    "#### 3. Transformación para facilitar el modelo de regresión"
   ]
  },
  {
   "cell_type": "code",
   "execution_count": null,
   "metadata": {},
   "outputs": [],
   "source": [
    "data_t = pd.get_dummies(data_t, columns=['class'], prefix='class')"
   ]
  },
  {
   "cell_type": "markdown",
   "metadata": {},
   "source": [
    "#### 4. Análisis Gráfico de la columna"
   ]
  },
  {
   "cell_type": "code",
   "execution_count": 63,
   "metadata": {},
   "outputs": [
    {
     "data": {
      "image/png": "[encoded data removed]",
      "text/plain": [
       "<Figure size 800x500 with 1 Axes>"
      ]
     },
     "metadata": {},
     "output_type": "display_data"
    }
   ],
   "source": [
    "# Contar las ocurrencias de cada clase\n",
    "class_counts = data_t['class'].value_counts()\n",
    "\n",
    "# Crear el gráfico de barras\n",
    "plt.figure(figsize=(8, 5))\n",
    "plt.bar(class_counts.index, class_counts.values, color='skyblue', edgecolor='black')\n",
    "\n",
    "# Etiquetas y título\n",
    "plt.xlabel(\"Tipo de Objeto (class)\")\n",
    "plt.ylabel(\"Cantidad\")\n",
    "plt.title(\"Distribución de Tipos de Objetos\")\n",
    "plt.xticks(rotation=45)  # Rotar etiquetas para mejor visibilidad\n",
    "\n",
    "# Mostrar el gráfico\n",
    "plt.show()\n"
   ]
  },
  {
   "cell_type": "markdown",
   "metadata": {},
   "source": [
    "## Columna Camcol"
   ]
  },
  {
   "cell_type": "code",
   "execution_count": 8,
   "metadata": {},
   "outputs": [
    {
     "data": {
      "image/png": "[encoded data removed]",
      "text/plain": [
       "<Figure size 640x480 with 1 Axes>"
      ]
     },
     "metadata": {},
     "output_type": "display_data"
    },
    {
     "name": "stdout",
     "output_type": "stream",
     "text": [
      "Correlación entre camcol y redshift: -0.003906015457972524\n"
     ]
    }
   ],
   "source": [
    "import seaborn as sns\n",
    "import matplotlib.pyplot as plt\n",
    "\n",
    "sns.boxplot(x=data_t[\"camcol\"], y=data_t[\"redshift\"])\n",
    "plt.xlabel(\"Camcol (Columna del Sensor)\")\n",
    "plt.ylabel(\"Redshift\")\n",
    "plt.title(\"Distribución del Redshift por Camcol\")\n",
    "plt.show()\n",
    "correlation = data_t[\"camcol\"].corr(data_t[\"redshift\"])\n",
    "print(\"Correlación entre camcol y redshift:\", correlation)"
   ]
  },
  {
   "cell_type": "markdown",
   "metadata": {},
   "source": [
    "Analizando la correlación decidimos que no es una variable que influye directamente al redshift entonces la omitimos"
   ]
  }
 ],
 "metadata": {
  "kernelspec": {
   "display_name": "base",
   "language": "python",
   "name": "python3"
  },
  "language_info": {
   "codemirror_mode": {
    "name": "ipython",
    "version": 3
   },
   "file_extension": ".py",
   "mimetype": "text/x-python",
   "name": "python",
   "nbconvert_exporter": "python",
   "pygments_lexer": "ipython3",
   "version": "3.12.7"
  }
 },
 "nbformat": 4,
 "nbformat_minor": 2
}
