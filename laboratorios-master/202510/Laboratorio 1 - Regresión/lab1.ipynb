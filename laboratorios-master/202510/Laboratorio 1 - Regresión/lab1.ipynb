{
 "cells": [
  {
   "cell_type": "markdown",
   "metadata": {},
   "source": [
    "# Laboratorio 1"
   ]
  },
  {
   "cell_type": "code",
   "execution_count": 10,
   "metadata": {},
   "outputs": [],
   "source": [
    "#Instalcion de todas las librerias\n",
    "import pandas as pd\n",
    "import numpy as np\n",
    "import sys\n",
    "from sklearn.base import BaseEstimator, ClassifierMixin\n",
    "import matplotlib.pyplot as plt\n",
    "import seaborn as sb\n"
   ]
  },
  {
   "cell_type": "markdown",
   "metadata": {},
   "source": [
    "### Carga de datos"
   ]
  },
  {
   "cell_type": "code",
   "execution_count": 11,
   "metadata": {},
   "outputs": [],
   "source": [
    "# Uso de la libreria pandas para la lectura de archivos\n",
    "data=pd.read_csv('train_data.csv', sep=',', encoding = 'utf-8')\n",
    "# Asignación a una nueva variable de los datos leidos\n",
    "data_t=data"
   ]
  },
  {
   "cell_type": "code",
   "execution_count": 12,
   "metadata": {},
   "outputs": [
    {
     "data": {
      "text/html": [
       "<div>\n",
       "<style scoped>\n",
       "    .dataframe tbody tr th:only-of-type {\n",
       "        vertical-align: middle;\n",
       "    }\n",
       "\n",
       "    .dataframe tbody tr th {\n",
       "        vertical-align: top;\n",
       "    }\n",
       "\n",
       "    .dataframe thead th {\n",
       "        text-align: right;\n",
       "    }\n",
       "</style>\n",
       "<table border=\"1\" class=\"dataframe\">\n",
       "  <thead>\n",
       "    <tr style=\"text-align: right;\">\n",
       "      <th></th>\n",
       "      <th>objid</th>\n",
       "      <th>ra</th>\n",
       "      <th>dec</th>\n",
       "      <th>u</th>\n",
       "      <th>g</th>\n",
       "      <th>r</th>\n",
       "      <th>i</th>\n",
       "      <th>z</th>\n",
       "      <th>run</th>\n",
       "      <th>camcol</th>\n",
       "      <th>field</th>\n",
       "      <th>score</th>\n",
       "      <th>clean</th>\n",
       "      <th>class</th>\n",
       "      <th>redshift</th>\n",
       "      <th>mjd</th>\n",
       "      <th>rowv</th>\n",
       "      <th>colv</th>\n",
       "    </tr>\n",
       "  </thead>\n",
       "  <tbody>\n",
       "    <tr>\n",
       "      <th>0</th>\n",
       "      <td>1237648722306924571</td>\n",
       "      <td>185.574486</td>\n",
       "      <td>0.701402</td>\n",
       "      <td>19.11034</td>\n",
       "      <td>17.62099</td>\n",
       "      <td>17.03464</td>\n",
       "      <td>16.82993</td>\n",
       "      <td>16.71711</td>\n",
       "      <td>756</td>\n",
       "      <td>5</td>\n",
       "      <td>466</td>\n",
       "      <td>0.864145</td>\n",
       "      <td>1</td>\n",
       "      <td>STAR</td>\n",
       "      <td>8.780529e-05</td>\n",
       "      <td>54140</td>\n",
       "      <td>0.002418</td>\n",
       "      <td>0.001363</td>\n",
       "    </tr>\n",
       "    <tr>\n",
       "      <th>1</th>\n",
       "      <td>1237648720167436418</td>\n",
       "      <td>203.801841</td>\n",
       "      <td>-0.853906</td>\n",
       "      <td>18.90957</td>\n",
       "      <td>17.62940</td>\n",
       "      <td>17.01465</td>\n",
       "      <td>16.62059</td>\n",
       "      <td>16.35239</td>\n",
       "      <td>756</td>\n",
       "      <td>1</td>\n",
       "      <td>588</td>\n",
       "      <td>0.816541</td>\n",
       "      <td>1</td>\n",
       "      <td>GALAXY</td>\n",
       "      <td>8.619995e-02</td>\n",
       "      <td>51955</td>\n",
       "      <td>0.008650</td>\n",
       "      <td>0.007056</td>\n",
       "    </tr>\n",
       "    <tr>\n",
       "      <th>2</th>\n",
       "      <td>1237648720685105352</td>\n",
       "      <td>160.034264</td>\n",
       "      <td>-0.421626</td>\n",
       "      <td>19.26340</td>\n",
       "      <td>17.67693</td>\n",
       "      <td>16.82551</td>\n",
       "      <td>16.42307</td>\n",
       "      <td>16.13864</td>\n",
       "      <td>756</td>\n",
       "      <td>2</td>\n",
       "      <td>295</td>\n",
       "      <td>0.870381</td>\n",
       "      <td>1</td>\n",
       "      <td>GALAXY</td>\n",
       "      <td>1.330486e-01</td>\n",
       "      <td>51913</td>\n",
       "      <td>0.003938</td>\n",
       "      <td>-0.002028</td>\n",
       "    </tr>\n",
       "    <tr>\n",
       "      <th>3</th>\n",
       "      <td>1237648703510937836</td>\n",
       "      <td>200.807373</td>\n",
       "      <td>-0.682024</td>\n",
       "      <td>18.82022</td>\n",
       "      <td>17.77765</td>\n",
       "      <td>17.38575</td>\n",
       "      <td>17.11128</td>\n",
       "      <td>16.93540</td>\n",
       "      <td>752</td>\n",
       "      <td>2</td>\n",
       "      <td>382</td>\n",
       "      <td>0.867801</td>\n",
       "      <td>1</td>\n",
       "      <td>GALAXY</td>\n",
       "      <td>8.636355e-02</td>\n",
       "      <td>51959</td>\n",
       "      <td>0.001839</td>\n",
       "      <td>0.001160</td>\n",
       "    </tr>\n",
       "    <tr>\n",
       "      <th>4</th>\n",
       "      <td>1237648720161275992</td>\n",
       "      <td>189.792404</td>\n",
       "      <td>-1.001480</td>\n",
       "      <td>18.91391</td>\n",
       "      <td>19.05355</td>\n",
       "      <td>19.46278</td>\n",
       "      <td>19.75660</td>\n",
       "      <td>20.09613</td>\n",
       "      <td>756</td>\n",
       "      <td>1</td>\n",
       "      <td>494</td>\n",
       "      <td>0.833824</td>\n",
       "      <td>1</td>\n",
       "      <td>STAR</td>\n",
       "      <td>-4.090000e-08</td>\n",
       "      <td>54562</td>\n",
       "      <td>0.001929</td>\n",
       "      <td>-0.000465</td>\n",
       "    </tr>\n",
       "    <tr>\n",
       "      <th>...</th>\n",
       "      <td>...</td>\n",
       "      <td>...</td>\n",
       "      <td>...</td>\n",
       "      <td>...</td>\n",
       "      <td>...</td>\n",
       "      <td>...</td>\n",
       "      <td>...</td>\n",
       "      <td>...</td>\n",
       "      <td>...</td>\n",
       "      <td>...</td>\n",
       "      <td>...</td>\n",
       "      <td>...</td>\n",
       "      <td>...</td>\n",
       "      <td>...</td>\n",
       "      <td>...</td>\n",
       "      <td>...</td>\n",
       "      <td>...</td>\n",
       "      <td>...</td>\n",
       "    </tr>\n",
       "    <tr>\n",
       "      <th>3995</th>\n",
       "      <td>1237648720690741273</td>\n",
       "      <td>172.826005</td>\n",
       "      <td>-0.484303</td>\n",
       "      <td>18.81890</td>\n",
       "      <td>17.89273</td>\n",
       "      <td>17.54372</td>\n",
       "      <td>17.41363</td>\n",
       "      <td>17.31821</td>\n",
       "      <td>756</td>\n",
       "      <td>2</td>\n",
       "      <td>381</td>\n",
       "      <td>0.887803</td>\n",
       "      <td>1</td>\n",
       "      <td>STAR</td>\n",
       "      <td>1.521540e-04</td>\n",
       "      <td>54891</td>\n",
       "      <td>0.000675</td>\n",
       "      <td>0.000324</td>\n",
       "    </tr>\n",
       "    <tr>\n",
       "      <th>3996</th>\n",
       "      <td>1237649918427267086</td>\n",
       "      <td>11.165126</td>\n",
       "      <td>13.745240</td>\n",
       "      <td>17.46665</td>\n",
       "      <td>15.96142</td>\n",
       "      <td>15.36014</td>\n",
       "      <td>15.14572</td>\n",
       "      <td>15.04453</td>\n",
       "      <td>1035</td>\n",
       "      <td>1</td>\n",
       "      <td>38</td>\n",
       "      <td>0.844826</td>\n",
       "      <td>1</td>\n",
       "      <td>STAR</td>\n",
       "      <td>4.182837e-05</td>\n",
       "      <td>53242</td>\n",
       "      <td>-0.000440</td>\n",
       "      <td>-0.000301</td>\n",
       "    </tr>\n",
       "    <tr>\n",
       "      <th>3997</th>\n",
       "      <td>1237648720164684046</td>\n",
       "      <td>197.579529</td>\n",
       "      <td>-0.971573</td>\n",
       "      <td>19.45682</td>\n",
       "      <td>18.32555</td>\n",
       "      <td>17.86916</td>\n",
       "      <td>17.57512</td>\n",
       "      <td>17.41648</td>\n",
       "      <td>756</td>\n",
       "      <td>1</td>\n",
       "      <td>546</td>\n",
       "      <td>0.819151</td>\n",
       "      <td>1</td>\n",
       "      <td>GALAXY</td>\n",
       "      <td>8.160563e-02</td>\n",
       "      <td>51985</td>\n",
       "      <td>0.011348</td>\n",
       "      <td>0.005854</td>\n",
       "    </tr>\n",
       "    <tr>\n",
       "      <th>3998</th>\n",
       "      <td>1237648721206575779</td>\n",
       "      <td>124.877626</td>\n",
       "      <td>-0.048110</td>\n",
       "      <td>19.20158</td>\n",
       "      <td>17.31450</td>\n",
       "      <td>16.36573</td>\n",
       "      <td>15.91760</td>\n",
       "      <td>15.57736</td>\n",
       "      <td>756</td>\n",
       "      <td>3</td>\n",
       "      <td>60</td>\n",
       "      <td>0.894044</td>\n",
       "      <td>1</td>\n",
       "      <td>GALAXY</td>\n",
       "      <td>8.744828e-02</td>\n",
       "      <td>55888</td>\n",
       "      <td>-0.004486</td>\n",
       "      <td>-0.006072</td>\n",
       "    </tr>\n",
       "    <tr>\n",
       "      <th>3999</th>\n",
       "      <td>1237648720161800205</td>\n",
       "      <td>190.920230</td>\n",
       "      <td>-0.972532</td>\n",
       "      <td>17.63725</td>\n",
       "      <td>16.65544</td>\n",
       "      <td>16.29970</td>\n",
       "      <td>16.14733</td>\n",
       "      <td>16.09544</td>\n",
       "      <td>756</td>\n",
       "      <td>1</td>\n",
       "      <td>502</td>\n",
       "      <td>0.845173</td>\n",
       "      <td>1</td>\n",
       "      <td>STAR</td>\n",
       "      <td>2.131280e-04</td>\n",
       "      <td>51928</td>\n",
       "      <td>0.001372</td>\n",
       "      <td>0.000094</td>\n",
       "    </tr>\n",
       "  </tbody>\n",
       "</table>\n",
       "<p>4000 rows × 18 columns</p>\n",
       "</div>"
      ],
      "text/plain": [
       "                    objid          ra        dec         u         g  \\\n",
       "0     1237648722306924571  185.574486   0.701402  19.11034  17.62099   \n",
       "1     1237648720167436418  203.801841  -0.853906  18.90957  17.62940   \n",
       "2     1237648720685105352  160.034264  -0.421626  19.26340  17.67693   \n",
       "3     1237648703510937836  200.807373  -0.682024  18.82022  17.77765   \n",
       "4     1237648720161275992  189.792404  -1.001480  18.91391  19.05355   \n",
       "...                   ...         ...        ...       ...       ...   \n",
       "3995  1237648720690741273  172.826005  -0.484303  18.81890  17.89273   \n",
       "3996  1237649918427267086   11.165126  13.745240  17.46665  15.96142   \n",
       "3997  1237648720164684046  197.579529  -0.971573  19.45682  18.32555   \n",
       "3998  1237648721206575779  124.877626  -0.048110  19.20158  17.31450   \n",
       "3999  1237648720161800205  190.920230  -0.972532  17.63725  16.65544   \n",
       "\n",
       "             r         i         z   run  camcol  field     score  clean  \\\n",
       "0     17.03464  16.82993  16.71711   756       5    466  0.864145      1   \n",
       "1     17.01465  16.62059  16.35239   756       1    588  0.816541      1   \n",
       "2     16.82551  16.42307  16.13864   756       2    295  0.870381      1   \n",
       "3     17.38575  17.11128  16.93540   752       2    382  0.867801      1   \n",
       "4     19.46278  19.75660  20.09613   756       1    494  0.833824      1   \n",
       "...        ...       ...       ...   ...     ...    ...       ...    ...   \n",
       "3995  17.54372  17.41363  17.31821   756       2    381  0.887803      1   \n",
       "3996  15.36014  15.14572  15.04453  1035       1     38  0.844826      1   \n",
       "3997  17.86916  17.57512  17.41648   756       1    546  0.819151      1   \n",
       "3998  16.36573  15.91760  15.57736   756       3     60  0.894044      1   \n",
       "3999  16.29970  16.14733  16.09544   756       1    502  0.845173      1   \n",
       "\n",
       "       class      redshift    mjd      rowv      colv  \n",
       "0       STAR  8.780529e-05  54140  0.002418  0.001363  \n",
       "1     GALAXY  8.619995e-02  51955  0.008650  0.007056  \n",
       "2     GALAXY  1.330486e-01  51913  0.003938 -0.002028  \n",
       "3     GALAXY  8.636355e-02  51959  0.001839  0.001160  \n",
       "4       STAR -4.090000e-08  54562  0.001929 -0.000465  \n",
       "...      ...           ...    ...       ...       ...  \n",
       "3995    STAR  1.521540e-04  54891  0.000675  0.000324  \n",
       "3996    STAR  4.182837e-05  53242 -0.000440 -0.000301  \n",
       "3997  GALAXY  8.160563e-02  51985  0.011348  0.005854  \n",
       "3998  GALAXY  8.744828e-02  55888 -0.004486 -0.006072  \n",
       "3999    STAR  2.131280e-04  51928  0.001372  0.000094  \n",
       "\n",
       "[4000 rows x 18 columns]"
      ]
     },
     "execution_count": 12,
     "metadata": {},
     "output_type": "execute_result"
    }
   ],
   "source": [
    "data_t"
   ]
  },
  {
   "cell_type": "markdown",
   "metadata": {},
   "source": [
    "## Entendimiento de los Datos\n",
    "\n",
    "Antes de comenzar a analizar los datos, es fundamental identificar cuáles son más importantes que otros.\n",
    "\n",
    "###  Variables Necesarias\n",
    "\n",
    "- **ra (Ascensión recta)**\n",
    "  - Indica la posición del objeto en el cielo.\n",
    "- **dec (Declinación)**\n",
    "  - Complementa la posición del objeto en coordenadas celestes.\n",
    "- **u, g, r, z, i (Magnitudes en diferentes filtros)**\n",
    "  - Permiten clasificar y caracterizar los objetos en función de su emisión de luz en distintos rangos de longitud de onda.\n",
    "  - Son fundamentales para estimar redshifts fotométricos si se quiere hacer una estimación sin espectroscopía.\n",
    "- **class**\n",
    "  - Indica si el objeto es una estrella (**STAR**), una galaxia (**GALAXY**) o un cuásar (**QSO**).\n",
    "  - Importante porque el redshift se aplica principalmente a galaxias y cuásares.\n",
    "- **redshift**\n",
    "  - Es el valor clave de estudio, ya que representa el corrimiento al rojo del objeto.\n",
    "\n",
    "\n",
    "###  Variables no necesarias\n",
    "\n",
    "- **mjd (Día juliano)**\n",
    "  - Puede ser útil si se estudian variaciones en observaciones a lo largo del tiempo.\n",
    "- **run**\n",
    "    - Es la cantidad de observaciones realizadas por el telescopio pero en este caso no es importante\n",
    "- **camcol**\n",
    "    - Columna de la cámara en la que se registró el objeto. Se reviso la correlacion lineal pero fue muy bajo tambien por eso se descarto esto.     \n",
    " - **field**\n",
    "    - Sección de la columna de la cámara en la que se registró el objeto. Ya que Camcol no la tomamos importante esta tampoco para el analisis      \n",
    "- **score**\n",
    "  - Indica la calidad de la observación. Podría ser útil para filtrar datos de baja calidad.\n",
    "- **clean**\n",
    "  - También puede ayudar a filtrar observaciones con problemas en la fotometría.\n",
    "- **rowv y colv**\n",
    "  - Indican velocidades en grados/día, que pueden ser útiles si se quiere analizar movimiento propio, pero no son necesarias para un análisis del redshift.\n",
    "\n",
    "\n"
   ]
  },
  {
   "cell_type": "code",
   "execution_count": 13,
   "metadata": {},
   "outputs": [
    {
     "data": {
      "text/html": [
       "<div>\n",
       "<style scoped>\n",
       "    .dataframe tbody tr th:only-of-type {\n",
       "        vertical-align: middle;\n",
       "    }\n",
       "\n",
       "    .dataframe tbody tr th {\n",
       "        vertical-align: top;\n",
       "    }\n",
       "\n",
       "    .dataframe thead th {\n",
       "        text-align: right;\n",
       "    }\n",
       "</style>\n",
       "<table border=\"1\" class=\"dataframe\">\n",
       "  <thead>\n",
       "    <tr style=\"text-align: right;\">\n",
       "      <th></th>\n",
       "      <th>objid</th>\n",
       "      <th>ra</th>\n",
       "      <th>dec</th>\n",
       "      <th>u</th>\n",
       "      <th>g</th>\n",
       "      <th>r</th>\n",
       "      <th>i</th>\n",
       "      <th>z</th>\n",
       "      <th>run</th>\n",
       "      <th>camcol</th>\n",
       "      <th>field</th>\n",
       "      <th>score</th>\n",
       "      <th>clean</th>\n",
       "      <th>class</th>\n",
       "      <th>redshift</th>\n",
       "      <th>mjd</th>\n",
       "      <th>rowv</th>\n",
       "      <th>colv</th>\n",
       "    </tr>\n",
       "  </thead>\n",
       "  <tbody>\n",
       "    <tr>\n",
       "      <th>655</th>\n",
       "      <td>1237648675605381513</td>\n",
       "      <td>242.727899</td>\n",
       "      <td>1.120734</td>\n",
       "      <td>17.87721</td>\n",
       "      <td>16.59167</td>\n",
       "      <td>15.95641</td>\n",
       "      <td>15.56669</td>\n",
       "      <td>15.33162</td>\n",
       "      <td>745</td>\n",
       "      <td>6</td>\n",
       "      <td>561</td>\n",
       "      <td>0.335453</td>\n",
       "      <td>0</td>\n",
       "      <td>GALAXY</td>\n",
       "      <td>0.058042</td>\n",
       "      <td>51690</td>\n",
       "      <td>0.002712</td>\n",
       "      <td>-0.003092</td>\n",
       "    </tr>\n",
       "    <tr>\n",
       "      <th>844</th>\n",
       "      <td>1237648675605119520</td>\n",
       "      <td>242.186567</td>\n",
       "      <td>1.078929</td>\n",
       "      <td>18.87871</td>\n",
       "      <td>17.66926</td>\n",
       "      <td>17.05803</td>\n",
       "      <td>16.73153</td>\n",
       "      <td>16.41729</td>\n",
       "      <td>745</td>\n",
       "      <td>6</td>\n",
       "      <td>557</td>\n",
       "      <td>0.337165</td>\n",
       "      <td>0</td>\n",
       "      <td>GALAXY</td>\n",
       "      <td>0.027761</td>\n",
       "      <td>51690</td>\n",
       "      <td>-0.018714</td>\n",
       "      <td>-0.005424</td>\n",
       "    </tr>\n",
       "    <tr>\n",
       "      <th>1430</th>\n",
       "      <td>1237648675606691884</td>\n",
       "      <td>245.663603</td>\n",
       "      <td>1.247618</td>\n",
       "      <td>18.91944</td>\n",
       "      <td>17.80179</td>\n",
       "      <td>17.39375</td>\n",
       "      <td>17.17265</td>\n",
       "      <td>17.08438</td>\n",
       "      <td>745</td>\n",
       "      <td>6</td>\n",
       "      <td>581</td>\n",
       "      <td>0.360785</td>\n",
       "      <td>0</td>\n",
       "      <td>GALAXY</td>\n",
       "      <td>0.024527</td>\n",
       "      <td>52000</td>\n",
       "      <td>0.055092</td>\n",
       "      <td>-0.006479</td>\n",
       "    </tr>\n",
       "    <tr>\n",
       "      <th>2325</th>\n",
       "      <td>1237648675605119332</td>\n",
       "      <td>242.104730</td>\n",
       "      <td>1.107362</td>\n",
       "      <td>19.35062</td>\n",
       "      <td>17.90006</td>\n",
       "      <td>17.33493</td>\n",
       "      <td>16.98621</td>\n",
       "      <td>16.73307</td>\n",
       "      <td>745</td>\n",
       "      <td>6</td>\n",
       "      <td>557</td>\n",
       "      <td>0.337165</td>\n",
       "      <td>0</td>\n",
       "      <td>GALAXY</td>\n",
       "      <td>0.081448</td>\n",
       "      <td>51690</td>\n",
       "      <td>0.003924</td>\n",
       "      <td>0.012034</td>\n",
       "    </tr>\n",
       "    <tr>\n",
       "      <th>2388</th>\n",
       "      <td>1237648675605119699</td>\n",
       "      <td>242.103892</td>\n",
       "      <td>1.135321</td>\n",
       "      <td>19.51914</td>\n",
       "      <td>18.35248</td>\n",
       "      <td>17.83754</td>\n",
       "      <td>17.54294</td>\n",
       "      <td>17.34665</td>\n",
       "      <td>745</td>\n",
       "      <td>6</td>\n",
       "      <td>557</td>\n",
       "      <td>0.337165</td>\n",
       "      <td>0</td>\n",
       "      <td>GALAXY</td>\n",
       "      <td>0.055745</td>\n",
       "      <td>51690</td>\n",
       "      <td>0.033918</td>\n",
       "      <td>-0.009711</td>\n",
       "    </tr>\n",
       "    <tr>\n",
       "      <th>3213</th>\n",
       "      <td>1237648675605381419</td>\n",
       "      <td>242.690510</td>\n",
       "      <td>1.215066</td>\n",
       "      <td>18.75865</td>\n",
       "      <td>17.75045</td>\n",
       "      <td>17.32770</td>\n",
       "      <td>17.08130</td>\n",
       "      <td>16.96067</td>\n",
       "      <td>745</td>\n",
       "      <td>6</td>\n",
       "      <td>561</td>\n",
       "      <td>0.335453</td>\n",
       "      <td>0</td>\n",
       "      <td>GALAXY</td>\n",
       "      <td>0.027967</td>\n",
       "      <td>51690</td>\n",
       "      <td>0.030814</td>\n",
       "      <td>-0.010675</td>\n",
       "    </tr>\n",
       "    <tr>\n",
       "      <th>3229</th>\n",
       "      <td>1237648675604660569</td>\n",
       "      <td>241.079456</td>\n",
       "      <td>1.138517</td>\n",
       "      <td>17.79020</td>\n",
       "      <td>16.62802</td>\n",
       "      <td>16.15077</td>\n",
       "      <td>15.85967</td>\n",
       "      <td>15.65650</td>\n",
       "      <td>745</td>\n",
       "      <td>6</td>\n",
       "      <td>550</td>\n",
       "      <td>0.325931</td>\n",
       "      <td>0</td>\n",
       "      <td>GALAXY</td>\n",
       "      <td>0.048070</td>\n",
       "      <td>51693</td>\n",
       "      <td>-0.021055</td>\n",
       "      <td>-0.037280</td>\n",
       "    </tr>\n",
       "    <tr>\n",
       "      <th>3501</th>\n",
       "      <td>1237648675604201503</td>\n",
       "      <td>239.974598</td>\n",
       "      <td>1.080736</td>\n",
       "      <td>19.00193</td>\n",
       "      <td>17.77284</td>\n",
       "      <td>17.19768</td>\n",
       "      <td>16.95445</td>\n",
       "      <td>16.83185</td>\n",
       "      <td>745</td>\n",
       "      <td>6</td>\n",
       "      <td>543</td>\n",
       "      <td>0.317932</td>\n",
       "      <td>0</td>\n",
       "      <td>S</td>\n",
       "      <td>-0.000125</td>\n",
       "      <td>51692</td>\n",
       "      <td>0.002345</td>\n",
       "      <td>0.009297</td>\n",
       "    </tr>\n",
       "    <tr>\n",
       "      <th>3608</th>\n",
       "      <td>1237648675607019707</td>\n",
       "      <td>246.488344</td>\n",
       "      <td>1.182788</td>\n",
       "      <td>18.29642</td>\n",
       "      <td>17.28916</td>\n",
       "      <td>16.95478</td>\n",
       "      <td>16.80289</td>\n",
       "      <td>16.76402</td>\n",
       "      <td>745</td>\n",
       "      <td>6</td>\n",
       "      <td>586</td>\n",
       "      <td>0.360414</td>\n",
       "      <td>0</td>\n",
       "      <td>STAR</td>\n",
       "      <td>-0.000201</td>\n",
       "      <td>52000</td>\n",
       "      <td>0.000846</td>\n",
       "      <td>0.002011</td>\n",
       "    </tr>\n",
       "  </tbody>\n",
       "</table>\n",
       "</div>"
      ],
      "text/plain": [
       "                    objid          ra       dec         u         g         r  \\\n",
       "655   1237648675605381513  242.727899  1.120734  17.87721  16.59167  15.95641   \n",
       "844   1237648675605119520  242.186567  1.078929  18.87871  17.66926  17.05803   \n",
       "1430  1237648675606691884  245.663603  1.247618  18.91944  17.80179  17.39375   \n",
       "2325  1237648675605119332  242.104730  1.107362  19.35062  17.90006  17.33493   \n",
       "2388  1237648675605119699  242.103892  1.135321  19.51914  18.35248  17.83754   \n",
       "3213  1237648675605381419  242.690510  1.215066  18.75865  17.75045  17.32770   \n",
       "3229  1237648675604660569  241.079456  1.138517  17.79020  16.62802  16.15077   \n",
       "3501  1237648675604201503  239.974598  1.080736  19.00193  17.77284  17.19768   \n",
       "3608  1237648675607019707  246.488344  1.182788  18.29642  17.28916  16.95478   \n",
       "\n",
       "             i         z  run  camcol  field     score  clean   class  \\\n",
       "655   15.56669  15.33162  745       6    561  0.335453      0  GALAXY   \n",
       "844   16.73153  16.41729  745       6    557  0.337165      0  GALAXY   \n",
       "1430  17.17265  17.08438  745       6    581  0.360785      0  GALAXY   \n",
       "2325  16.98621  16.73307  745       6    557  0.337165      0  GALAXY   \n",
       "2388  17.54294  17.34665  745       6    557  0.337165      0  GALAXY   \n",
       "3213  17.08130  16.96067  745       6    561  0.335453      0  GALAXY   \n",
       "3229  15.85967  15.65650  745       6    550  0.325931      0  GALAXY   \n",
       "3501  16.95445  16.83185  745       6    543  0.317932      0       S   \n",
       "3608  16.80289  16.76402  745       6    586  0.360414      0    STAR   \n",
       "\n",
       "      redshift    mjd      rowv      colv  \n",
       "655   0.058042  51690  0.002712 -0.003092  \n",
       "844   0.027761  51690 -0.018714 -0.005424  \n",
       "1430  0.024527  52000  0.055092 -0.006479  \n",
       "2325  0.081448  51690  0.003924  0.012034  \n",
       "2388  0.055745  51690  0.033918 -0.009711  \n",
       "3213  0.027967  51690  0.030814 -0.010675  \n",
       "3229  0.048070  51693 -0.021055 -0.037280  \n",
       "3501 -0.000125  51692  0.002345  0.009297  \n",
       "3608 -0.000201  52000  0.000846  0.002011  "
      ]
     },
     "execution_count": 13,
     "metadata": {},
     "output_type": "execute_result"
    }
   ],
   "source": [
    "outliers3 = data_t[(data_t['score'] < 0.4) & (data_t[\"clean\"] == 0)]\n",
    "outliers3\n"
   ]
  },
  {
   "cell_type": "code",
   "execution_count": 14,
   "metadata": {},
   "outputs": [
    {
     "name": "stdout",
     "output_type": "stream",
     "text": [
      "Dimensiones de los datos:  (4000, 18) El primer valor corresponde a filas y el segundo a columnas\n"
     ]
    }
   ],
   "source": [
    "#Entendimiento del tamaño del data Set a ser manejado\n",
    "print('Dimensiones de los datos: ', data_t.shape, 'El primer valor corresponde a filas y el segundo a columnas')"
   ]
  },
  {
   "cell_type": "code",
   "execution_count": 15,
   "metadata": {},
   "outputs": [
    {
     "data": {
      "text/html": [
       "<div>\n",
       "<style scoped>\n",
       "    .dataframe tbody tr th:only-of-type {\n",
       "        vertical-align: middle;\n",
       "    }\n",
       "\n",
       "    .dataframe tbody tr th {\n",
       "        vertical-align: top;\n",
       "    }\n",
       "\n",
       "    .dataframe thead th {\n",
       "        text-align: right;\n",
       "    }\n",
       "</style>\n",
       "<table border=\"1\" class=\"dataframe\">\n",
       "  <thead>\n",
       "    <tr style=\"text-align: right;\">\n",
       "      <th></th>\n",
       "      <th>objid</th>\n",
       "      <th>ra</th>\n",
       "      <th>dec</th>\n",
       "      <th>u</th>\n",
       "      <th>g</th>\n",
       "      <th>r</th>\n",
       "      <th>i</th>\n",
       "      <th>z</th>\n",
       "      <th>run</th>\n",
       "      <th>camcol</th>\n",
       "      <th>field</th>\n",
       "      <th>score</th>\n",
       "      <th>clean</th>\n",
       "      <th>class</th>\n",
       "      <th>redshift</th>\n",
       "      <th>mjd</th>\n",
       "      <th>rowv</th>\n",
       "      <th>colv</th>\n",
       "    </tr>\n",
       "  </thead>\n",
       "  <tbody>\n",
       "    <tr>\n",
       "      <th>0</th>\n",
       "      <td>1237648722306924571</td>\n",
       "      <td>185.574486</td>\n",
       "      <td>0.701402</td>\n",
       "      <td>19.11034</td>\n",
       "      <td>17.62099</td>\n",
       "      <td>17.03464</td>\n",
       "      <td>16.82993</td>\n",
       "      <td>16.71711</td>\n",
       "      <td>756</td>\n",
       "      <td>5</td>\n",
       "      <td>466</td>\n",
       "      <td>0.864145</td>\n",
       "      <td>1</td>\n",
       "      <td>STAR</td>\n",
       "      <td>8.780529e-05</td>\n",
       "      <td>54140</td>\n",
       "      <td>0.002418</td>\n",
       "      <td>0.001363</td>\n",
       "    </tr>\n",
       "    <tr>\n",
       "      <th>1</th>\n",
       "      <td>1237648720167436418</td>\n",
       "      <td>203.801841</td>\n",
       "      <td>-0.853906</td>\n",
       "      <td>18.90957</td>\n",
       "      <td>17.62940</td>\n",
       "      <td>17.01465</td>\n",
       "      <td>16.62059</td>\n",
       "      <td>16.35239</td>\n",
       "      <td>756</td>\n",
       "      <td>1</td>\n",
       "      <td>588</td>\n",
       "      <td>0.816541</td>\n",
       "      <td>1</td>\n",
       "      <td>GALAXY</td>\n",
       "      <td>8.619995e-02</td>\n",
       "      <td>51955</td>\n",
       "      <td>0.008650</td>\n",
       "      <td>0.007056</td>\n",
       "    </tr>\n",
       "    <tr>\n",
       "      <th>2</th>\n",
       "      <td>1237648720685105352</td>\n",
       "      <td>160.034264</td>\n",
       "      <td>-0.421626</td>\n",
       "      <td>19.26340</td>\n",
       "      <td>17.67693</td>\n",
       "      <td>16.82551</td>\n",
       "      <td>16.42307</td>\n",
       "      <td>16.13864</td>\n",
       "      <td>756</td>\n",
       "      <td>2</td>\n",
       "      <td>295</td>\n",
       "      <td>0.870381</td>\n",
       "      <td>1</td>\n",
       "      <td>GALAXY</td>\n",
       "      <td>1.330486e-01</td>\n",
       "      <td>51913</td>\n",
       "      <td>0.003938</td>\n",
       "      <td>-0.002028</td>\n",
       "    </tr>\n",
       "    <tr>\n",
       "      <th>3</th>\n",
       "      <td>1237648703510937836</td>\n",
       "      <td>200.807373</td>\n",
       "      <td>-0.682024</td>\n",
       "      <td>18.82022</td>\n",
       "      <td>17.77765</td>\n",
       "      <td>17.38575</td>\n",
       "      <td>17.11128</td>\n",
       "      <td>16.93540</td>\n",
       "      <td>752</td>\n",
       "      <td>2</td>\n",
       "      <td>382</td>\n",
       "      <td>0.867801</td>\n",
       "      <td>1</td>\n",
       "      <td>GALAXY</td>\n",
       "      <td>8.636355e-02</td>\n",
       "      <td>51959</td>\n",
       "      <td>0.001839</td>\n",
       "      <td>0.001160</td>\n",
       "    </tr>\n",
       "    <tr>\n",
       "      <th>4</th>\n",
       "      <td>1237648720161275992</td>\n",
       "      <td>189.792404</td>\n",
       "      <td>-1.001480</td>\n",
       "      <td>18.91391</td>\n",
       "      <td>19.05355</td>\n",
       "      <td>19.46278</td>\n",
       "      <td>19.75660</td>\n",
       "      <td>20.09613</td>\n",
       "      <td>756</td>\n",
       "      <td>1</td>\n",
       "      <td>494</td>\n",
       "      <td>0.833824</td>\n",
       "      <td>1</td>\n",
       "      <td>STAR</td>\n",
       "      <td>-4.090000e-08</td>\n",
       "      <td>54562</td>\n",
       "      <td>0.001929</td>\n",
       "      <td>-0.000465</td>\n",
       "    </tr>\n",
       "    <tr>\n",
       "      <th>5</th>\n",
       "      <td>1237648720132178408</td>\n",
       "      <td>123.386052</td>\n",
       "      <td>-1.045499</td>\n",
       "      <td>18.52214</td>\n",
       "      <td>17.45173</td>\n",
       "      <td>17.23112</td>\n",
       "      <td>17.16427</td>\n",
       "      <td>17.13214</td>\n",
       "      <td>756</td>\n",
       "      <td>1</td>\n",
       "      <td>50</td>\n",
       "      <td>0.851417</td>\n",
       "      <td>1</td>\n",
       "      <td>STAR</td>\n",
       "      <td>1.190440e-05</td>\n",
       "      <td>53816</td>\n",
       "      <td>-0.002165</td>\n",
       "      <td>-0.000364</td>\n",
       "    </tr>\n",
       "    <tr>\n",
       "      <th>6</th>\n",
       "      <td>1237648720165863598</td>\n",
       "      <td>200.243728</td>\n",
       "      <td>-0.895931</td>\n",
       "      <td>18.09523</td>\n",
       "      <td>16.82764</td>\n",
       "      <td>16.18942</td>\n",
       "      <td>15.83503</td>\n",
       "      <td>15.58671</td>\n",
       "      <td>756</td>\n",
       "      <td>1</td>\n",
       "      <td>564</td>\n",
       "      <td>0.815295</td>\n",
       "      <td>0</td>\n",
       "      <td>GALAXY</td>\n",
       "      <td>4.815651e-02</td>\n",
       "      <td>51984</td>\n",
       "      <td>-0.011610</td>\n",
       "      <td>0.002361</td>\n",
       "    </tr>\n",
       "    <tr>\n",
       "      <th>7</th>\n",
       "      <td>1237648704054624442</td>\n",
       "      <td>216.256661</td>\n",
       "      <td>-0.220799</td>\n",
       "      <td>19.20765</td>\n",
       "      <td>18.73173</td>\n",
       "      <td>18.84302</td>\n",
       "      <td>18.98353</td>\n",
       "      <td>19.15128</td>\n",
       "      <td>752</td>\n",
       "      <td>3</td>\n",
       "      <td>486</td>\n",
       "      <td>0.804086</td>\n",
       "      <td>1</td>\n",
       "      <td>STAR</td>\n",
       "      <td>-2.234210e-04</td>\n",
       "      <td>51613</td>\n",
       "      <td>-0.002153</td>\n",
       "      <td>-0.001026</td>\n",
       "    </tr>\n",
       "    <tr>\n",
       "      <th>8</th>\n",
       "      <td>1237648722308890870</td>\n",
       "      <td>190.050847</td>\n",
       "      <td>0.695672</td>\n",
       "      <td>17.82951</td>\n",
       "      <td>15.90091</td>\n",
       "      <td>15.02515</td>\n",
       "      <td>14.61881</td>\n",
       "      <td>14.30353</td>\n",
       "      <td>756</td>\n",
       "      <td>5</td>\n",
       "      <td>496</td>\n",
       "      <td>0.822898</td>\n",
       "      <td>1</td>\n",
       "      <td>GALAXY</td>\n",
       "      <td>4.634102e-02</td>\n",
       "      <td>51941</td>\n",
       "      <td>-0.000474</td>\n",
       "      <td>-0.001548</td>\n",
       "    </tr>\n",
       "    <tr>\n",
       "      <th>9</th>\n",
       "      <td>1237648720163963081</td>\n",
       "      <td>195.951990</td>\n",
       "      <td>-0.966005</td>\n",
       "      <td>17.76132</td>\n",
       "      <td>16.51327</td>\n",
       "      <td>15.89811</td>\n",
       "      <td>15.53069</td>\n",
       "      <td>15.31236</td>\n",
       "      <td>756</td>\n",
       "      <td>1</td>\n",
       "      <td>535</td>\n",
       "      <td>0.811336</td>\n",
       "      <td>1</td>\n",
       "      <td>GALAXY</td>\n",
       "      <td>8.944633e-02</td>\n",
       "      <td>51986</td>\n",
       "      <td>0.000894</td>\n",
       "      <td>0.001024</td>\n",
       "    </tr>\n",
       "  </tbody>\n",
       "</table>\n",
       "</div>"
      ],
      "text/plain": [
       "                 objid          ra       dec         u         g         r  \\\n",
       "0  1237648722306924571  185.574486  0.701402  19.11034  17.62099  17.03464   \n",
       "1  1237648720167436418  203.801841 -0.853906  18.90957  17.62940  17.01465   \n",
       "2  1237648720685105352  160.034264 -0.421626  19.26340  17.67693  16.82551   \n",
       "3  1237648703510937836  200.807373 -0.682024  18.82022  17.77765  17.38575   \n",
       "4  1237648720161275992  189.792404 -1.001480  18.91391  19.05355  19.46278   \n",
       "5  1237648720132178408  123.386052 -1.045499  18.52214  17.45173  17.23112   \n",
       "6  1237648720165863598  200.243728 -0.895931  18.09523  16.82764  16.18942   \n",
       "7  1237648704054624442  216.256661 -0.220799  19.20765  18.73173  18.84302   \n",
       "8  1237648722308890870  190.050847  0.695672  17.82951  15.90091  15.02515   \n",
       "9  1237648720163963081  195.951990 -0.966005  17.76132  16.51327  15.89811   \n",
       "\n",
       "          i         z  run  camcol  field     score  clean   class  \\\n",
       "0  16.82993  16.71711  756       5    466  0.864145      1    STAR   \n",
       "1  16.62059  16.35239  756       1    588  0.816541      1  GALAXY   \n",
       "2  16.42307  16.13864  756       2    295  0.870381      1  GALAXY   \n",
       "3  17.11128  16.93540  752       2    382  0.867801      1  GALAXY   \n",
       "4  19.75660  20.09613  756       1    494  0.833824      1    STAR   \n",
       "5  17.16427  17.13214  756       1     50  0.851417      1    STAR   \n",
       "6  15.83503  15.58671  756       1    564  0.815295      0  GALAXY   \n",
       "7  18.98353  19.15128  752       3    486  0.804086      1    STAR   \n",
       "8  14.61881  14.30353  756       5    496  0.822898      1  GALAXY   \n",
       "9  15.53069  15.31236  756       1    535  0.811336      1  GALAXY   \n",
       "\n",
       "       redshift    mjd      rowv      colv  \n",
       "0  8.780529e-05  54140  0.002418  0.001363  \n",
       "1  8.619995e-02  51955  0.008650  0.007056  \n",
       "2  1.330486e-01  51913  0.003938 -0.002028  \n",
       "3  8.636355e-02  51959  0.001839  0.001160  \n",
       "4 -4.090000e-08  54562  0.001929 -0.000465  \n",
       "5  1.190440e-05  53816 -0.002165 -0.000364  \n",
       "6  4.815651e-02  51984 -0.011610  0.002361  \n",
       "7 -2.234210e-04  51613 -0.002153 -0.001026  \n",
       "8  4.634102e-02  51941 -0.000474 -0.001548  \n",
       "9  8.944633e-02  51986  0.000894  0.001024  "
      ]
     },
     "metadata": {},
     "output_type": "display_data"
    }
   ],
   "source": [
    "# Visualizacion de los primeros 10 datos\n",
    "display(data_t.head(10))"
   ]
  },
  {
   "cell_type": "code",
   "execution_count": 16,
   "metadata": {},
   "outputs": [
    {
     "data": {
      "text/plain": [
       "objid         int64\n",
       "ra          float64\n",
       "dec         float64\n",
       "u           float64\n",
       "g           float64\n",
       "r           float64\n",
       "i           float64\n",
       "z           float64\n",
       "run           int64\n",
       "camcol        int64\n",
       "field         int64\n",
       "score       float64\n",
       "clean         int64\n",
       "class        object\n",
       "redshift    float64\n",
       "mjd           int64\n",
       "rowv        float64\n",
       "colv        float64\n",
       "dtype: object"
      ]
     },
     "execution_count": 16,
     "metadata": {},
     "output_type": "execute_result"
    }
   ],
   "source": [
    "# Imprimimos los diferentes tipos de las columnas\n",
    "data_t.dtypes"
   ]
  },
  {
   "cell_type": "code",
   "execution_count": 17,
   "metadata": {},
   "outputs": [
    {
     "name": "stdout",
     "output_type": "stream",
     "text": [
      "Index(['objid', 'ra', 'dec', 'u', 'g', 'r', 'i', 'z', 'run', 'camcol', 'field',\n",
      "       'score', 'clean', 'redshift', 'mjd', 'rowv', 'colv'],\n",
      "      dtype='object')\n"
     ]
    }
   ],
   "source": [
    "# Imprimir las columnas numericas\n",
    "columnasNumericas= data_t.select_dtypes(include=['int','float']).columns\n",
    "print(columnasNumericas)"
   ]
  },
  {
   "cell_type": "code",
   "execution_count": 18,
   "metadata": {},
   "outputs": [
    {
     "data": {
      "text/html": [
       "<div>\n",
       "<style scoped>\n",
       "    .dataframe tbody tr th:only-of-type {\n",
       "        vertical-align: middle;\n",
       "    }\n",
       "\n",
       "    .dataframe tbody tr th {\n",
       "        vertical-align: top;\n",
       "    }\n",
       "\n",
       "    .dataframe thead th {\n",
       "        text-align: right;\n",
       "    }\n",
       "</style>\n",
       "<table border=\"1\" class=\"dataframe\">\n",
       "  <thead>\n",
       "    <tr style=\"text-align: right;\">\n",
       "      <th></th>\n",
       "      <th>objid</th>\n",
       "      <th>ra</th>\n",
       "      <th>dec</th>\n",
       "      <th>u</th>\n",
       "      <th>g</th>\n",
       "      <th>r</th>\n",
       "      <th>i</th>\n",
       "      <th>z</th>\n",
       "      <th>run</th>\n",
       "      <th>camcol</th>\n",
       "      <th>field</th>\n",
       "      <th>score</th>\n",
       "      <th>clean</th>\n",
       "      <th>class</th>\n",
       "      <th>redshift</th>\n",
       "      <th>mjd</th>\n",
       "      <th>rowv</th>\n",
       "      <th>colv</th>\n",
       "    </tr>\n",
       "  </thead>\n",
       "  <tbody>\n",
       "    <tr>\n",
       "      <th>count</th>\n",
       "      <td>4.000000e+03</td>\n",
       "      <td>4000.000000</td>\n",
       "      <td>4000.000000</td>\n",
       "      <td>4000.000000</td>\n",
       "      <td>4000.000000</td>\n",
       "      <td>4000.000000</td>\n",
       "      <td>4000.000000</td>\n",
       "      <td>4000.000000</td>\n",
       "      <td>4000.000000</td>\n",
       "      <td>4000.00000</td>\n",
       "      <td>4000.000000</td>\n",
       "      <td>4000.000000</td>\n",
       "      <td>4000.000000</td>\n",
       "      <td>4000</td>\n",
       "      <td>4000.000000</td>\n",
       "      <td>4000.000000</td>\n",
       "      <td>4000.000000</td>\n",
       "      <td>4000.000000</td>\n",
       "    </tr>\n",
       "    <tr>\n",
       "      <th>unique</th>\n",
       "      <td>NaN</td>\n",
       "      <td>NaN</td>\n",
       "      <td>NaN</td>\n",
       "      <td>NaN</td>\n",
       "      <td>NaN</td>\n",
       "      <td>NaN</td>\n",
       "      <td>NaN</td>\n",
       "      <td>NaN</td>\n",
       "      <td>NaN</td>\n",
       "      <td>NaN</td>\n",
       "      <td>NaN</td>\n",
       "      <td>NaN</td>\n",
       "      <td>NaN</td>\n",
       "      <td>6</td>\n",
       "      <td>NaN</td>\n",
       "      <td>NaN</td>\n",
       "      <td>NaN</td>\n",
       "      <td>NaN</td>\n",
       "    </tr>\n",
       "    <tr>\n",
       "      <th>top</th>\n",
       "      <td>NaN</td>\n",
       "      <td>NaN</td>\n",
       "      <td>NaN</td>\n",
       "      <td>NaN</td>\n",
       "      <td>NaN</td>\n",
       "      <td>NaN</td>\n",
       "      <td>NaN</td>\n",
       "      <td>NaN</td>\n",
       "      <td>NaN</td>\n",
       "      <td>NaN</td>\n",
       "      <td>NaN</td>\n",
       "      <td>NaN</td>\n",
       "      <td>NaN</td>\n",
       "      <td>GALAXY</td>\n",
       "      <td>NaN</td>\n",
       "      <td>NaN</td>\n",
       "      <td>NaN</td>\n",
       "      <td>NaN</td>\n",
       "    </tr>\n",
       "    <tr>\n",
       "      <th>freq</th>\n",
       "      <td>NaN</td>\n",
       "      <td>NaN</td>\n",
       "      <td>NaN</td>\n",
       "      <td>NaN</td>\n",
       "      <td>NaN</td>\n",
       "      <td>NaN</td>\n",
       "      <td>NaN</td>\n",
       "      <td>NaN</td>\n",
       "      <td>NaN</td>\n",
       "      <td>NaN</td>\n",
       "      <td>NaN</td>\n",
       "      <td>NaN</td>\n",
       "      <td>NaN</td>\n",
       "      <td>1857</td>\n",
       "      <td>NaN</td>\n",
       "      <td>NaN</td>\n",
       "      <td>NaN</td>\n",
       "      <td>NaN</td>\n",
       "    </tr>\n",
       "    <tr>\n",
       "      <th>mean</th>\n",
       "      <td>1.237649e+18</td>\n",
       "      <td>185.523295</td>\n",
       "      <td>0.248959</td>\n",
       "      <td>18.609049</td>\n",
       "      <td>17.363397</td>\n",
       "      <td>16.839856</td>\n",
       "      <td>16.597712</td>\n",
       "      <td>16.439392</td>\n",
       "      <td>743.829000</td>\n",
       "      <td>3.37625</td>\n",
       "      <td>419.602000</td>\n",
       "      <td>0.851765</td>\n",
       "      <td>0.895500</td>\n",
       "      <td>NaN</td>\n",
       "      <td>0.134015</td>\n",
       "      <td>52957.124750</td>\n",
       "      <td>0.000218</td>\n",
       "      <td>-0.000090</td>\n",
       "    </tr>\n",
       "    <tr>\n",
       "      <th>std</th>\n",
       "      <td>4.244222e+11</td>\n",
       "      <td>41.689446</td>\n",
       "      <td>2.001075</td>\n",
       "      <td>0.839431</td>\n",
       "      <td>0.950964</td>\n",
       "      <td>1.055343</td>\n",
       "      <td>1.141252</td>\n",
       "      <td>1.190502</td>\n",
       "      <td>98.865936</td>\n",
       "      <td>1.69909</td>\n",
       "      <td>167.162063</td>\n",
       "      <td>0.071311</td>\n",
       "      <td>0.305946</td>\n",
       "      <td>NaN</td>\n",
       "      <td>0.379742</td>\n",
       "      <td>1601.148131</td>\n",
       "      <td>0.008794</td>\n",
       "      <td>0.007457</td>\n",
       "    </tr>\n",
       "    <tr>\n",
       "      <th>min</th>\n",
       "      <td>1.237646e+18</td>\n",
       "      <td>10.469743</td>\n",
       "      <td>-1.252763</td>\n",
       "      <td>13.551780</td>\n",
       "      <td>12.974870</td>\n",
       "      <td>12.362850</td>\n",
       "      <td>12.010790</td>\n",
       "      <td>11.799530</td>\n",
       "      <td>211.000000</td>\n",
       "      <td>1.00000</td>\n",
       "      <td>19.000000</td>\n",
       "      <td>0.301912</td>\n",
       "      <td>0.000000</td>\n",
       "      <td>NaN</td>\n",
       "      <td>-0.003322</td>\n",
       "      <td>51608.000000</td>\n",
       "      <td>-0.264516</td>\n",
       "      <td>-0.168807</td>\n",
       "    </tr>\n",
       "    <tr>\n",
       "      <th>25%</th>\n",
       "      <td>1.237649e+18</td>\n",
       "      <td>162.474666</td>\n",
       "      <td>-0.631824</td>\n",
       "      <td>18.170375</td>\n",
       "      <td>16.796110</td>\n",
       "      <td>16.190785</td>\n",
       "      <td>15.870782</td>\n",
       "      <td>15.628205</td>\n",
       "      <td>752.000000</td>\n",
       "      <td>2.00000</td>\n",
       "      <td>311.000000</td>\n",
       "      <td>0.836866</td>\n",
       "      <td>1.000000</td>\n",
       "      <td>NaN</td>\n",
       "      <td>0.000106</td>\n",
       "      <td>51821.000000</td>\n",
       "      <td>-0.001212</td>\n",
       "      <td>-0.001609</td>\n",
       "    </tr>\n",
       "    <tr>\n",
       "      <th>50%</th>\n",
       "      <td>1.237649e+18</td>\n",
       "      <td>195.815451</td>\n",
       "      <td>0.053336</td>\n",
       "      <td>18.843745</td>\n",
       "      <td>17.472525</td>\n",
       "      <td>16.850835</td>\n",
       "      <td>16.571195</td>\n",
       "      <td>16.402665</td>\n",
       "      <td>756.000000</td>\n",
       "      <td>3.00000</td>\n",
       "      <td>434.000000</td>\n",
       "      <td>0.860675</td>\n",
       "      <td>1.000000</td>\n",
       "      <td>NaN</td>\n",
       "      <td>0.032038</td>\n",
       "      <td>51986.000000</td>\n",
       "      <td>0.000322</td>\n",
       "      <td>0.000125</td>\n",
       "    </tr>\n",
       "    <tr>\n",
       "      <th>75%</th>\n",
       "      <td>1.237649e+18</td>\n",
       "      <td>214.348425</td>\n",
       "      <td>0.593396</td>\n",
       "      <td>19.261563</td>\n",
       "      <td>17.997818</td>\n",
       "      <td>17.506640</td>\n",
       "      <td>17.258833</td>\n",
       "      <td>17.147037</td>\n",
       "      <td>756.000000</td>\n",
       "      <td>5.00000</td>\n",
       "      <td>527.000000</td>\n",
       "      <td>0.879834</td>\n",
       "      <td>1.000000</td>\n",
       "      <td>NaN</td>\n",
       "      <td>0.086479</td>\n",
       "      <td>54468.000000</td>\n",
       "      <td>0.001698</td>\n",
       "      <td>0.001672</td>\n",
       "    </tr>\n",
       "    <tr>\n",
       "      <th>max</th>\n",
       "      <td>1.237650e+18</td>\n",
       "      <td>249.758313</td>\n",
       "      <td>13.854010</td>\n",
       "      <td>19.599750</td>\n",
       "      <td>22.497450</td>\n",
       "      <td>22.265960</td>\n",
       "      <td>28.179630</td>\n",
       "      <td>20.847690</td>\n",
       "      <td>1035.000000</td>\n",
       "      <td>6.00000</td>\n",
       "      <td>812.000000</td>\n",
       "      <td>0.961145</td>\n",
       "      <td>1.000000</td>\n",
       "      <td>NaN</td>\n",
       "      <td>4.192597</td>\n",
       "      <td>58932.000000</td>\n",
       "      <td>0.181871</td>\n",
       "      <td>0.128814</td>\n",
       "    </tr>\n",
       "  </tbody>\n",
       "</table>\n",
       "</div>"
      ],
      "text/plain": [
       "               objid           ra          dec            u            g  \\\n",
       "count   4.000000e+03  4000.000000  4000.000000  4000.000000  4000.000000   \n",
       "unique           NaN          NaN          NaN          NaN          NaN   \n",
       "top              NaN          NaN          NaN          NaN          NaN   \n",
       "freq             NaN          NaN          NaN          NaN          NaN   \n",
       "mean    1.237649e+18   185.523295     0.248959    18.609049    17.363397   \n",
       "std     4.244222e+11    41.689446     2.001075     0.839431     0.950964   \n",
       "min     1.237646e+18    10.469743    -1.252763    13.551780    12.974870   \n",
       "25%     1.237649e+18   162.474666    -0.631824    18.170375    16.796110   \n",
       "50%     1.237649e+18   195.815451     0.053336    18.843745    17.472525   \n",
       "75%     1.237649e+18   214.348425     0.593396    19.261563    17.997818   \n",
       "max     1.237650e+18   249.758313    13.854010    19.599750    22.497450   \n",
       "\n",
       "                  r            i            z          run      camcol  \\\n",
       "count   4000.000000  4000.000000  4000.000000  4000.000000  4000.00000   \n",
       "unique          NaN          NaN          NaN          NaN         NaN   \n",
       "top             NaN          NaN          NaN          NaN         NaN   \n",
       "freq            NaN          NaN          NaN          NaN         NaN   \n",
       "mean      16.839856    16.597712    16.439392   743.829000     3.37625   \n",
       "std        1.055343     1.141252     1.190502    98.865936     1.69909   \n",
       "min       12.362850    12.010790    11.799530   211.000000     1.00000   \n",
       "25%       16.190785    15.870782    15.628205   752.000000     2.00000   \n",
       "50%       16.850835    16.571195    16.402665   756.000000     3.00000   \n",
       "75%       17.506640    17.258833    17.147037   756.000000     5.00000   \n",
       "max       22.265960    28.179630    20.847690  1035.000000     6.00000   \n",
       "\n",
       "              field        score        clean   class     redshift  \\\n",
       "count   4000.000000  4000.000000  4000.000000    4000  4000.000000   \n",
       "unique          NaN          NaN          NaN       6          NaN   \n",
       "top             NaN          NaN          NaN  GALAXY          NaN   \n",
       "freq            NaN          NaN          NaN    1857          NaN   \n",
       "mean     419.602000     0.851765     0.895500     NaN     0.134015   \n",
       "std      167.162063     0.071311     0.305946     NaN     0.379742   \n",
       "min       19.000000     0.301912     0.000000     NaN    -0.003322   \n",
       "25%      311.000000     0.836866     1.000000     NaN     0.000106   \n",
       "50%      434.000000     0.860675     1.000000     NaN     0.032038   \n",
       "75%      527.000000     0.879834     1.000000     NaN     0.086479   \n",
       "max      812.000000     0.961145     1.000000     NaN     4.192597   \n",
       "\n",
       "                 mjd         rowv         colv  \n",
       "count    4000.000000  4000.000000  4000.000000  \n",
       "unique           NaN          NaN          NaN  \n",
       "top              NaN          NaN          NaN  \n",
       "freq             NaN          NaN          NaN  \n",
       "mean    52957.124750     0.000218    -0.000090  \n",
       "std      1601.148131     0.008794     0.007457  \n",
       "min     51608.000000    -0.264516    -0.168807  \n",
       "25%     51821.000000    -0.001212    -0.001609  \n",
       "50%     51986.000000     0.000322     0.000125  \n",
       "75%     54468.000000     0.001698     0.001672  \n",
       "max     58932.000000     0.181871     0.128814  "
      ]
     },
     "execution_count": 18,
     "metadata": {},
     "output_type": "execute_result"
    }
   ],
   "source": [
    "data_t.describe( include='all')"
   ]
  },
  {
   "cell_type": "markdown",
   "metadata": {},
   "source": [
    "### Ahora vamos a empezar a revisar los datos que se encuentran mal de cada columna en base a sus datos para ver si se pueden corregir o deben de ser eliminados"
   ]
  },
  {
   "cell_type": "code",
   "execution_count": 19,
   "metadata": {},
   "outputs": [
    {
     "data": {
      "text/plain": [
       "objid       0\n",
       "ra          0\n",
       "dec         0\n",
       "u           0\n",
       "g           0\n",
       "r           0\n",
       "i           0\n",
       "z           0\n",
       "run         0\n",
       "camcol      0\n",
       "field       0\n",
       "score       0\n",
       "clean       0\n",
       "class       0\n",
       "redshift    0\n",
       "mjd         0\n",
       "rowv        0\n",
       "colv        0\n",
       "dtype: int64"
      ]
     },
     "execution_count": 19,
     "metadata": {},
     "output_type": "execute_result"
    }
   ],
   "source": [
    "#Para empezar revisamos si hay valores nulos en el dataset, pero no se encuentran datos nulos\n",
    "data_t.isnull().sum()"
   ]
  },
  {
   "cell_type": "code",
   "execution_count": 20,
   "metadata": {},
   "outputs": [
    {
     "name": "stdout",
     "output_type": "stream",
     "text": [
      "Total de filas duplicadas: 17\n"
     ]
    }
   ],
   "source": [
    "# Ver las filas duplicadas\n",
    "duplicados = data_t[data_t.duplicated()]\n",
    "\n",
    "# Para ver tanto las filas originales como sus duplicados:\n",
    "duplicados_todos = data_t[data_t.duplicated(keep=False)]\n",
    "\n",
    "# Para ver cuántas filas duplicadas hay:\n",
    "num_duplicados = data_t.duplicated().sum()\n",
    "\n",
    "# Para ver un resumen más detallado:\n",
    "print(f\"Total de filas duplicadas: {data_t.duplicated().sum()}\")\n"
   ]
  },
  {
   "cell_type": "markdown",
   "metadata": {},
   "source": [
    "### Revisando la Columna 'ra' la cual describe Ubicación del objeto en su componente de ascensión recta de coordenada celeste."
   ]
  },
  {
   "cell_type": "code",
   "execution_count": 21,
   "metadata": {},
   "outputs": [
    {
     "data": {
      "text/plain": [
       "count    4000.000000\n",
       "mean      185.523295\n",
       "std        41.689446\n",
       "min        10.469743\n",
       "25%       162.474666\n",
       "50%       195.815451\n",
       "75%       214.348425\n",
       "max       249.758313\n",
       "Name: ra, dtype: float64"
      ]
     },
     "execution_count": 21,
     "metadata": {},
     "output_type": "execute_result"
    }
   ],
   "source": [
    "data['ra'].describe()"
   ]
  },
  {
   "cell_type": "code",
   "execution_count": 22,
   "metadata": {},
   "outputs": [
    {
     "data": {
      "text/plain": [
       "0"
      ]
     },
     "execution_count": 22,
     "metadata": {},
     "output_type": "execute_result"
    }
   ],
   "source": [
    "#Revisar si hay datos Nulos en la columna ra\n",
    "data['ra'].isna().sum()"
   ]
  },
  {
   "cell_type": "code",
   "execution_count": 23,
   "metadata": {},
   "outputs": [
    {
     "name": "stdout",
     "output_type": "stream",
     "text": [
      "Empty DataFrame\n",
      "Columns: [objid, ra, dec, u, g, r, i, z, run, camcol, field, score, clean, class, redshift, mjd, rowv, colv]\n",
      "Index: []\n"
     ]
    }
   ],
   "source": [
    "# Ya que Ra describe la ubicación del objeto en su componente de ascensión recta de coordenada celeste. Este valor debe de estar entre 0 y 360 grados.\n",
    "df_out_rango = data_t[(data_t[\"ra\"] < 0) | (data_t[\"ra\"] > 360)]\n",
    "print(df_out_rango)"
   ]
  },
  {
   "cell_type": "code",
   "execution_count": 24,
   "metadata": {},
   "outputs": [
    {
     "name": "stdout",
     "output_type": "stream",
     "text": [
      "162.474665625 214.348425475 51.87375985\n",
      "84.66402585 292.15906525\n"
     ]
    },
    {
     "data": {
      "image/png": "[encoded data removed]",
      "text/plain": [
       "<Figure size 640x480 with 1 Axes>"
      ]
     },
     "metadata": {},
     "output_type": "display_data"
    }
   ],
   "source": [
    "#Revisamos si se encuentra dentro del rango intercuartil, los valores que se encuentren por fuera de esto son outlayers [Q1−1.5×IQR,Q3+1.5×IQR]\n",
    "\n",
    "Q1 = data_t['ra'].quantile(0.25)\n",
    "Q3 = data_t['ra'].quantile(0.75)\n",
    "IQR = Q3 - Q1\n",
    "\n",
    "lower_bound = Q1 - 1.5 * IQR\n",
    "upper_bound = Q3 + 1.5 * IQR\n",
    "print(Q1,Q3,IQR)\n",
    "print(lower_bound,upper_bound) \n",
    " \n",
    "outliers = data_t[(data_t['ra'] < lower_bound) | (data_t['ra'] > upper_bound)]\n",
    "# print(outliers['ra'])\n",
    "outliers\n",
    "plt.boxplot(data_t['ra'])\n",
    "plt.title(\"Boxplot de la Ascensión Recta (ra)\")\n",
    "plt.ylabel(\"Ascensión Recta\")\n",
    "plt.show()"
   ]
  },
  {
   "cell_type": "markdown",
   "metadata": {},
   "source": [
    "PENDIENTE PONER EN TIPO MARKDOWN\n",
    "Distribución General:\n",
    "La mediana (línea naranja) se encuentra cerca del centro del cajón, indicando que la distribución no está demasiado sesgada.\n",
    "La mayoría de los datos se encuentran en el rango intercuartil (IQR), entre el primer y tercer cuartil.\n",
    "Valores Atípicos (Outliers):\n",
    "Se observan varios outliers en la parte inferior, lo que sugiere que hay valores significativamente bajos de ascensión recta en comparación con la mayoría de los datos.\n",
    "Algunos de estos valores están bastante lejos del límite inferior del bigote, indicando que podrían ser errores de medición o registros especiales que deben analizarse más a fondo.\n",
    "Límites de los Bigotes:\n",
    "El límite inferior del bigote está alrededor de 90 pero hay valores por debajo de 50, que se consideran atípicos según el método del IQR.\n",
    "El límite superior está alrededor de 250, sin outliers significativos en esta dirección, lo que sugiere que los valores altos no presentan anomalías."
   ]
  },
  {
   "cell_type": "code",
   "execution_count": 25,
   "metadata": {},
   "outputs": [
    {
     "data": {
      "image/png": "[encoded data removed]",
      "text/plain": [
       "<Figure size 800x500 with 1 Axes>"
      ]
     },
     "metadata": {},
     "output_type": "display_data"
    }
   ],
   "source": [
    "# Crear el histograma para visualizar la distribución de 'ra'\n",
    "plt.figure(figsize=(8, 5))\n",
    "plt.hist(data_t[\"ra\"], bins=20, edgecolor=\"black\", alpha=0.7, color=\"orange\")\n",
    "plt.xlabel(\"Ascensión Recta (ra)\")\n",
    "plt.ylabel(\"Frecuencia\")\n",
    "plt.title(\"Distribución de la Ascensión Recta\")\n",
    "plt.grid(axis=\"y\", linestyle=\"--\", alpha=0.7)\n",
    "\n",
    "plt.show()"
   ]
  },
  {
   "cell_type": "code",
   "execution_count": 26,
   "metadata": {},
   "outputs": [],
   "source": [
    "# for col in data_t.select_dtypes(include=['object']):\n",
    "#     print(f\"Valores únicos en {col}:\\n\", data_t[col].unique())"
   ]
  },
  {
   "cell_type": "markdown",
   "metadata": {},
   "source": [
    "## Columna dec\n",
    "Describe: Ubicación del objeto en su componente de declinación de coordenada celeste."
   ]
  },
  {
   "cell_type": "code",
   "execution_count": 27,
   "metadata": {},
   "outputs": [
    {
     "data": {
      "text/plain": [
       "count    4000.000000\n",
       "mean        0.248959\n",
       "std         2.001075\n",
       "min        -1.252763\n",
       "25%        -0.631824\n",
       "50%         0.053336\n",
       "75%         0.593396\n",
       "max        13.854010\n",
       "Name: dec, dtype: float64"
      ]
     },
     "execution_count": 27,
     "metadata": {},
     "output_type": "execute_result"
    }
   ],
   "source": [
    "data_t['dec'].describe()"
   ]
  },
  {
   "cell_type": "code",
   "execution_count": 28,
   "metadata": {},
   "outputs": [
    {
     "name": "stdout",
     "output_type": "stream",
     "text": [
      "Empty DataFrame\n",
      "Columns: [objid, ra, dec, u, g, r, i, z, run, camcol, field, score, clean, class, redshift, mjd, rowv, colv]\n",
      "Index: []\n"
     ]
    }
   ],
   "source": [
    "#Ya que Dec describe la ubicación del objeto en su componente de declinación de coordenada celeste. Este valor debe de estar entre -90 y 90 grados.\n",
    "out_rango = data_t[(data_t[\"dec\"] < -90) | (data_t[\"dec\"] > 90)]\n",
    "print(out_rango)"
   ]
  },
  {
   "cell_type": "code",
   "execution_count": 29,
   "metadata": {},
   "outputs": [
    {
     "name": "stdout",
     "output_type": "stream",
     "text": [
      "-0.631823884 0.59339562175 1.2252195057500002\n",
      "-2.4696531426250004 2.4312248803750003\n"
     ]
    },
    {
     "data": {
      "image/png": "[encoded data removed]",
      "text/plain": [
       "<Figure size 640x480 with 1 Axes>"
      ]
     },
     "metadata": {},
     "output_type": "display_data"
    }
   ],
   "source": [
    "Q1 = data_t['dec'].quantile(0.25)\n",
    "Q3 = data_t['dec'].quantile(0.75)\n",
    "IQR = Q3 - Q1\n",
    "\n",
    "lower_bound = Q1 - 1.5 * IQR\n",
    "upper_bound = Q3 + 1.5 * IQR\n",
    "print(Q1,Q3,IQR)\n",
    "print(lower_bound,upper_bound) \n",
    " \n",
    "outliers = data_t[(data_t['dec'] < lower_bound) | (data_t['dec'] > upper_bound)]\n",
    "# print(outliers['dec'])\n",
    "outliers\n",
    "plt.boxplot(data_t['dec'])\n",
    "plt.title(\"Boxplot de la Ascensión Recta (dec)\")\n",
    "plt.ylabel(\"Ascensión Recta\")\n",
    "plt.show()\n"
   ]
  },
  {
   "cell_type": "code",
   "execution_count": 30,
   "metadata": {},
   "outputs": [
    {
     "data": {
      "image/png": "[encoded data removed]",
      "text/plain": [
       "<Figure size 800x500 with 1 Axes>"
      ]
     },
     "metadata": {},
     "output_type": "display_data"
    }
   ],
   "source": [
    "plt.figure(figsize=(8, 5))\n",
    "plt.hist(data_t[\"dec\"], bins=20, edgecolor=\"black\", alpha=0.7, color=\"orange\")\n",
    "plt.xlabel(\"Ascensión Recta (dec)\")\n",
    "plt.ylabel(\"Frecuencia\")\n",
    "plt.title(\"Distribución de la Ascensión Recta\")\n",
    "plt.grid(axis=\"y\", linestyle=\"--\", alpha=0.7)\n",
    "\n",
    "plt.show()"
   ]
  },
  {
   "cell_type": "markdown",
   "metadata": {},
   "source": [
    "### Vamos a revisar ese dato que se sale de la asension de la recta normal"
   ]
  },
  {
   "cell_type": "code",
   "execution_count": 31,
   "metadata": {},
   "outputs": [
    {
     "data": {
      "text/html": [
       "<div>\n",
       "<style scoped>\n",
       "    .dataframe tbody tr th:only-of-type {\n",
       "        vertical-align: middle;\n",
       "    }\n",
       "\n",
       "    .dataframe tbody tr th {\n",
       "        vertical-align: top;\n",
       "    }\n",
       "\n",
       "    .dataframe thead th {\n",
       "        text-align: right;\n",
       "    }\n",
       "</style>\n",
       "<table border=\"1\" class=\"dataframe\">\n",
       "  <thead>\n",
       "    <tr style=\"text-align: right;\">\n",
       "      <th></th>\n",
       "      <th>objid</th>\n",
       "      <th>ra</th>\n",
       "      <th>dec</th>\n",
       "      <th>u</th>\n",
       "      <th>g</th>\n",
       "      <th>r</th>\n",
       "      <th>i</th>\n",
       "      <th>z</th>\n",
       "      <th>run</th>\n",
       "      <th>camcol</th>\n",
       "      <th>field</th>\n",
       "      <th>score</th>\n",
       "      <th>clean</th>\n",
       "      <th>class</th>\n",
       "      <th>redshift</th>\n",
       "      <th>mjd</th>\n",
       "      <th>rowv</th>\n",
       "      <th>colv</th>\n",
       "    </tr>\n",
       "  </thead>\n",
       "  <tbody>\n",
       "    <tr>\n",
       "      <th>29</th>\n",
       "      <td>1237649918428708879</td>\n",
       "      <td>14.607180</td>\n",
       "      <td>13.658038</td>\n",
       "      <td>16.82643</td>\n",
       "      <td>15.43794</td>\n",
       "      <td>14.98633</td>\n",
       "      <td>14.71074</td>\n",
       "      <td>14.70645</td>\n",
       "      <td>1035</td>\n",
       "      <td>1</td>\n",
       "      <td>60</td>\n",
       "      <td>0.837125</td>\n",
       "      <td>0</td>\n",
       "      <td>STAR</td>\n",
       "      <td>-0.000091</td>\n",
       "      <td>51821</td>\n",
       "      <td>0.001621</td>\n",
       "      <td>-0.005480</td>\n",
       "    </tr>\n",
       "    <tr>\n",
       "      <th>67</th>\n",
       "      <td>1237649918427529256</td>\n",
       "      <td>11.841490</td>\n",
       "      <td>13.758000</td>\n",
       "      <td>18.99192</td>\n",
       "      <td>17.76341</td>\n",
       "      <td>17.20069</td>\n",
       "      <td>16.95889</td>\n",
       "      <td>16.83418</td>\n",
       "      <td>1035</td>\n",
       "      <td>1</td>\n",
       "      <td>42</td>\n",
       "      <td>0.839663</td>\n",
       "      <td>1</td>\n",
       "      <td>STAR</td>\n",
       "      <td>-0.000242</td>\n",
       "      <td>54746</td>\n",
       "      <td>0.000861</td>\n",
       "      <td>0.000812</td>\n",
       "    </tr>\n",
       "    <tr>\n",
       "      <th>122</th>\n",
       "      <td>1237649918430675099</td>\n",
       "      <td>19.289872</td>\n",
       "      <td>13.307634</td>\n",
       "      <td>19.39130</td>\n",
       "      <td>17.31409</td>\n",
       "      <td>16.24925</td>\n",
       "      <td>15.80192</td>\n",
       "      <td>15.41582</td>\n",
       "      <td>1035</td>\n",
       "      <td>1</td>\n",
       "      <td>90</td>\n",
       "      <td>0.839906</td>\n",
       "      <td>1</td>\n",
       "      <td>GALAXY</td>\n",
       "      <td>0.122100</td>\n",
       "      <td>51821</td>\n",
       "      <td>0.001001</td>\n",
       "      <td>-0.000596</td>\n",
       "    </tr>\n",
       "    <tr>\n",
       "      <th>140</th>\n",
       "      <td>1237649918427463866</td>\n",
       "      <td>11.755019</td>\n",
       "      <td>13.699373</td>\n",
       "      <td>19.58155</td>\n",
       "      <td>18.49723</td>\n",
       "      <td>17.68913</td>\n",
       "      <td>17.24281</td>\n",
       "      <td>16.94974</td>\n",
       "      <td>1035</td>\n",
       "      <td>1</td>\n",
       "      <td>41</td>\n",
       "      <td>0.832880</td>\n",
       "      <td>1</td>\n",
       "      <td>GALAXY</td>\n",
       "      <td>0.166697</td>\n",
       "      <td>51879</td>\n",
       "      <td>-0.005315</td>\n",
       "      <td>-0.003441</td>\n",
       "    </tr>\n",
       "    <tr>\n",
       "      <th>189</th>\n",
       "      <td>1237649918427332774</td>\n",
       "      <td>11.414186</td>\n",
       "      <td>13.701465</td>\n",
       "      <td>18.42381</td>\n",
       "      <td>16.56606</td>\n",
       "      <td>15.62659</td>\n",
       "      <td>15.14680</td>\n",
       "      <td>14.78974</td>\n",
       "      <td>1035</td>\n",
       "      <td>1</td>\n",
       "      <td>39</td>\n",
       "      <td>0.847706</td>\n",
       "      <td>1</td>\n",
       "      <td>GALAXY</td>\n",
       "      <td>0.078500</td>\n",
       "      <td>51879</td>\n",
       "      <td>-0.005236</td>\n",
       "      <td>-0.003954</td>\n",
       "    </tr>\n",
       "    <tr>\n",
       "      <th>...</th>\n",
       "      <td>...</td>\n",
       "      <td>...</td>\n",
       "      <td>...</td>\n",
       "      <td>...</td>\n",
       "      <td>...</td>\n",
       "      <td>...</td>\n",
       "      <td>...</td>\n",
       "      <td>...</td>\n",
       "      <td>...</td>\n",
       "      <td>...</td>\n",
       "      <td>...</td>\n",
       "      <td>...</td>\n",
       "      <td>...</td>\n",
       "      <td>...</td>\n",
       "      <td>...</td>\n",
       "      <td>...</td>\n",
       "      <td>...</td>\n",
       "      <td>...</td>\n",
       "    </tr>\n",
       "    <tr>\n",
       "      <th>3654</th>\n",
       "      <td>1237649918427660313</td>\n",
       "      <td>12.091733</td>\n",
       "      <td>13.766811</td>\n",
       "      <td>17.67724</td>\n",
       "      <td>16.00506</td>\n",
       "      <td>15.37426</td>\n",
       "      <td>15.16362</td>\n",
       "      <td>15.06272</td>\n",
       "      <td>1035</td>\n",
       "      <td>1</td>\n",
       "      <td>44</td>\n",
       "      <td>0.832172</td>\n",
       "      <td>1</td>\n",
       "      <td>STAR</td>\n",
       "      <td>-0.000099</td>\n",
       "      <td>53242</td>\n",
       "      <td>-0.000196</td>\n",
       "      <td>-0.000026</td>\n",
       "    </tr>\n",
       "    <tr>\n",
       "      <th>3739</th>\n",
       "      <td>1237649918428119075</td>\n",
       "      <td>13.239400</td>\n",
       "      <td>13.802962</td>\n",
       "      <td>18.17234</td>\n",
       "      <td>16.91165</td>\n",
       "      <td>16.45018</td>\n",
       "      <td>16.23590</td>\n",
       "      <td>16.15311</td>\n",
       "      <td>1035</td>\n",
       "      <td>1</td>\n",
       "      <td>51</td>\n",
       "      <td>0.844826</td>\n",
       "      <td>1</td>\n",
       "      <td>STAR</td>\n",
       "      <td>-0.000237</td>\n",
       "      <td>51871</td>\n",
       "      <td>0.001060</td>\n",
       "      <td>0.002007</td>\n",
       "    </tr>\n",
       "    <tr>\n",
       "      <th>3759</th>\n",
       "      <td>1237649918431395974</td>\n",
       "      <td>20.967766</td>\n",
       "      <td>13.293768</td>\n",
       "      <td>18.24642</td>\n",
       "      <td>17.08067</td>\n",
       "      <td>16.65181</td>\n",
       "      <td>16.34302</td>\n",
       "      <td>16.19559</td>\n",
       "      <td>1035</td>\n",
       "      <td>1</td>\n",
       "      <td>101</td>\n",
       "      <td>0.827463</td>\n",
       "      <td>1</td>\n",
       "      <td>GALAXY</td>\n",
       "      <td>0.073396</td>\n",
       "      <td>51893</td>\n",
       "      <td>0.000133</td>\n",
       "      <td>0.002385</td>\n",
       "    </tr>\n",
       "    <tr>\n",
       "      <th>3883</th>\n",
       "      <td>1237649918427267203</td>\n",
       "      <td>11.165981</td>\n",
       "      <td>13.783440</td>\n",
       "      <td>19.52778</td>\n",
       "      <td>18.48113</td>\n",
       "      <td>18.06105</td>\n",
       "      <td>17.88715</td>\n",
       "      <td>17.78468</td>\n",
       "      <td>1035</td>\n",
       "      <td>1</td>\n",
       "      <td>38</td>\n",
       "      <td>0.844826</td>\n",
       "      <td>1</td>\n",
       "      <td>STAR</td>\n",
       "      <td>-0.000849</td>\n",
       "      <td>54746</td>\n",
       "      <td>-0.000632</td>\n",
       "      <td>-0.000024</td>\n",
       "    </tr>\n",
       "    <tr>\n",
       "      <th>3996</th>\n",
       "      <td>1237649918427267086</td>\n",
       "      <td>11.165126</td>\n",
       "      <td>13.745240</td>\n",
       "      <td>17.46665</td>\n",
       "      <td>15.96142</td>\n",
       "      <td>15.36014</td>\n",
       "      <td>15.14572</td>\n",
       "      <td>15.04453</td>\n",
       "      <td>1035</td>\n",
       "      <td>1</td>\n",
       "      <td>38</td>\n",
       "      <td>0.844826</td>\n",
       "      <td>1</td>\n",
       "      <td>STAR</td>\n",
       "      <td>0.000042</td>\n",
       "      <td>53242</td>\n",
       "      <td>-0.000440</td>\n",
       "      <td>-0.000301</td>\n",
       "    </tr>\n",
       "  </tbody>\n",
       "</table>\n",
       "<p>77 rows × 18 columns</p>\n",
       "</div>"
      ],
      "text/plain": [
       "                    objid         ra        dec         u         g         r  \\\n",
       "29    1237649918428708879  14.607180  13.658038  16.82643  15.43794  14.98633   \n",
       "67    1237649918427529256  11.841490  13.758000  18.99192  17.76341  17.20069   \n",
       "122   1237649918430675099  19.289872  13.307634  19.39130  17.31409  16.24925   \n",
       "140   1237649918427463866  11.755019  13.699373  19.58155  18.49723  17.68913   \n",
       "189   1237649918427332774  11.414186  13.701465  18.42381  16.56606  15.62659   \n",
       "...                   ...        ...        ...       ...       ...       ...   \n",
       "3654  1237649918427660313  12.091733  13.766811  17.67724  16.00506  15.37426   \n",
       "3739  1237649918428119075  13.239400  13.802962  18.17234  16.91165  16.45018   \n",
       "3759  1237649918431395974  20.967766  13.293768  18.24642  17.08067  16.65181   \n",
       "3883  1237649918427267203  11.165981  13.783440  19.52778  18.48113  18.06105   \n",
       "3996  1237649918427267086  11.165126  13.745240  17.46665  15.96142  15.36014   \n",
       "\n",
       "             i         z   run  camcol  field     score  clean   class  \\\n",
       "29    14.71074  14.70645  1035       1     60  0.837125      0    STAR   \n",
       "67    16.95889  16.83418  1035       1     42  0.839663      1    STAR   \n",
       "122   15.80192  15.41582  1035       1     90  0.839906      1  GALAXY   \n",
       "140   17.24281  16.94974  1035       1     41  0.832880      1  GALAXY   \n",
       "189   15.14680  14.78974  1035       1     39  0.847706      1  GALAXY   \n",
       "...        ...       ...   ...     ...    ...       ...    ...     ...   \n",
       "3654  15.16362  15.06272  1035       1     44  0.832172      1    STAR   \n",
       "3739  16.23590  16.15311  1035       1     51  0.844826      1    STAR   \n",
       "3759  16.34302  16.19559  1035       1    101  0.827463      1  GALAXY   \n",
       "3883  17.88715  17.78468  1035       1     38  0.844826      1    STAR   \n",
       "3996  15.14572  15.04453  1035       1     38  0.844826      1    STAR   \n",
       "\n",
       "      redshift    mjd      rowv      colv  \n",
       "29   -0.000091  51821  0.001621 -0.005480  \n",
       "67   -0.000242  54746  0.000861  0.000812  \n",
       "122   0.122100  51821  0.001001 -0.000596  \n",
       "140   0.166697  51879 -0.005315 -0.003441  \n",
       "189   0.078500  51879 -0.005236 -0.003954  \n",
       "...        ...    ...       ...       ...  \n",
       "3654 -0.000099  53242 -0.000196 -0.000026  \n",
       "3739 -0.000237  51871  0.001060  0.002007  \n",
       "3759  0.073396  51893  0.000133  0.002385  \n",
       "3883 -0.000849  54746 -0.000632 -0.000024  \n",
       "3996  0.000042  53242 -0.000440 -0.000301  \n",
       "\n",
       "[77 rows x 18 columns]"
      ]
     },
     "execution_count": 31,
     "metadata": {},
     "output_type": "execute_result"
    }
   ],
   "source": [
    "# Valores a revisar ya que son valores lejos del centro\n",
    "outliers2 = data_t[(data_t['dec'] > 10)]\n",
    "outliers2"
   ]
  },
  {
   "cell_type": "markdown",
   "metadata": {},
   "source": [
    "## Columna U\n",
    "Magnitud del objeto capturada en el filtro ultravioleta. Valor mayor a 0."
   ]
  },
  {
   "cell_type": "code",
   "execution_count": 32,
   "metadata": {},
   "outputs": [
    {
     "data": {
      "text/plain": [
       "count    4000.000000\n",
       "mean       18.609049\n",
       "std         0.839431\n",
       "min        13.551780\n",
       "25%        18.170375\n",
       "50%        18.843745\n",
       "75%        19.261563\n",
       "max        19.599750\n",
       "Name: u, dtype: float64"
      ]
     },
     "execution_count": 32,
     "metadata": {},
     "output_type": "execute_result"
    }
   ],
   "source": [
    "data_t['u'].describe()"
   ]
  },
  {
   "cell_type": "code",
   "execution_count": 33,
   "metadata": {},
   "outputs": [
    {
     "data": {
      "text/html": [
       "<div>\n",
       "<style scoped>\n",
       "    .dataframe tbody tr th:only-of-type {\n",
       "        vertical-align: middle;\n",
       "    }\n",
       "\n",
       "    .dataframe tbody tr th {\n",
       "        vertical-align: top;\n",
       "    }\n",
       "\n",
       "    .dataframe thead th {\n",
       "        text-align: right;\n",
       "    }\n",
       "</style>\n",
       "<table border=\"1\" class=\"dataframe\">\n",
       "  <thead>\n",
       "    <tr style=\"text-align: right;\">\n",
       "      <th></th>\n",
       "      <th>objid</th>\n",
       "      <th>ra</th>\n",
       "      <th>dec</th>\n",
       "      <th>u</th>\n",
       "      <th>g</th>\n",
       "      <th>r</th>\n",
       "      <th>i</th>\n",
       "      <th>z</th>\n",
       "      <th>run</th>\n",
       "      <th>camcol</th>\n",
       "      <th>field</th>\n",
       "      <th>score</th>\n",
       "      <th>clean</th>\n",
       "      <th>class</th>\n",
       "      <th>redshift</th>\n",
       "      <th>mjd</th>\n",
       "      <th>rowv</th>\n",
       "      <th>colv</th>\n",
       "    </tr>\n",
       "  </thead>\n",
       "  <tbody>\n",
       "  </tbody>\n",
       "</table>\n",
       "</div>"
      ],
      "text/plain": [
       "Empty DataFrame\n",
       "Columns: [objid, ra, dec, u, g, r, i, z, run, camcol, field, score, clean, class, redshift, mjd, rowv, colv]\n",
       "Index: []"
      ]
     },
     "execution_count": 33,
     "metadata": {},
     "output_type": "execute_result"
    }
   ],
   "source": [
    "# Revisamos si es que existen valores por debajo del 0 \n",
    "outliers = data_t[(data_t['u'] <= 0)]\n",
    "outliers"
   ]
  },
  {
   "cell_type": "code",
   "execution_count": 34,
   "metadata": {},
   "outputs": [
    {
     "data": {
      "text/html": [
       "<div>\n",
       "<style scoped>\n",
       "    .dataframe tbody tr th:only-of-type {\n",
       "        vertical-align: middle;\n",
       "    }\n",
       "\n",
       "    .dataframe tbody tr th {\n",
       "        vertical-align: top;\n",
       "    }\n",
       "\n",
       "    .dataframe thead th {\n",
       "        text-align: right;\n",
       "    }\n",
       "</style>\n",
       "<table border=\"1\" class=\"dataframe\">\n",
       "  <thead>\n",
       "    <tr style=\"text-align: right;\">\n",
       "      <th></th>\n",
       "      <th>objid</th>\n",
       "      <th>ra</th>\n",
       "      <th>dec</th>\n",
       "      <th>u</th>\n",
       "      <th>g</th>\n",
       "      <th>r</th>\n",
       "      <th>i</th>\n",
       "      <th>z</th>\n",
       "      <th>run</th>\n",
       "      <th>camcol</th>\n",
       "      <th>field</th>\n",
       "      <th>score</th>\n",
       "      <th>clean</th>\n",
       "      <th>class</th>\n",
       "      <th>redshift</th>\n",
       "      <th>mjd</th>\n",
       "      <th>rowv</th>\n",
       "      <th>colv</th>\n",
       "    </tr>\n",
       "  </thead>\n",
       "  <tbody>\n",
       "  </tbody>\n",
       "</table>\n",
       "</div>"
      ],
      "text/plain": [
       "Empty DataFrame\n",
       "Columns: [objid, ra, dec, u, g, r, i, z, run, camcol, field, score, clean, class, redshift, mjd, rowv, colv]\n",
       "Index: []"
      ]
     },
     "execution_count": 34,
     "metadata": {},
     "output_type": "execute_result"
    }
   ],
   "source": [
    "# Revisamos si es que existen valores por encima de 30, pq Normalmente, las magnitudes de objetos astronómicos en el filtro ultravioleta están en un rango entre -5 y 25.\n",
    "outliers = data_t[(data_t['u'] > 30)]\n",
    "outliers"
   ]
  },
  {
   "cell_type": "code",
   "execution_count": 35,
   "metadata": {},
   "outputs": [
    {
     "name": "stdout",
     "output_type": "stream",
     "text": [
      "18.170375 19.2615625 1.0911875000000002\n",
      "16.53359375 20.898343750000002\n"
     ]
    },
    {
     "data": {
      "image/png": "[encoded data removed]",
      "text/plain": [
       "<Figure size 640x480 with 1 Axes>"
      ]
     },
     "metadata": {},
     "output_type": "display_data"
    }
   ],
   "source": [
    "Q1 = data_t['u'].quantile(0.25)\n",
    "Q3 = data_t['u'].quantile(0.75)\n",
    "IQR = Q3 - Q1\n",
    "\n",
    "lower_bound = Q1 - 1.5 * IQR\n",
    "upper_bound = Q3 + 1.5 * IQR\n",
    "print(Q1,Q3,IQR)\n",
    "print(lower_bound,upper_bound) \n",
    " \n",
    "outliers = data_t[(data_t['u'] < lower_bound) | (data_t['u'] > upper_bound)]\n",
    "# print(outliers['dec'])\n",
    "outliers\n",
    "plt.boxplot(data_t['u'])\n",
    "plt.title(\"Boxplot de la Ascensión Recta (u)\")\n",
    "plt.ylabel(\"Ascensión Recta\")\n",
    "plt.show()\n"
   ]
  },
  {
   "cell_type": "code",
   "execution_count": 36,
   "metadata": {},
   "outputs": [
    {
     "data": {
      "image/png": "[encoded data removed]",
      "text/plain": [
       "<Figure size 800x500 with 1 Axes>"
      ]
     },
     "metadata": {},
     "output_type": "display_data"
    }
   ],
   "source": [
    "plt.figure(figsize=(8, 5))\n",
    "plt.hist(data_t[\"u\"], bins=20, edgecolor=\"black\", alpha=0.7, color=\"orange\")\n",
    "plt.xlabel(\"Ascensión Recta (u)\")\n",
    "plt.ylabel(\"Frecuencia\")\n",
    "plt.title(\"Distribución de la Ascensión Recta\")\n",
    "plt.grid(axis=\"y\", linestyle=\"--\", alpha=0.7)\n",
    "\n",
    "plt.show()"
   ]
  },
  {
   "cell_type": "markdown",
   "metadata": {},
   "source": [
    "## Columna g\n",
    "Describe: Ubicación del objeto en su componente de declinación de coordenada celeste."
   ]
  },
  {
   "cell_type": "code",
   "execution_count": 37,
   "metadata": {},
   "outputs": [
    {
     "data": {
      "text/plain": [
       "count    4000.000000\n",
       "mean       17.363397\n",
       "std         0.950964\n",
       "min        12.974870\n",
       "25%        16.796110\n",
       "50%        17.472525\n",
       "75%        17.997818\n",
       "max        22.497450\n",
       "Name: g, dtype: float64"
      ]
     },
     "execution_count": 37,
     "metadata": {},
     "output_type": "execute_result"
    }
   ],
   "source": [
    "data_t['g'].describe()"
   ]
  },
  {
   "cell_type": "code",
   "execution_count": 38,
   "metadata": {},
   "outputs": [
    {
     "name": "stdout",
     "output_type": "stream",
     "text": [
      "Empty DataFrame\n",
      "Columns: [objid, ra, dec, u, g, r, i, z, run, camcol, field, score, clean, class, redshift, mjd, rowv, colv]\n",
      "Index: []\n"
     ]
    }
   ],
   "source": [
    "#Ya que g describe la magnitud del objeto en el filtro verde este va entre 12-25\n",
    "out_rango = data_t[(data_t[\"g\"] > 25) | (data_t[\"g\"] < 12)]\n",
    "print(out_rango)"
   ]
  },
  {
   "cell_type": "code",
   "execution_count": 39,
   "metadata": {},
   "outputs": [
    {
     "name": "stdout",
     "output_type": "stream",
     "text": [
      "Empty DataFrame\n",
      "Columns: [objid, ra, dec, u, g, r, i, z, run, camcol, field, score, clean, class, redshift, mjd, rowv, colv]\n",
      "Index: []\n"
     ]
    }
   ],
   "source": [
    "menor0 = data_t[(data_t[\"g\"] <= 0)]\n",
    "print(menor0)"
   ]
  },
  {
   "cell_type": "code",
   "execution_count": 40,
   "metadata": {},
   "outputs": [
    {
     "name": "stdout",
     "output_type": "stream",
     "text": [
      "16.79611 17.9978175 1.2017075000000013\n",
      "14.993548749999997 19.80037875\n"
     ]
    },
    {
     "data": {
      "image/png": "[encoded data removed]",
      "text/plain": [
       "<Figure size 640x480 with 1 Axes>"
      ]
     },
     "metadata": {},
     "output_type": "display_data"
    }
   ],
   "source": [
    "Q1 = data_t['g'].quantile(0.25)\n",
    "Q3 = data_t['g'].quantile(0.75)\n",
    "IQR = Q3 - Q1\n",
    "\n",
    "lower_bound = Q1 - 1.5 * IQR\n",
    "upper_bound = Q3 + 1.5 * IQR\n",
    "print(Q1,Q3,IQR)\n",
    "print(lower_bound,upper_bound) \n",
    " \n",
    "outliers = data_t[(data_t['g'] < lower_bound) | (data_t['g'] > upper_bound)]\n",
    "# print(outliers['g'])\n",
    "outliers\n",
    "plt.boxplot(data_t['g'])\n",
    "plt.title(\"Boxplot de la Ascensión Recta (g)\")\n",
    "plt.ylabel(\"Ascensión Recta\")\n",
    "plt.show()"
   ]
  },
  {
   "cell_type": "code",
   "execution_count": 41,
   "metadata": {},
   "outputs": [
    {
     "data": {
      "image/png": "[encoded data removed]",
      "text/plain": [
       "<Figure size 800x500 with 1 Axes>"
      ]
     },
     "metadata": {},
     "output_type": "display_data"
    }
   ],
   "source": [
    "plt.figure(figsize=(8, 5))\n",
    "plt.hist(data_t[\"g\"], bins=20, edgecolor=\"black\", alpha=0.7, color=\"orange\")\n",
    "plt.xlabel(\"Ascensión Recta (g)\")\n",
    "plt.ylabel(\"Frecuencia\")\n",
    "plt.title(\"Distribución de la Ascensión Recta\")\n",
    "plt.grid(axis=\"y\", linestyle=\"--\", alpha=0.7)\n",
    "\n",
    "plt.show()"
   ]
  },
  {
   "cell_type": "markdown",
   "metadata": {},
   "source": [
    "## Columna r\n",
    "Describe: Magnitud del objeto capturada en el filtro rojo. Valor mayor a 0."
   ]
  },
  {
   "cell_type": "code",
   "execution_count": 42,
   "metadata": {},
   "outputs": [
    {
     "data": {
      "text/plain": [
       "count    4000.000000\n",
       "mean       16.839856\n",
       "std         1.055343\n",
       "min        12.362850\n",
       "25%        16.190785\n",
       "50%        16.850835\n",
       "75%        17.506640\n",
       "max        22.265960\n",
       "Name: r, dtype: float64"
      ]
     },
     "execution_count": 42,
     "metadata": {},
     "output_type": "execute_result"
    }
   ],
   "source": [
    "data_t['r'].describe()"
   ]
  },
  {
   "cell_type": "code",
   "execution_count": 43,
   "metadata": {},
   "outputs": [
    {
     "name": "stdout",
     "output_type": "stream",
     "text": [
      "Empty DataFrame\n",
      "Columns: [objid, ra, dec, u, g, r, i, z, run, camcol, field, score, clean, class, redshift, mjd, rowv, colv]\n",
      "Index: []\n"
     ]
    }
   ],
   "source": [
    "menor0 = data_t[(data_t[\"r\"] <= 0)]\n",
    "print(menor0)"
   ]
  },
  {
   "cell_type": "markdown",
   "metadata": {},
   "source": [
    "## Columna z\n",
    "Describe: Magnitud del objeto capturada en el filtro casi-infrarrojo. Valor mayor a 0."
   ]
  },
  {
   "cell_type": "code",
   "execution_count": 44,
   "metadata": {},
   "outputs": [
    {
     "data": {
      "text/plain": [
       "count    4000.000000\n",
       "mean       16.439392\n",
       "std         1.190502\n",
       "min        11.799530\n",
       "25%        15.628205\n",
       "50%        16.402665\n",
       "75%        17.147037\n",
       "max        20.847690\n",
       "Name: z, dtype: float64"
      ]
     },
     "execution_count": 44,
     "metadata": {},
     "output_type": "execute_result"
    }
   ],
   "source": [
    "data_t['z'].describe()"
   ]
  },
  {
   "cell_type": "markdown",
   "metadata": {},
   "source": [
    "## Columna i\n",
    "Describe: Magnitud del objeto capturada en el filtro infrarrojo. Valor mayor a 0."
   ]
  },
  {
   "cell_type": "code",
   "execution_count": 45,
   "metadata": {},
   "outputs": [
    {
     "data": {
      "text/plain": [
       "count    4000.000000\n",
       "mean       16.597712\n",
       "std         1.141252\n",
       "min        12.010790\n",
       "25%        15.870782\n",
       "50%        16.571195\n",
       "75%        17.258833\n",
       "max        28.179630\n",
       "Name: i, dtype: float64"
      ]
     },
     "execution_count": 45,
     "metadata": {},
     "output_type": "execute_result"
    }
   ],
   "source": [
    "data_t['i'].describe()"
   ]
  },
  {
   "cell_type": "markdown",
   "metadata": {},
   "source": [
    "## Columna score"
   ]
  },
  {
   "cell_type": "markdown",
   "metadata": {},
   "source": [
    "#### 1. Visualizar como se distribuyen los datos entre 0 y 1 por cuartiles"
   ]
  },
  {
   "cell_type": "code",
   "execution_count": 46,
   "metadata": {},
   "outputs": [
    {
     "data": {
      "text/plain": [
       "count    4000.000000\n",
       "mean        0.851765\n",
       "std         0.071311\n",
       "min         0.301912\n",
       "25%         0.836866\n",
       "50%         0.860675\n",
       "75%         0.879834\n",
       "max         0.961145\n",
       "Name: score, dtype: float64"
      ]
     },
     "execution_count": 46,
     "metadata": {},
     "output_type": "execute_result"
    }
   ],
   "source": [
    "data_t['score'].describe()"
   ]
  },
  {
   "cell_type": "markdown",
   "metadata": {},
   "source": [
    "#### 2. Visualización Gráfica"
   ]
  },
  {
   "cell_type": "code",
   "execution_count": 47,
   "metadata": {},
   "outputs": [
    {
     "data": {
      "image/png": "[encoded data removed]",
      "text/plain": [
       "<Figure size 800x600 with 1 Axes>"
      ]
     },
     "metadata": {},
     "output_type": "display_data"
    },
    {
     "name": "stdout",
     "output_type": "stream",
     "text": [
      "Esto nos dá a entender que la mayoría de las observaciones presentan una alta calidad, además no se presentaron datos fuera del rango 0 - 1\n"
     ]
    }
   ],
   "source": [
    "# Crear el histograma\n",
    "plt.figure(figsize=(8, 6))\n",
    "sb.histplot(data_t['score'], bins=20, kde=True, color='blue', edgecolor='black')\n",
    "plt.title(\"Distribución de Score\", fontsize=14)\n",
    "plt.xlabel(\"Score\", fontsize=12)\n",
    "plt.ylabel(\"Frecuencia\", fontsize=12)\n",
    "plt.grid(True, linestyle=\"--\", alpha=0.6)\n",
    "plt.show()\n",
    "print(\"Esto nos dá a entender que la mayoría de las observaciones presentan una alta calidad, además no se presentaron datos fuera del rango 0 - 1\")"
   ]
  },
  {
   "cell_type": "markdown",
   "metadata": {},
   "source": [
    "#### 3. Eliminar datos que tienen una score y un clean 0"
   ]
  },
  {
   "cell_type": "markdown",
   "metadata": {},
   "source": [
    "Decidimos eliminar ciertos datos con una score y clean bajo ya que no aportan mucho a nuestro analisis"
   ]
  },
  {
   "cell_type": "code",
   "execution_count": 48,
   "metadata": {},
   "outputs": [
    {
     "name": "stdout",
     "output_type": "stream",
     "text": [
      "(4000, 18)\n",
      "(3991, 18)\n"
     ]
    }
   ],
   "source": [
    "print(data_t.shape)\n",
    "data_t = data_t[~((data_t[\"score\"] < 0.4) & (data_t[\"clean\"] == 0))]\n",
    "print(data_t.shape)"
   ]
  },
  {
   "cell_type": "markdown",
   "metadata": {},
   "source": [
    "## Columna clean"
   ]
  },
  {
   "cell_type": "markdown",
   "metadata": {},
   "source": [
    "#### 1. Describir por cuartiles los datos de clean"
   ]
  },
  {
   "cell_type": "code",
   "execution_count": 49,
   "metadata": {},
   "outputs": [
    {
     "data": {
      "text/plain": [
       "count    3991.000000\n",
       "mean        0.897519\n",
       "std         0.303317\n",
       "min         0.000000\n",
       "25%         1.000000\n",
       "50%         1.000000\n",
       "75%         1.000000\n",
       "max         1.000000\n",
       "Name: clean, dtype: float64"
      ]
     },
     "execution_count": 49,
     "metadata": {},
     "output_type": "execute_result"
    }
   ],
   "source": [
    "data_t['clean'].describe()"
   ]
  },
  {
   "cell_type": "markdown",
   "metadata": {},
   "source": [
    "#### 2. Análisis grafico para detectar anomalías"
   ]
  },
  {
   "cell_type": "code",
   "execution_count": 50,
   "metadata": {},
   "outputs": [
    {
     "data": {
      "image/png": "[encoded data removed]",
      "text/plain": [
       "<Figure size 600x600 with 1 Axes>"
      ]
     },
     "metadata": {},
     "output_type": "display_data"
    },
    {
     "name": "stdout",
     "output_type": "stream",
     "text": [
      "Se observa que todos los datos son binarios , es decir 0 o 1, no se detectaron anomalías\n"
     ]
    }
   ],
   "source": [
    "plt.figure(figsize=(6,6))\n",
    "data_t['clean'].value_counts().plot(kind='pie', autopct='%1.1f%%', colors=['green', 'red'])\n",
    "\n",
    "plt.title(\"Proporción de objetos con fotometría confiable\")\n",
    "plt.ylabel(\"\")\n",
    "plt.show()\n",
    "print(\"Se observa que todos los datos son binarios , es decir 0 o 1, no se detectaron anomalías\")"
   ]
  },
  {
   "cell_type": "markdown",
   "metadata": {},
   "source": [
    "## Columna camcol\n",
    "Describe: Columna de la cámara en la que se registró el objeto."
   ]
  },
  {
   "cell_type": "code",
   "execution_count": 51,
   "metadata": {},
   "outputs": [
    {
     "name": "stdout",
     "output_type": "stream",
     "text": [
      "camcol\n",
      "1    800\n",
      "4    752\n",
      "5    716\n",
      "2    633\n",
      "3    581\n",
      "6    509\n",
      "Name: count, dtype: int64\n",
      "Valores únicos: [5 1 2 3 6 4]\n"
     ]
    },
    {
     "data": {
      "image/png": "[encoded data removed]",
      "text/plain": [
       "<Figure size 640x480 with 1 Axes>"
      ]
     },
     "metadata": {},
     "output_type": "display_data"
    },
    {
     "name": "stdout",
     "output_type": "stream",
     "text": [
      "Correlación entre camcol y redshift: -0.0030145472628996728\n"
     ]
    }
   ],
   "source": [
    "print(data_t['camcol'].value_counts())\n",
    "print(\"Valores únicos:\", data_t['camcol'].unique())\n",
    "\n",
    "#Podemos ver que es una columna numerica pero deberia de ser categorica solo toma valores \n",
    "# específicos como {1, 2, 3, 4, 5, 6}, es más una categoría que un número\n",
    "sb.boxplot(x=data_t[\"camcol\"], y=data_t[\"redshift\"])\n",
    "plt.xlabel(\"Camcol (Columna del Sensor)\")\n",
    "plt.ylabel(\"Redshift\")\n",
    "plt.title(\"Distribución del Redshift por Camcol\")\n",
    "plt.show()\n",
    "correlation = data_t[\"camcol\"].corr(data_t[\"redshift\"])\n",
    "print(\"Correlación entre camcol y redshift:\", correlation)"
   ]
  },
  {
   "cell_type": "code",
   "execution_count": 52,
   "metadata": {},
   "outputs": [
    {
     "name": "stdout",
     "output_type": "stream",
     "text": [
      "Tipo de dato: category\n"
     ]
    },
    {
     "name": "stderr",
     "output_type": "stream",
     "text": [
      "C:\\Users\\Felipe Jaimes\\AppData\\Local\\Temp\\ipykernel_16760\\1289744911.py:1: SettingWithCopyWarning: \n",
      "A value is trying to be set on a copy of a slice from a DataFrame.\n",
      "Try using .loc[row_indexer,col_indexer] = value instead\n",
      "\n",
      "See the caveats in the documentation: https://pandas.pydata.org/pandas-docs/stable/user_guide/indexing.html#returning-a-view-versus-a-copy\n",
      "  data_t['camcol'] = data_t['camcol'].astype('category')\n"
     ]
    }
   ],
   "source": [
    "data_t['camcol'] = data_t['camcol'].astype('category')\n",
    "print(\"Tipo de dato:\", data_t['camcol'].dtype)"
   ]
  },
  {
   "cell_type": "code",
   "execution_count": 53,
   "metadata": {},
   "outputs": [
    {
     "data": {
      "image/png": "[encoded data removed]",
      "text/plain": [
       "<Figure size 800x500 with 1 Axes>"
      ]
     },
     "metadata": {},
     "output_type": "display_data"
    }
   ],
   "source": [
    "plt.figure(figsize=(8, 5))\n",
    "plt.hist(data_t[\"camcol\"], bins=20, edgecolor=\"black\", alpha=0.7, color=\"orange\")\n",
    "plt.xlabel(\"X\")\n",
    "plt.ylabel(\"Frecuencia\")\n",
    "plt.title(\"Distribución de la Ascensión Recta\")\n",
    "plt.grid(axis=\"y\", linestyle=\"--\", alpha=0.7)\n",
    "\n",
    "plt.show()\n"
   ]
  },
  {
   "cell_type": "markdown",
   "metadata": {},
   "source": [
    "Analizando la correlación decidimos que no es una variable que influye directamente al redshift entonces la omitimos"
   ]
  },
  {
   "cell_type": "markdown",
   "metadata": {},
   "source": [
    "## Columna field\n",
    "Describe: Sección de la columna de la cámara en la que se registró el objeto.\n"
   ]
  },
  {
   "cell_type": "code",
   "execution_count": 54,
   "metadata": {},
   "outputs": [
    {
     "name": "stdout",
     "output_type": "stream",
     "text": [
      "objid: 3983 valores únicos\n",
      "ra: 3983 valores únicos\n",
      "dec: 3983 valores únicos\n",
      "u: 3952 valores únicos\n",
      "g: 3953 valores únicos\n",
      "r: 3963 valores únicos\n",
      "i: 3959 valores únicos\n",
      "z: 3968 valores únicos\n",
      "run: 7 valores únicos\n",
      "camcol: 6 valores únicos\n",
      "field: 663 valores únicos\n",
      "score: 1563 valores únicos\n",
      "clean: 2 valores únicos\n",
      "class: 6 valores únicos\n",
      "redshift: 3932 valores únicos\n",
      "mjd: 183 valores únicos\n",
      "rowv: 3979 valores únicos\n",
      "colv: 3978 valores únicos\n"
     ]
    }
   ],
   "source": [
    "for col in data.columns:\n",
    "    unique_values = data[col].nunique()\n",
    "    print(f\"{col}: {unique_values} valores únicos\")\n"
   ]
  },
  {
   "cell_type": "markdown",
   "metadata": {},
   "source": [
    "## Columna class"
   ]
  },
  {
   "cell_type": "markdown",
   "metadata": {},
   "source": [
    "#### 1. Revisión de como se distribuyen las clases"
   ]
  },
  {
   "cell_type": "code",
   "execution_count": 55,
   "metadata": {},
   "outputs": [
    {
     "name": "stdout",
     "output_type": "stream",
     "text": [
      "Valores únicos en 'class': ['STAR' 'GALAXY' 'QSO' 'S' 'QUASAR' 'G']\n",
      "\n",
      "Valores nulos en 'class': 0\n",
      "\n",
      "Distribución de clases:\n",
      "class\n",
      "GALAXY    1850\n",
      "STAR      1628\n",
      "QSO        292\n",
      "S          176\n",
      "G           44\n",
      "QUASAR       1\n",
      "Name: count, dtype: int64\n"
     ]
    }
   ],
   "source": [
    "data_t['class'].describe()\n",
    "print(\"Valores únicos en 'class':\", data_t['class'].unique())\n",
    "print(\"\\nValores nulos en 'class':\", data_t['class'].isnull().sum())\n",
    "\n",
    "# Ver distribución de las clases\n",
    "print(\"\\nDistribución de clases:\")\n",
    "print(data_t['class'].value_counts())"
   ]
  },
  {
   "cell_type": "markdown",
   "metadata": {},
   "source": [
    "#### 2. Como se detectaron anomalías en las clasificaciones , se hace una normalización"
   ]
  },
  {
   "cell_type": "markdown",
   "metadata": {},
   "source": [
    "En este caso por intuición vamos a tomar los datos de clasificación G y convertirlos GALAXY"
   ]
  },
  {
   "cell_type": "code",
   "execution_count": 56,
   "metadata": {},
   "outputs": [
    {
     "name": "stderr",
     "output_type": "stream",
     "text": [
      "C:\\Users\\Felipe Jaimes\\AppData\\Local\\Temp\\ipykernel_16760\\3065081790.py:2: SettingWithCopyWarning: \n",
      "A value is trying to be set on a copy of a slice from a DataFrame.\n",
      "Try using .loc[row_indexer,col_indexer] = value instead\n",
      "\n",
      "See the caveats in the documentation: https://pandas.pydata.org/pandas-docs/stable/user_guide/indexing.html#returning-a-view-versus-a-copy\n",
      "  data_t['class'] = data_t['class'].replace('G', 'GALAXY')\n"
     ]
    }
   ],
   "source": [
    "# Reemplazar 'G' por 'GALAXY'\n",
    "data_t['class'] = data_t['class'].replace('G', 'GALAXY')"
   ]
  },
  {
   "cell_type": "markdown",
   "metadata": {},
   "source": [
    "Por otro lado para los datos que tienen la clasificación S los modificaremos para que sean STAR"
   ]
  },
  {
   "cell_type": "code",
   "execution_count": 57,
   "metadata": {},
   "outputs": [
    {
     "name": "stderr",
     "output_type": "stream",
     "text": [
      "C:\\Users\\Felipe Jaimes\\AppData\\Local\\Temp\\ipykernel_16760\\2476613638.py:2: SettingWithCopyWarning: \n",
      "A value is trying to be set on a copy of a slice from a DataFrame.\n",
      "Try using .loc[row_indexer,col_indexer] = value instead\n",
      "\n",
      "See the caveats in the documentation: https://pandas.pydata.org/pandas-docs/stable/user_guide/indexing.html#returning-a-view-versus-a-copy\n",
      "  data_t['class'] = data_t['class'].replace('S', 'STAR')\n"
     ]
    }
   ],
   "source": [
    "# Reemplazar 'S' por 'STAR'\n",
    "data_t['class'] = data_t['class'].replace('S', 'STAR')"
   ]
  },
  {
   "cell_type": "markdown",
   "metadata": {},
   "source": [
    "Tambien para hacer el uso de solo una etiqueta cambiamos Quasar por QSO"
   ]
  },
  {
   "cell_type": "code",
   "execution_count": 58,
   "metadata": {},
   "outputs": [
    {
     "name": "stderr",
     "output_type": "stream",
     "text": [
      "C:\\Users\\Felipe Jaimes\\AppData\\Local\\Temp\\ipykernel_16760\\69012387.py:2: SettingWithCopyWarning: \n",
      "A value is trying to be set on a copy of a slice from a DataFrame.\n",
      "Try using .loc[row_indexer,col_indexer] = value instead\n",
      "\n",
      "See the caveats in the documentation: https://pandas.pydata.org/pandas-docs/stable/user_guide/indexing.html#returning-a-view-versus-a-copy\n",
      "  data_t['class'] = data_t['class'].replace('QUASAR', 'QSO')\n"
     ]
    }
   ],
   "source": [
    "# Reemplazar 'QUASAR' por 'QSO'\n",
    "data_t['class'] = data_t['class'].replace('QUASAR', 'QSO')"
   ]
  },
  {
   "cell_type": "markdown",
   "metadata": {},
   "source": [
    "Luego volvemos a revisar si ya se hicieron los cambios correctamente"
   ]
  },
  {
   "cell_type": "code",
   "execution_count": 59,
   "metadata": {},
   "outputs": [
    {
     "name": "stdout",
     "output_type": "stream",
     "text": [
      "Valores únicos en 'class': ['STAR' 'GALAXY' 'QSO']\n",
      "\n",
      "Valores nulos en 'class': 0\n",
      "\n",
      "Distribución de clases:\n",
      "class\n",
      "GALAXY    1894\n",
      "STAR      1804\n",
      "QSO        293\n",
      "Name: count, dtype: int64\n"
     ]
    }
   ],
   "source": [
    "data_t['class'].describe()\n",
    "print(\"Valores únicos en 'class':\", data_t['class'].unique())\n",
    "print(\"\\nValores nulos en 'class':\", data_t['class'].isnull().sum())\n",
    "\n",
    "# Ver distribución de las clases\n",
    "print(\"\\nDistribución de clases:\")\n",
    "print(data_t['class'].value_counts())"
   ]
  },
  {
   "cell_type": "markdown",
   "metadata": {},
   "source": [
    "#### 3. Transformación para facilitar el modelo de regresión"
   ]
  },
  {
   "cell_type": "code",
   "execution_count": 60,
   "metadata": {},
   "outputs": [],
   "source": [
    "data_t = pd.get_dummies(data_t, columns=['class'], prefix='class')"
   ]
  },
  {
   "cell_type": "markdown",
   "metadata": {},
   "source": [
    "#### 4. Análisis Gráfico de la columna"
   ]
  },
  {
   "cell_type": "code",
   "execution_count": 61,
   "metadata": {},
   "outputs": [
    {
     "ename": "KeyError",
     "evalue": "'class'",
     "output_type": "error",
     "traceback": [
      "\u001b[1;31m---------------------------------------------------------------------------\u001b[0m",
      "\u001b[1;31mKeyError\u001b[0m                                  Traceback (most recent call last)",
      "File \u001b[1;32mc:\\Users\\Felipe Jaimes\\anaconda3\\Lib\\site-packages\\pandas\\core\\indexes\\base.py:3805\u001b[0m, in \u001b[0;36mIndex.get_loc\u001b[1;34m(self, key)\u001b[0m\n\u001b[0;32m   3804\u001b[0m \u001b[38;5;28;01mtry\u001b[39;00m:\n\u001b[1;32m-> 3805\u001b[0m     \u001b[38;5;28;01mreturn\u001b[39;00m \u001b[38;5;28mself\u001b[39m\u001b[38;5;241m.\u001b[39m_engine\u001b[38;5;241m.\u001b[39mget_loc(casted_key)\n\u001b[0;32m   3806\u001b[0m \u001b[38;5;28;01mexcept\u001b[39;00m \u001b[38;5;167;01mKeyError\u001b[39;00m \u001b[38;5;28;01mas\u001b[39;00m err:\n",
      "File \u001b[1;32mindex.pyx:167\u001b[0m, in \u001b[0;36mpandas._libs.index.IndexEngine.get_loc\u001b[1;34m()\u001b[0m\n",
      "File \u001b[1;32mindex.pyx:196\u001b[0m, in \u001b[0;36mpandas._libs.index.IndexEngine.get_loc\u001b[1;34m()\u001b[0m\n",
      "File \u001b[1;32mpandas\\\\_libs\\\\hashtable_class_helper.pxi:7081\u001b[0m, in \u001b[0;36mpandas._libs.hashtable.PyObjectHashTable.get_item\u001b[1;34m()\u001b[0m\n",
      "File \u001b[1;32mpandas\\\\_libs\\\\hashtable_class_helper.pxi:7089\u001b[0m, in \u001b[0;36mpandas._libs.hashtable.PyObjectHashTable.get_item\u001b[1;34m()\u001b[0m\n",
      "\u001b[1;31mKeyError\u001b[0m: 'class'",
      "\nThe above exception was the direct cause of the following exception:\n",
      "\u001b[1;31mKeyError\u001b[0m                                  Traceback (most recent call last)",
      "Cell \u001b[1;32mIn[61], line 2\u001b[0m\n\u001b[0;32m      1\u001b[0m \u001b[38;5;66;03m# Contar las ocurrencias de cada clase\u001b[39;00m\n\u001b[1;32m----> 2\u001b[0m class_counts \u001b[38;5;241m=\u001b[39m data_t[\u001b[38;5;124m'\u001b[39m\u001b[38;5;124mclass\u001b[39m\u001b[38;5;124m'\u001b[39m]\u001b[38;5;241m.\u001b[39mvalue_counts()\n\u001b[0;32m      4\u001b[0m \u001b[38;5;66;03m# Crear el gráfico de barras\u001b[39;00m\n\u001b[0;32m      5\u001b[0m plt\u001b[38;5;241m.\u001b[39mfigure(figsize\u001b[38;5;241m=\u001b[39m(\u001b[38;5;241m8\u001b[39m, \u001b[38;5;241m5\u001b[39m))\n",
      "File \u001b[1;32mc:\\Users\\Felipe Jaimes\\anaconda3\\Lib\\site-packages\\pandas\\core\\frame.py:4102\u001b[0m, in \u001b[0;36mDataFrame.__getitem__\u001b[1;34m(self, key)\u001b[0m\n\u001b[0;32m   4100\u001b[0m \u001b[38;5;28;01mif\u001b[39;00m \u001b[38;5;28mself\u001b[39m\u001b[38;5;241m.\u001b[39mcolumns\u001b[38;5;241m.\u001b[39mnlevels \u001b[38;5;241m>\u001b[39m \u001b[38;5;241m1\u001b[39m:\n\u001b[0;32m   4101\u001b[0m     \u001b[38;5;28;01mreturn\u001b[39;00m \u001b[38;5;28mself\u001b[39m\u001b[38;5;241m.\u001b[39m_getitem_multilevel(key)\n\u001b[1;32m-> 4102\u001b[0m indexer \u001b[38;5;241m=\u001b[39m \u001b[38;5;28mself\u001b[39m\u001b[38;5;241m.\u001b[39mcolumns\u001b[38;5;241m.\u001b[39mget_loc(key)\n\u001b[0;32m   4103\u001b[0m \u001b[38;5;28;01mif\u001b[39;00m is_integer(indexer):\n\u001b[0;32m   4104\u001b[0m     indexer \u001b[38;5;241m=\u001b[39m [indexer]\n",
      "File \u001b[1;32mc:\\Users\\Felipe Jaimes\\anaconda3\\Lib\\site-packages\\pandas\\core\\indexes\\base.py:3812\u001b[0m, in \u001b[0;36mIndex.get_loc\u001b[1;34m(self, key)\u001b[0m\n\u001b[0;32m   3807\u001b[0m     \u001b[38;5;28;01mif\u001b[39;00m \u001b[38;5;28misinstance\u001b[39m(casted_key, \u001b[38;5;28mslice\u001b[39m) \u001b[38;5;129;01mor\u001b[39;00m (\n\u001b[0;32m   3808\u001b[0m         \u001b[38;5;28misinstance\u001b[39m(casted_key, abc\u001b[38;5;241m.\u001b[39mIterable)\n\u001b[0;32m   3809\u001b[0m         \u001b[38;5;129;01mand\u001b[39;00m \u001b[38;5;28many\u001b[39m(\u001b[38;5;28misinstance\u001b[39m(x, \u001b[38;5;28mslice\u001b[39m) \u001b[38;5;28;01mfor\u001b[39;00m x \u001b[38;5;129;01min\u001b[39;00m casted_key)\n\u001b[0;32m   3810\u001b[0m     ):\n\u001b[0;32m   3811\u001b[0m         \u001b[38;5;28;01mraise\u001b[39;00m InvalidIndexError(key)\n\u001b[1;32m-> 3812\u001b[0m     \u001b[38;5;28;01mraise\u001b[39;00m \u001b[38;5;167;01mKeyError\u001b[39;00m(key) \u001b[38;5;28;01mfrom\u001b[39;00m \u001b[38;5;21;01merr\u001b[39;00m\n\u001b[0;32m   3813\u001b[0m \u001b[38;5;28;01mexcept\u001b[39;00m \u001b[38;5;167;01mTypeError\u001b[39;00m:\n\u001b[0;32m   3814\u001b[0m     \u001b[38;5;66;03m# If we have a listlike key, _check_indexing_error will raise\u001b[39;00m\n\u001b[0;32m   3815\u001b[0m     \u001b[38;5;66;03m#  InvalidIndexError. Otherwise we fall through and re-raise\u001b[39;00m\n\u001b[0;32m   3816\u001b[0m     \u001b[38;5;66;03m#  the TypeError.\u001b[39;00m\n\u001b[0;32m   3817\u001b[0m     \u001b[38;5;28mself\u001b[39m\u001b[38;5;241m.\u001b[39m_check_indexing_error(key)\n",
      "\u001b[1;31mKeyError\u001b[0m: 'class'"
     ]
    }
   ],
   "source": [
    "# Contar las ocurrencias de cada clase\n",
    "class_counts = data_t['class'].value_counts()\n",
    "\n",
    "# Crear el gráfico de barras\n",
    "plt.figure(figsize=(8, 5))\n",
    "plt.bar(class_counts.index, class_counts.values, color='skyblue', edgecolor='black')\n",
    "\n",
    "# Etiquetas y título\n",
    "plt.xlabel(\"Tipo de Objeto (class)\")\n",
    "plt.ylabel(\"Cantidad\")\n",
    "plt.title(\"Distribución de Tipos de Objetos\")\n",
    "plt.xticks(rotation=45)  # Rotar etiquetas para mejor visibilidad\n",
    "\n",
    "# Mostrar el gráfico\n",
    "plt.show()"
   ]
  },
  {
   "cell_type": "markdown",
   "metadata": {},
   "source": [
    "## Análisis de calidad de los datos"
   ]
  },
  {
   "cell_type": "markdown",
   "metadata": {},
   "source": [
    "Completitud"
   ]
  },
  {
   "cell_type": "code",
   "execution_count": null,
   "metadata": {},
   "outputs": [],
   "source": [
    "# Cálculo de valores nulos por columna\n",
    "((data_t.isnull().sum()/data_t.shape[0])).sort_values(ascending=False)"
   ]
  },
  {
   "cell_type": "markdown",
   "metadata": {},
   "source": [
    "Al hacer un examen de completitud de los datos podemos ver que no hay datos nulos en ninguna columna del data frame"
   ]
  },
  {
   "cell_type": "markdown",
   "metadata": {},
   "source": [
    "2.2 Unicidad"
   ]
  },
  {
   "cell_type": "code",
   "execution_count": null,
   "metadata": {},
   "outputs": [],
   "source": [
    "data_t.duplicated(keep = False).sum()\n",
    "print(f\"Filas duplicadas: {data_t.duplicated(keep=False).sum()}\")"
   ]
  },
  {
   "cell_type": "markdown",
   "metadata": {},
   "source": [
    "Se identificaron 34 filas duplicadas, ahora vamos a ver a detalle que es lo que está sucediendo"
   ]
  },
  {
   "cell_type": "code",
   "execution_count": null,
   "metadata": {},
   "outputs": [],
   "source": [
    "duplicados = data_t.loc[data_t.duplicated(keep=False)]\n",
    "duplicados"
   ]
  },
  {
   "cell_type": "markdown",
   "metadata": {},
   "source": [
    "Viendo a detalle los datos se puede ver que hay filas completamente duplicadas. Analizando el contexto de los datos y la forma en que se toman no tiene sentido que hayan filas completamente duplicadas, por lo cual consideramos eliminarlas. Eliminaremos 17 filas ya que estas corresponden a las filas duplicadas"
   ]
  },
  {
   "cell_type": "markdown",
   "metadata": {},
   "source": [
    "2.3 Consistencia "
   ]
  },
  {
   "cell_type": "code",
   "execution_count": null,
   "metadata": {},
   "outputs": [],
   "source": []
  },
  {
   "cell_type": "markdown",
   "metadata": {},
   "source": [
    "2.4 Validez"
   ]
  },
  {
   "cell_type": "code",
   "execution_count": null,
   "metadata": {},
   "outputs": [],
   "source": []
  },
  {
   "cell_type": "markdown",
   "metadata": {},
   "source": [
    "## Visualización de datos"
   ]
  },
  {
   "cell_type": "code",
   "execution_count": null,
   "metadata": {},
   "outputs": [],
   "source": [
    "data_t.hist(figsize=(15,18),bins=30,edgecolor=\"black\")"
   ]
  },
  {
   "cell_type": "markdown",
   "metadata": {},
   "source": [
    "Análisis de correlaciones"
   ]
  },
  {
   "cell_type": "code",
   "execution_count": null,
   "metadata": {},
   "outputs": [],
   "source": [
    "data_t[\"class\"].value_counts()"
   ]
  },
  {
   "cell_type": "code",
   "execution_count": null,
   "metadata": {},
   "outputs": [],
   "source": [
    "data_t[\"class\"] = data_t[\"class\"].replace({\n",
    "    \"S\": \"STAR\",\n",
    "    \"G\": \"GALAXY\",\n",
    "    \"QUASAR\": \"QSO\"\n",
    "})\n",
    "data_t[\"class\"].value_counts()"
   ]
  },
  {
   "cell_type": "code",
   "execution_count": null,
   "metadata": {},
   "outputs": [],
   "source": [
    "features=[\"ra\",\"dec\",\"u\",\"g\",\"r\",\"z\",\"i\",\"class\",\"redshift\",\"mjd\"]\n",
    "data_t=data_t[features]\n",
    "data_t.head()"
   ]
  },
  {
   "cell_type": "markdown",
   "metadata": {},
   "source": [
    "One-Hot encoding"
   ]
  },
  {
   "cell_type": "code",
   "execution_count": null,
   "metadata": {},
   "outputs": [],
   "source": [
    "dumies=pd.get_dummies(data_t[\"class\"], dtype=int)\n",
    "data_t=pd.concat([data_t, dumies], axis=1)"
   ]
  },
  {
   "cell_type": "code",
   "execution_count": null,
   "metadata": {},
   "outputs": [],
   "source": [
    "data_t=data_t.drop([\"class\"],axis=1)"
   ]
  },
  {
   "cell_type": "code",
   "execution_count": null,
   "metadata": {},
   "outputs": [],
   "source": [
    "data_t.head()"
   ]
  },
  {
   "cell_type": "markdown",
   "metadata": {},
   "source": [
    "Análisis de correlaciones"
   ]
  },
  {
   "cell_type": "code",
   "execution_count": null,
   "metadata": {},
   "outputs": [],
   "source": [
    "sb.set(rc={\"figure.figsize\":(25,12)})\n",
    "sb.heatmap( data_t.corr(),annot=True, cmap=\"YlGnBu\" )"
   ]
  },
  {
   "cell_type": "markdown",
   "metadata": {},
   "source": [
    "### REGRESION LINEAL"
   ]
  },
  {
   "cell_type": "code",
   "execution_count": null,
   "metadata": {},
   "outputs": [],
   "source": []
  }
 ],
 "metadata": {
  "kernelspec": {
   "display_name": "pyomo_env",
   "language": "python",
   "name": "python3"
  },
  "language_info": {
   "codemirror_mode": {
    "name": "ipython",
    "version": 3
   },
   "file_extension": ".py",
   "mimetype": "text/x-python",
   "name": "python",
   "nbconvert_exporter": "python",
   "pygments_lexer": "ipython3",
   "version": "3.9.21"
  }
 },
 "nbformat": 4,
 "nbformat_minor": 2
}
