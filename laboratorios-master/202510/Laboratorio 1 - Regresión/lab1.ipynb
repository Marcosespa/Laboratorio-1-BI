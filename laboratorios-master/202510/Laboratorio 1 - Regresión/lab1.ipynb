{
 "cells": [
  {
   "cell_type": "markdown",
   "metadata": {},
   "source": [
    "# Laboratorio 1"
   ]
  },
  {
   "cell_type": "code",
   "execution_count": null,
   "metadata": {},
   "outputs": [
    {
     "ename": "",
     "evalue": "",
     "output_type": "error",
     "traceback": [
      "\u001b[1;31mRunning cells with 'pyomo_env (Python 3.9.21)' requires the ipykernel package.\n",
      "\u001b[1;31mRun the following command to install 'ipykernel' into the Python environment. \n",
      "\u001b[1;31mCommand: 'conda install -n pyomo_env ipykernel --update-deps --force-reinstall'"
     ]
    }
   ],
   "source": [
    "#Instalcion de todas las librerias\n",
    "import pandas as pd\n",
    "import numpy as np\n",
    "import sys\n",
    "from sklearn.base import BaseEstimator, ClassifierMixin\n",
    "import matplotlib.pyplot as plt\n",
    "import seaborn as sb\n"
   ]
  },
  {
   "cell_type": "markdown",
   "metadata": {},
   "source": [
    "### Carga de datos"
   ]
  },
  {
   "cell_type": "code",
   "execution_count": null,
   "metadata": {},
   "outputs": [],
   "source": [
    "# Uso de la libreria pandas para la lectura de archivos\n",
    "data=pd.read_csv('train_data.csv', sep=',', encoding = 'utf-8')\n",
    "# Asignación a una nueva variable de los datos leidos\n",
    "data_t=data"
   ]
  },
  {
   "cell_type": "code",
   "execution_count": null,
   "metadata": {},
   "outputs": [],
   "source": [
    "data_t"
   ]
  },
  {
   "cell_type": "markdown",
   "metadata": {},
   "source": [
    "## Entendimiento de los Datos\n",
    "\n",
    "Antes de comenzar a analizar los datos, es fundamental identificar cuáles son más importantes que otros.\n",
    "\n",
    "###  Variables Necesarias\n",
    "\n",
    "- **ra (Ascensión recta)**\n",
    "  - Indica la posición del objeto en el cielo.\n",
    "- **dec (Declinación)**\n",
    "  - Complementa la posición del objeto en coordenadas celestes.\n",
    "- **u, g, r, z, i (Magnitudes en diferentes filtros)**\n",
    "  - Permiten clasificar y caracterizar los objetos en función de su emisión de luz en distintos rangos de longitud de onda.\n",
    "  - Son fundamentales para estimar redshifts fotométricos si se quiere hacer una estimación sin espectroscopía.\n",
    "- **class**\n",
    "  - Indica si el objeto es una estrella (**STAR**), una galaxia (**GALAXY**) o un cuásar (**QSO**).\n",
    "  - Importante porque el redshift se aplica principalmente a galaxias y cuásares.\n",
    "- **redshift**\n",
    "  - Es el valor clave de estudio, ya que representa el corrimiento al rojo del objeto.\n",
    "\n",
    "\n",
    "###  Variables no necesarias\n",
    "\n",
    "- **mjd (Día juliano)**\n",
    "  - Puede ser útil si se estudian variaciones en observaciones a lo largo del tiempo.\n",
    "- **run**\n",
    "    - Es la cantidad de observaciones realizadas por el telescopio pero en este caso no es importante\n",
    "- **camcol**\n",
    "    - Columna de la cámara en la que se registró el objeto. Se reviso la correlacion lineal pero fue muy bajo tambien por eso se descarto esto.     \n",
    " - **field**\n",
    "    - Sección de la columna de la cámara en la que se registró el objeto. Ya que Camcol no la tomamos importante esta tampoco para el analisis      \n",
    "- **score**\n",
    "  - Indica la calidad de la observación. Podría ser útil para filtrar datos de baja calidad.\n",
    "- **clean**\n",
    "  - También puede ayudar a filtrar observaciones con problemas en la fotometría.\n",
    "- **rowv y colv**\n",
    "  - Indican velocidades en grados/día, que pueden ser útiles si se quiere analizar movimiento propio, pero no son necesarias para un análisis del redshift.\n",
    "\n",
    "\n"
   ]
  },
  {
   "cell_type": "code",
   "execution_count": null,
   "metadata": {},
   "outputs": [],
   "source": [
    "outliers3 = data_t[(data_t['score'] < 0.4) & (data_t[\"clean\"] == 0)]\n",
    "outliers3\n"
   ]
  },
  {
   "cell_type": "code",
   "execution_count": null,
   "metadata": {},
   "outputs": [],
   "source": [
    "#Entendimiento del tamaño del data Set a ser manejado\n",
    "print('Dimensiones de los datos: ', data_t.shape, 'El primer valor corresponde a filas y el segundo a columnas')"
   ]
  },
  {
   "cell_type": "code",
   "execution_count": null,
   "metadata": {},
   "outputs": [],
   "source": [
    "# Visualizacion de los primeros 10 datos\n",
    "display(data_t.head(10))"
   ]
  },
  {
   "cell_type": "code",
   "execution_count": null,
   "metadata": {},
   "outputs": [],
   "source": [
    "# Imprimimos los diferentes tipos de las columnas\n",
    "data_t.dtypes"
   ]
  },
  {
   "cell_type": "code",
   "execution_count": null,
   "metadata": {},
   "outputs": [],
   "source": [
    "# Imprimir las columnas numericas\n",
    "columnasNumericas= data_t.select_dtypes(include=['int','float']).columns\n",
    "print(columnasNumericas)"
   ]
  },
  {
   "cell_type": "code",
   "execution_count": null,
   "metadata": {},
   "outputs": [],
   "source": [
    "data_t.describe( include='all')"
   ]
  },
  {
   "cell_type": "markdown",
   "metadata": {},
   "source": [
    "### Ahora vamos a empezar a revisar los datos que se encuentran mal de cada columna en base a sus datos para ver si se pueden corregir o deben de ser eliminados"
   ]
  },
  {
   "cell_type": "code",
   "execution_count": null,
   "metadata": {},
   "outputs": [],
   "source": [
    "#Para empezar revisamos si hay valores nulos en el dataset, pero no se encuentran datos nulos\n",
    "data_t.isnull().sum()"
   ]
  },
  {
   "cell_type": "code",
   "execution_count": null,
   "metadata": {},
   "outputs": [],
   "source": [
    "# Ver las filas duplicadas\n",
    "duplicados = data_t[data_t.duplicated()]\n",
    "\n",
    "# Para ver tanto las filas originales como sus duplicados:\n",
    "duplicados_todos = data_t[data_t.duplicated(keep=False)]\n",
    "\n",
    "# Para ver cuántas filas duplicadas hay:\n",
    "num_duplicados = data_t.duplicated().sum()\n",
    "\n",
    "# Para ver un resumen más detallado:\n",
    "print(f\"Total de filas duplicadas: {data_t.duplicated().sum()}\")\n"
   ]
  },
  {
   "cell_type": "markdown",
   "metadata": {},
   "source": [
    "### Revisando la Columna 'ra' la cual describe Ubicación del objeto en su componente de ascensión recta de coordenada celeste."
   ]
  },
  {
   "cell_type": "code",
   "execution_count": null,
   "metadata": {},
   "outputs": [],
   "source": [
    "data['ra'].describe()"
   ]
  },
  {
   "cell_type": "code",
   "execution_count": null,
   "metadata": {},
   "outputs": [],
   "source": [
    "#Revisar si hay datos Nulos en la columna ra\n",
    "data['ra'].isna().sum()"
   ]
  },
  {
   "cell_type": "code",
   "execution_count": null,
   "metadata": {},
   "outputs": [],
   "source": [
    "# Ya que Ra describe la ubicación del objeto en su componente de ascensión recta de coordenada celeste. Este valor debe de estar entre 0 y 360 grados.\n",
    "df_out_rango = data_t[(data_t[\"ra\"] < 0) | (data_t[\"ra\"] > 360)]\n",
    "print(df_out_rango)"
   ]
  },
  {
   "cell_type": "code",
   "execution_count": null,
   "metadata": {},
   "outputs": [],
   "source": [
    "#Revisamos si se encuentra dentro del rango intercuartil, los valores que se encuentren por fuera de esto son outlayers [Q1−1.5×IQR,Q3+1.5×IQR]\n",
    "\n",
    "Q1 = data_t['ra'].quantile(0.25)\n",
    "Q3 = data_t['ra'].quantile(0.75)\n",
    "IQR = Q3 - Q1\n",
    "\n",
    "lower_bound = Q1 - 1.5 * IQR\n",
    "upper_bound = Q3 + 1.5 * IQR\n",
    "print(Q1,Q3,IQR)\n",
    "print(lower_bound,upper_bound) \n",
    " \n",
    "outliers = data_t[(data_t['ra'] < lower_bound) | (data_t['ra'] > upper_bound)]\n",
    "# print(outliers['ra'])\n",
    "outliers\n",
    "plt.boxplot(data_t['ra'])\n",
    "plt.title(\"Boxplot de la Ascensión Recta (ra)\")\n",
    "plt.ylabel(\"Ascensión Recta\")\n",
    "plt.show()"
   ]
  },
  {
   "cell_type": "markdown",
   "metadata": {},
   "source": [
    "PENDIENTE PONER EN TIPO MARKDOWN\n",
    "Distribución General:\n",
    "La mediana (línea naranja) se encuentra cerca del centro del cajón, indicando que la distribución no está demasiado sesgada.\n",
    "La mayoría de los datos se encuentran en el rango intercuartil (IQR), entre el primer y tercer cuartil.\n",
    "Valores Atípicos (Outliers):\n",
    "Se observan varios outliers en la parte inferior, lo que sugiere que hay valores significativamente bajos de ascensión recta en comparación con la mayoría de los datos.\n",
    "Algunos de estos valores están bastante lejos del límite inferior del bigote, indicando que podrían ser errores de medición o registros especiales que deben analizarse más a fondo.\n",
    "Límites de los Bigotes:\n",
    "El límite inferior del bigote está alrededor de 90 pero hay valores por debajo de 50, que se consideran atípicos según el método del IQR.\n",
    "El límite superior está alrededor de 250, sin outliers significativos en esta dirección, lo que sugiere que los valores altos no presentan anomalías."
   ]
  },
  {
   "cell_type": "code",
   "execution_count": null,
   "metadata": {},
   "outputs": [],
   "source": [
    "# Crear el histograma para visualizar la distribución de 'ra'\n",
    "plt.figure(figsize=(8, 5))\n",
    "plt.hist(data_t[\"ra\"], bins=20, edgecolor=\"black\", alpha=0.7, color=\"orange\")\n",
    "plt.xlabel(\"Ascensión Recta (ra)\")\n",
    "plt.ylabel(\"Frecuencia\")\n",
    "plt.title(\"Distribución de la Ascensión Recta\")\n",
    "plt.grid(axis=\"y\", linestyle=\"--\", alpha=0.7)\n",
    "\n",
    "plt.show()"
   ]
  },
  {
   "cell_type": "code",
   "execution_count": null,
   "metadata": {},
   "outputs": [],
   "source": [
    "# for col in data_t.select_dtypes(include=['object']):\n",
    "#     print(f\"Valores únicos en {col}:\\n\", data_t[col].unique())"
   ]
  },
  {
   "cell_type": "markdown",
   "metadata": {},
   "source": [
    "## Columna dec\n",
    "Describe: Ubicación del objeto en su componente de declinación de coordenada celeste."
   ]
  },
  {
   "cell_type": "code",
   "execution_count": null,
   "metadata": {},
   "outputs": [],
   "source": [
    "data_t['dec'].describe()"
   ]
  },
  {
   "cell_type": "code",
   "execution_count": null,
   "metadata": {},
   "outputs": [],
   "source": [
    "#Ya que Dec describe la ubicación del objeto en su componente de declinación de coordenada celeste. Este valor debe de estar entre -90 y 90 grados.\n",
    "out_rango = data_t[(data_t[\"dec\"] < -90) | (data_t[\"dec\"] > 90)]\n",
    "print(out_rango)"
   ]
  },
  {
   "cell_type": "code",
   "execution_count": null,
   "metadata": {},
   "outputs": [],
   "source": [
    "Q1 = data_t['dec'].quantile(0.25)\n",
    "Q3 = data_t['dec'].quantile(0.75)\n",
    "IQR = Q3 - Q1\n",
    "\n",
    "lower_bound = Q1 - 1.5 * IQR\n",
    "upper_bound = Q3 + 1.5 * IQR\n",
    "print(Q1,Q3,IQR)\n",
    "print(lower_bound,upper_bound) \n",
    " \n",
    "outliers = data_t[(data_t['dec'] < lower_bound) | (data_t['dec'] > upper_bound)]\n",
    "# print(outliers['dec'])\n",
    "outliers\n",
    "plt.boxplot(data_t['dec'])\n",
    "plt.title(\"Boxplot de la Ascensión Recta (dec)\")\n",
    "plt.ylabel(\"Ascensión Recta\")\n",
    "plt.show()\n"
   ]
  },
  {
   "cell_type": "code",
   "execution_count": null,
   "metadata": {},
   "outputs": [],
   "source": [
    "plt.figure(figsize=(8, 5))\n",
    "plt.hist(data_t[\"dec\"], bins=20, edgecolor=\"black\", alpha=0.7, color=\"orange\")\n",
    "plt.xlabel(\"Ascensión Recta (dec)\")\n",
    "plt.ylabel(\"Frecuencia\")\n",
    "plt.title(\"Distribución de la Ascensión Recta\")\n",
    "plt.grid(axis=\"y\", linestyle=\"--\", alpha=0.7)\n",
    "\n",
    "plt.show()"
   ]
  },
  {
   "cell_type": "markdown",
   "metadata": {},
   "source": [
    "### Vamos a revisar ese dato que se sale de la asension de la recta normal"
   ]
  },
  {
   "cell_type": "code",
   "execution_count": null,
   "metadata": {},
   "outputs": [],
   "source": [
    "# Valores a revisar ya que son valores lejos del centro\n",
    "outliers2 = data_t[(data_t['dec'] > 10)]\n",
    "outliers2"
   ]
  },
  {
   "cell_type": "markdown",
   "metadata": {},
   "source": [
    "## Columna U\n",
    "Magnitud del objeto capturada en el filtro ultravioleta. Valor mayor a 0."
   ]
  },
  {
   "cell_type": "code",
   "execution_count": null,
   "metadata": {},
   "outputs": [],
   "source": [
    "data_t['u'].describe()"
   ]
  },
  {
   "cell_type": "code",
   "execution_count": null,
   "metadata": {},
   "outputs": [],
   "source": [
    "# Revisamos si es que existen valores por debajo del 0 \n",
    "outliers = data_t[(data_t['u'] <= 0)]\n",
    "outliers"
   ]
  },
  {
   "cell_type": "code",
   "execution_count": null,
   "metadata": {},
   "outputs": [],
   "source": [
    "# Revisamos si es que existen valores por encima de 30, pq Normalmente, las magnitudes de objetos astronómicos en el filtro ultravioleta están en un rango entre -5 y 25.\n",
    "outliers = data_t[(data_t['u'] > 30)]\n",
    "outliers"
   ]
  },
  {
   "cell_type": "code",
   "execution_count": null,
   "metadata": {},
   "outputs": [],
   "source": [
    "Q1 = data_t['u'].quantile(0.25)\n",
    "Q3 = data_t['u'].quantile(0.75)\n",
    "IQR = Q3 - Q1\n",
    "\n",
    "lower_bound = Q1 - 1.5 * IQR\n",
    "upper_bound = Q3 + 1.5 * IQR\n",
    "print(Q1,Q3,IQR)\n",
    "print(lower_bound,upper_bound) \n",
    " \n",
    "outliers = data_t[(data_t['u'] < lower_bound) | (data_t['u'] > upper_bound)]\n",
    "# print(outliers['dec'])\n",
    "outliers\n",
    "plt.boxplot(data_t['u'])\n",
    "plt.title(\"Boxplot de la Ascensión Recta (u)\")\n",
    "plt.ylabel(\"Ascensión Recta\")\n",
    "plt.show()\n"
   ]
  },
  {
   "cell_type": "code",
   "execution_count": null,
   "metadata": {},
   "outputs": [],
   "source": [
    "plt.figure(figsize=(8, 5))\n",
    "plt.hist(data_t[\"u\"], bins=20, edgecolor=\"black\", alpha=0.7, color=\"orange\")\n",
    "plt.xlabel(\"Ascensión Recta (u)\")\n",
    "plt.ylabel(\"Frecuencia\")\n",
    "plt.title(\"Distribución de la Ascensión Recta\")\n",
    "plt.grid(axis=\"y\", linestyle=\"--\", alpha=0.7)\n",
    "\n",
    "plt.show()"
   ]
  },
  {
   "cell_type": "markdown",
   "metadata": {},
   "source": [
    "## Columna g\n",
    "Describe: Ubicación del objeto en su componente de declinación de coordenada celeste."
   ]
  },
  {
   "cell_type": "code",
   "execution_count": null,
   "metadata": {},
   "outputs": [],
   "source": [
    "data_t['g'].describe()"
   ]
  },
  {
   "cell_type": "code",
   "execution_count": null,
   "metadata": {},
   "outputs": [],
   "source": [
    "#Ya que g describe la magnitud del objeto en el filtro verde este va entre 12-25\n",
    "out_rango = data_t[(data_t[\"g\"] > 25) | (data_t[\"g\"] < 12)]\n",
    "print(out_rango)"
   ]
  },
  {
   "cell_type": "code",
   "execution_count": null,
   "metadata": {},
   "outputs": [],
   "source": [
    "menor0 = data_t[(data_t[\"g\"] <= 0)]\n",
    "print(menor0)"
   ]
  },
  {
   "cell_type": "code",
   "execution_count": null,
   "metadata": {},
   "outputs": [],
   "source": [
    "Q1 = data_t['g'].quantile(0.25)\n",
    "Q3 = data_t['g'].quantile(0.75)\n",
    "IQR = Q3 - Q1\n",
    "\n",
    "lower_bound = Q1 - 1.5 * IQR\n",
    "upper_bound = Q3 + 1.5 * IQR\n",
    "print(Q1,Q3,IQR)\n",
    "print(lower_bound,upper_bound) \n",
    " \n",
    "outliers = data_t[(data_t['g'] < lower_bound) | (data_t['g'] > upper_bound)]\n",
    "# print(outliers['g'])\n",
    "outliers\n",
    "plt.boxplot(data_t['g'])\n",
    "plt.title(\"Boxplot de la Ascensión Recta (g)\")\n",
    "plt.ylabel(\"Ascensión Recta\")\n",
    "plt.show()"
   ]
  },
  {
   "cell_type": "code",
   "execution_count": null,
   "metadata": {},
   "outputs": [],
   "source": [
    "plt.figure(figsize=(8, 5))\n",
    "plt.hist(data_t[\"g\"], bins=20, edgecolor=\"black\", alpha=0.7, color=\"orange\")\n",
    "plt.xlabel(\"Ascensión Recta (g)\")\n",
    "plt.ylabel(\"Frecuencia\")\n",
    "plt.title(\"Distribución de la Ascensión Recta\")\n",
    "plt.grid(axis=\"y\", linestyle=\"--\", alpha=0.7)\n",
    "\n",
    "plt.show()"
   ]
  },
  {
   "cell_type": "markdown",
   "metadata": {},
   "source": [
    "## Columna r\n",
    "Describe: Magnitud del objeto capturada en el filtro rojo. Valor mayor a 0."
   ]
  },
  {
   "cell_type": "code",
   "execution_count": null,
   "metadata": {},
   "outputs": [],
   "source": [
    "data_t['r'].describe()"
   ]
  },
  {
   "cell_type": "code",
   "execution_count": null,
   "metadata": {},
   "outputs": [],
   "source": [
    "menor0 = data_t[(data_t[\"r\"] <= 0)]\n",
    "print(menor0)"
   ]
  },
  {
   "cell_type": "markdown",
   "metadata": {},
   "source": [
    "## Columna z\n",
    "Describe: Magnitud del objeto capturada en el filtro casi-infrarrojo. Valor mayor a 0."
   ]
  },
  {
   "cell_type": "code",
   "execution_count": null,
   "metadata": {},
   "outputs": [],
   "source": [
    "data_t['z'].describe()"
   ]
  },
  {
   "cell_type": "markdown",
   "metadata": {},
   "source": [
    "## Columna i\n",
    "Describe: Magnitud del objeto capturada en el filtro infrarrojo. Valor mayor a 0."
   ]
  },
  {
   "cell_type": "code",
   "execution_count": null,
   "metadata": {},
   "outputs": [],
   "source": [
    "data_t['i'].describe()"
   ]
  },
  {
   "cell_type": "markdown",
   "metadata": {},
   "source": [
    "## Columna camcol\n",
    "Describe: Columna de la cámara en la que se registró el objeto."
   ]
  },
  {
   "cell_type": "code",
   "execution_count": null,
   "metadata": {},
   "outputs": [],
   "source": [
    "print(data_t['camcol'].value_counts())\n",
    "print(\"Valores únicos:\", data_t['camcol'].unique())\n",
    "\n",
    "#Podemos ver que es una columna numerica pero deberia de ser categorica solo toma valores \n",
    "# específicos como {1, 2, 3, 4, 5, 6}, es más una categoría que un número"
   ]
  },
  {
   "cell_type": "code",
   "execution_count": null,
   "metadata": {},
   "outputs": [],
   "source": [
    "data_t['camcol'] = data_t['camcol'].astype('category')\n",
    "print(\"Tipo de dato:\", data_t['camcol'].dtype)"
   ]
  },
  {
   "cell_type": "code",
   "execution_count": null,
   "metadata": {},
   "outputs": [],
   "source": [
    "plt.figure(figsize=(8, 5))\n",
    "plt.hist(data_t[\"camcol\"], bins=20, edgecolor=\"black\", alpha=0.7, color=\"orange\")\n",
    "plt.xlabel(\"X\")\n",
    "plt.ylabel(\"Frecuencia\")\n",
    "plt.title(\"Distribución de la Ascensión Recta\")\n",
    "plt.grid(axis=\"y\", linestyle=\"--\", alpha=0.7)\n",
    "\n",
    "plt.show()\n"
   ]
  },
  {
   "cell_type": "markdown",
   "metadata": {},
   "source": [
    "## Columna field\n",
    "Describe: Sección de la columna de la cámara en la que se registró el objeto.\n"
   ]
  },
  {
   "cell_type": "code",
   "execution_count": null,
   "metadata": {},
   "outputs": [],
   "source": [
    "for col in data.columns:\n",
    "    unique_values = data[col].nunique()\n",
    "    print(f\"{col}: {unique_values} valores únicos\")\n"
   ]
  },
  {
   "cell_type": "markdown",
   "metadata": {},
   "source": [
    "## Análisis de calidad de los datos"
   ]
  },
  {
   "cell_type": "markdown",
   "metadata": {},
   "source": [
    "Completitud"
   ]
  },
  {
   "cell_type": "code",
   "execution_count": null,
   "metadata": {},
   "outputs": [],
   "source": [
    "# Cálculo de valores nulos por columna\n",
    "((data_t.isnull().sum()/data_t.shape[0])).sort_values(ascending=False)"
   ]
  },
  {
   "cell_type": "markdown",
   "metadata": {},
   "source": [
    "Al hacer un examen de completitud de los datos podemos ver que no hay datos nulos en ninguna columna del data frame"
   ]
  },
  {
   "cell_type": "markdown",
   "metadata": {},
   "source": [
    "2.2 Unicidad"
   ]
  },
  {
   "cell_type": "code",
   "execution_count": null,
   "metadata": {},
   "outputs": [],
   "source": [
    "data_t.duplicated(keep = False).sum()\n",
    "print(f\"Filas duplicadas: {data_t.duplicated(keep=False).sum()}\")"
   ]
  },
  {
   "cell_type": "markdown",
   "metadata": {},
   "source": [
    "Se identificaron 34 filas duplicadas, ahora vamos a ver a detalle que es lo que está sucediendo"
   ]
  },
  {
   "cell_type": "code",
   "execution_count": null,
   "metadata": {},
   "outputs": [],
   "source": [
    "duplicados = data_t.loc[data_t.duplicated(keep=False)]\n",
    "duplicados"
   ]
  },
  {
   "cell_type": "markdown",
   "metadata": {},
   "source": [
    "Viendo a detalle los datos se puede ver que hay filas completamente duplicadas. Analizando el contexto de los datos y la forma en que se toman no tiene sentido que hayan filas completamente duplicadas, por lo cual consideramos eliminarlas. Eliminaremos 17 filas ya que estas corresponden a las filas duplicadas"
   ]
  },
  {
   "cell_type": "markdown",
   "metadata": {},
   "source": [
    "2.3 Consistencia "
   ]
  },
  {
   "cell_type": "code",
   "execution_count": null,
   "metadata": {},
   "outputs": [],
   "source": []
  },
  {
   "cell_type": "markdown",
   "metadata": {},
   "source": [
    "2.4 Validez"
   ]
  },
  {
   "cell_type": "code",
   "execution_count": null,
   "metadata": {},
   "outputs": [],
   "source": []
  },
  {
   "cell_type": "markdown",
   "metadata": {},
   "source": [
    "## Visualización de datos"
   ]
  },
  {
   "cell_type": "code",
   "execution_count": null,
   "metadata": {},
   "outputs": [],
   "source": [
    "data_t.hist(figsize=(15,18),bins=30,edgecolor=\"black\")"
   ]
  },
  {
   "cell_type": "markdown",
   "metadata": {},
   "source": [
    "Análisis de correlaciones"
   ]
  },
  {
   "cell_type": "code",
   "execution_count": null,
   "metadata": {},
   "outputs": [],
   "source": [
    "data_t[\"class\"].value_counts()"
   ]
  },
  {
   "cell_type": "code",
   "execution_count": null,
   "metadata": {},
   "outputs": [],
   "source": [
    "data_t[\"class\"] = data_t[\"class\"].replace({\n",
    "    \"S\": \"STAR\",\n",
    "    \"G\": \"GALAXY\",\n",
    "    \"QUASAR\": \"QSO\"\n",
    "})\n",
    "data_t[\"class\"].value_counts()"
   ]
  },
  {
   "cell_type": "code",
   "execution_count": null,
   "metadata": {},
   "outputs": [],
   "source": [
    "features=[\"ra\",\"dec\",\"u\",\"g\",\"r\",\"z\",\"i\",\"class\",\"redshift\",\"mjd\"]\n",
    "data_t=data_t[features]\n",
    "data_t.head()"
   ]
  },
  {
   "cell_type": "markdown",
   "metadata": {},
   "source": [
    "One-Hot encoding"
   ]
  },
  {
   "cell_type": "code",
   "execution_count": null,
   "metadata": {},
   "outputs": [],
   "source": [
    "dumies=pd.get_dummies(data_t[\"class\"], dtype=int)\n",
    "data_t=pd.concat([data_t, dumies], axis=1)"
   ]
  },
  {
   "cell_type": "code",
   "execution_count": null,
   "metadata": {},
   "outputs": [],
   "source": [
    "data_t=data_t.drop([\"class\"],axis=1)"
   ]
  },
  {
   "cell_type": "code",
   "execution_count": null,
   "metadata": {},
   "outputs": [],
   "source": [
    "data_t.head()"
   ]
  },
  {
   "cell_type": "markdown",
   "metadata": {},
   "source": [
    "Análisis de correlaciones"
   ]
  },
  {
   "cell_type": "code",
   "execution_count": null,
   "metadata": {},
   "outputs": [],
   "source": [
    "sb.set(rc={\"figure.figsize\":(25,12)})\n",
    "sb.heatmap( data_t.corr(),annot=True, cmap=\"YlGnBu\" )"
   ]
  },
  {
   "cell_type": "markdown",
   "metadata": {},
   "source": [
    "### REGRESION LINEAL"
   ]
  },
  {
   "cell_type": "code",
   "execution_count": null,
   "metadata": {},
   "outputs": [],
   "source": [
    "from sklearn.model_selection import train_test_split\n",
    "from sklearn.linear_model import LinearRegression\n",
    "\n",
    "\n",
    "X_train, X_test, y_train, y_test = train_test_split(data_t, data_t[\"redshift\"], test_size=0.3, random_state=1)\n",
    "\n",
    "X_test.shape, y_test.shape"
   ]
  },
  {
   "cell_type": "code",
   "execution_count": null,
   "metadata": {},
   "outputs": [],
   "source": [
    "\n",
    "\n",
    "# Crear y entrenar el modelo\n",
    "regression = LinearRegression()\n",
    "regression.fit(X_train, y_train)"
   ]
  }
 ],
 "metadata": {
  "kernelspec": {
   "display_name": "base",
   "language": "python",
   "name": "python3"
  },
  "language_info": {
   "codemirror_mode": {
    "name": "ipython",
    "version": 3
   },
   "file_extension": ".py",
   "mimetype": "text/x-python",
   "name": "python",
   "nbconvert_exporter": "python",
   "pygments_lexer": "ipython3",
   "version": "3.12.7"
  }
 },
 "nbformat": 4,
 "nbformat_minor": 2
}
