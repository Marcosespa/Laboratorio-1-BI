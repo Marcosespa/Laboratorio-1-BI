{
 "cells": [
  {
   "cell_type": "markdown",
   "metadata": {},
   "source": [
    "# Laboratorio 1"
   ]
  },
  {
   "cell_type": "code",
   "execution_count": 4,
   "metadata": {},
   "outputs": [
    {
     "ename": "",
     "evalue": "",
     "output_type": "error",
     "traceback": [
      "\u001b[1;31mRunning cells with 'pyomo_env (Python 3.9.21)' requires the ipykernel package.\n",
      "\u001b[1;31mRun the following command to install 'ipykernel' into the Python environment. \n",
      "\u001b[1;31mCommand: 'conda install -n pyomo_env ipykernel --update-deps --force-reinstall'"
     ]
    }
   ],
   "source": [
    "#Instalcion de todas las librerias\n",
    "import pandas as pd\n",
    "import numpy as np\n",
    "import sys\n",
    "from sklearn.base import BaseEstimator, ClassifierMixin\n",
    "import matplotlib.pyplot as plt\n",
    "import seaborn as sb\n"
   ]
  },
  {
   "cell_type": "markdown",
   "metadata": {},
   "source": [
    "### Carga de datos"
   ]
  },
  {
   "cell_type": "code",
   "execution_count": 5,
   "metadata": {},
   "outputs": [],
   "source": [
    "# Uso de la libreria pandas para la lectura de archivos\n",
    "data=pd.read_csv('train_data.csv', sep=',', encoding = 'utf-8')\n",
    "# Asignación a una nueva variable de los datos leidos\n",
    "data_t=data"
   ]
  },
  {
   "cell_type": "code",
   "execution_count": 6,
   "metadata": {},
   "outputs": [
    {
     "data": {
      "text/html": [
       "<div>\n",
       "<style scoped>\n",
       "    .dataframe tbody tr th:only-of-type {\n",
       "        vertical-align: middle;\n",
       "    }\n",
       "\n",
       "    .dataframe tbody tr th {\n",
       "        vertical-align: top;\n",
       "    }\n",
       "\n",
       "    .dataframe thead th {\n",
       "        text-align: right;\n",
       "    }\n",
       "</style>\n",
       "<table border=\"1\" class=\"dataframe\">\n",
       "  <thead>\n",
       "    <tr style=\"text-align: right;\">\n",
       "      <th></th>\n",
       "      <th>objid</th>\n",
       "      <th>ra</th>\n",
       "      <th>dec</th>\n",
       "      <th>u</th>\n",
       "      <th>g</th>\n",
       "      <th>r</th>\n",
       "      <th>i</th>\n",
       "      <th>z</th>\n",
       "      <th>run</th>\n",
       "      <th>camcol</th>\n",
       "      <th>field</th>\n",
       "      <th>score</th>\n",
       "      <th>clean</th>\n",
       "      <th>class</th>\n",
       "      <th>redshift</th>\n",
       "      <th>mjd</th>\n",
       "      <th>rowv</th>\n",
       "      <th>colv</th>\n",
       "    </tr>\n",
       "  </thead>\n",
       "  <tbody>\n",
       "    <tr>\n",
       "      <th>0</th>\n",
       "      <td>1237648722306924571</td>\n",
       "      <td>185.574486</td>\n",
       "      <td>0.701402</td>\n",
       "      <td>19.11034</td>\n",
       "      <td>17.62099</td>\n",
       "      <td>17.03464</td>\n",
       "      <td>16.82993</td>\n",
       "      <td>16.71711</td>\n",
       "      <td>756</td>\n",
       "      <td>5</td>\n",
       "      <td>466</td>\n",
       "      <td>0.864145</td>\n",
       "      <td>1</td>\n",
       "      <td>STAR</td>\n",
       "      <td>8.780529e-05</td>\n",
       "      <td>54140</td>\n",
       "      <td>0.002418</td>\n",
       "      <td>0.001363</td>\n",
       "    </tr>\n",
       "    <tr>\n",
       "      <th>1</th>\n",
       "      <td>1237648720167436418</td>\n",
       "      <td>203.801841</td>\n",
       "      <td>-0.853906</td>\n",
       "      <td>18.90957</td>\n",
       "      <td>17.62940</td>\n",
       "      <td>17.01465</td>\n",
       "      <td>16.62059</td>\n",
       "      <td>16.35239</td>\n",
       "      <td>756</td>\n",
       "      <td>1</td>\n",
       "      <td>588</td>\n",
       "      <td>0.816541</td>\n",
       "      <td>1</td>\n",
       "      <td>GALAXY</td>\n",
       "      <td>8.619995e-02</td>\n",
       "      <td>51955</td>\n",
       "      <td>0.008650</td>\n",
       "      <td>0.007056</td>\n",
       "    </tr>\n",
       "    <tr>\n",
       "      <th>2</th>\n",
       "      <td>1237648720685105352</td>\n",
       "      <td>160.034264</td>\n",
       "      <td>-0.421626</td>\n",
       "      <td>19.26340</td>\n",
       "      <td>17.67693</td>\n",
       "      <td>16.82551</td>\n",
       "      <td>16.42307</td>\n",
       "      <td>16.13864</td>\n",
       "      <td>756</td>\n",
       "      <td>2</td>\n",
       "      <td>295</td>\n",
       "      <td>0.870381</td>\n",
       "      <td>1</td>\n",
       "      <td>GALAXY</td>\n",
       "      <td>1.330486e-01</td>\n",
       "      <td>51913</td>\n",
       "      <td>0.003938</td>\n",
       "      <td>-0.002028</td>\n",
       "    </tr>\n",
       "    <tr>\n",
       "      <th>3</th>\n",
       "      <td>1237648703510937836</td>\n",
       "      <td>200.807373</td>\n",
       "      <td>-0.682024</td>\n",
       "      <td>18.82022</td>\n",
       "      <td>17.77765</td>\n",
       "      <td>17.38575</td>\n",
       "      <td>17.11128</td>\n",
       "      <td>16.93540</td>\n",
       "      <td>752</td>\n",
       "      <td>2</td>\n",
       "      <td>382</td>\n",
       "      <td>0.867801</td>\n",
       "      <td>1</td>\n",
       "      <td>GALAXY</td>\n",
       "      <td>8.636355e-02</td>\n",
       "      <td>51959</td>\n",
       "      <td>0.001839</td>\n",
       "      <td>0.001160</td>\n",
       "    </tr>\n",
       "    <tr>\n",
       "      <th>4</th>\n",
       "      <td>1237648720161275992</td>\n",
       "      <td>189.792404</td>\n",
       "      <td>-1.001480</td>\n",
       "      <td>18.91391</td>\n",
       "      <td>19.05355</td>\n",
       "      <td>19.46278</td>\n",
       "      <td>19.75660</td>\n",
       "      <td>20.09613</td>\n",
       "      <td>756</td>\n",
       "      <td>1</td>\n",
       "      <td>494</td>\n",
       "      <td>0.833824</td>\n",
       "      <td>1</td>\n",
       "      <td>STAR</td>\n",
       "      <td>-4.090000e-08</td>\n",
       "      <td>54562</td>\n",
       "      <td>0.001929</td>\n",
       "      <td>-0.000465</td>\n",
       "    </tr>\n",
       "    <tr>\n",
       "      <th>...</th>\n",
       "      <td>...</td>\n",
       "      <td>...</td>\n",
       "      <td>...</td>\n",
       "      <td>...</td>\n",
       "      <td>...</td>\n",
       "      <td>...</td>\n",
       "      <td>...</td>\n",
       "      <td>...</td>\n",
       "      <td>...</td>\n",
       "      <td>...</td>\n",
       "      <td>...</td>\n",
       "      <td>...</td>\n",
       "      <td>...</td>\n",
       "      <td>...</td>\n",
       "      <td>...</td>\n",
       "      <td>...</td>\n",
       "      <td>...</td>\n",
       "      <td>...</td>\n",
       "    </tr>\n",
       "    <tr>\n",
       "      <th>3995</th>\n",
       "      <td>1237648720690741273</td>\n",
       "      <td>172.826005</td>\n",
       "      <td>-0.484303</td>\n",
       "      <td>18.81890</td>\n",
       "      <td>17.89273</td>\n",
       "      <td>17.54372</td>\n",
       "      <td>17.41363</td>\n",
       "      <td>17.31821</td>\n",
       "      <td>756</td>\n",
       "      <td>2</td>\n",
       "      <td>381</td>\n",
       "      <td>0.887803</td>\n",
       "      <td>1</td>\n",
       "      <td>STAR</td>\n",
       "      <td>1.521540e-04</td>\n",
       "      <td>54891</td>\n",
       "      <td>0.000675</td>\n",
       "      <td>0.000324</td>\n",
       "    </tr>\n",
       "    <tr>\n",
       "      <th>3996</th>\n",
       "      <td>1237649918427267086</td>\n",
       "      <td>11.165126</td>\n",
       "      <td>13.745240</td>\n",
       "      <td>17.46665</td>\n",
       "      <td>15.96142</td>\n",
       "      <td>15.36014</td>\n",
       "      <td>15.14572</td>\n",
       "      <td>15.04453</td>\n",
       "      <td>1035</td>\n",
       "      <td>1</td>\n",
       "      <td>38</td>\n",
       "      <td>0.844826</td>\n",
       "      <td>1</td>\n",
       "      <td>STAR</td>\n",
       "      <td>4.182837e-05</td>\n",
       "      <td>53242</td>\n",
       "      <td>-0.000440</td>\n",
       "      <td>-0.000301</td>\n",
       "    </tr>\n",
       "    <tr>\n",
       "      <th>3997</th>\n",
       "      <td>1237648720164684046</td>\n",
       "      <td>197.579529</td>\n",
       "      <td>-0.971573</td>\n",
       "      <td>19.45682</td>\n",
       "      <td>18.32555</td>\n",
       "      <td>17.86916</td>\n",
       "      <td>17.57512</td>\n",
       "      <td>17.41648</td>\n",
       "      <td>756</td>\n",
       "      <td>1</td>\n",
       "      <td>546</td>\n",
       "      <td>0.819151</td>\n",
       "      <td>1</td>\n",
       "      <td>GALAXY</td>\n",
       "      <td>8.160563e-02</td>\n",
       "      <td>51985</td>\n",
       "      <td>0.011348</td>\n",
       "      <td>0.005854</td>\n",
       "    </tr>\n",
       "    <tr>\n",
       "      <th>3998</th>\n",
       "      <td>1237648721206575779</td>\n",
       "      <td>124.877626</td>\n",
       "      <td>-0.048110</td>\n",
       "      <td>19.20158</td>\n",
       "      <td>17.31450</td>\n",
       "      <td>16.36573</td>\n",
       "      <td>15.91760</td>\n",
       "      <td>15.57736</td>\n",
       "      <td>756</td>\n",
       "      <td>3</td>\n",
       "      <td>60</td>\n",
       "      <td>0.894044</td>\n",
       "      <td>1</td>\n",
       "      <td>GALAXY</td>\n",
       "      <td>8.744828e-02</td>\n",
       "      <td>55888</td>\n",
       "      <td>-0.004486</td>\n",
       "      <td>-0.006072</td>\n",
       "    </tr>\n",
       "    <tr>\n",
       "      <th>3999</th>\n",
       "      <td>1237648720161800205</td>\n",
       "      <td>190.920230</td>\n",
       "      <td>-0.972532</td>\n",
       "      <td>17.63725</td>\n",
       "      <td>16.65544</td>\n",
       "      <td>16.29970</td>\n",
       "      <td>16.14733</td>\n",
       "      <td>16.09544</td>\n",
       "      <td>756</td>\n",
       "      <td>1</td>\n",
       "      <td>502</td>\n",
       "      <td>0.845173</td>\n",
       "      <td>1</td>\n",
       "      <td>STAR</td>\n",
       "      <td>2.131280e-04</td>\n",
       "      <td>51928</td>\n",
       "      <td>0.001372</td>\n",
       "      <td>0.000094</td>\n",
       "    </tr>\n",
       "  </tbody>\n",
       "</table>\n",
       "<p>4000 rows × 18 columns</p>\n",
       "</div>"
      ],
      "text/plain": [
       "                    objid          ra        dec         u         g  \\\n",
       "0     1237648722306924571  185.574486   0.701402  19.11034  17.62099   \n",
       "1     1237648720167436418  203.801841  -0.853906  18.90957  17.62940   \n",
       "2     1237648720685105352  160.034264  -0.421626  19.26340  17.67693   \n",
       "3     1237648703510937836  200.807373  -0.682024  18.82022  17.77765   \n",
       "4     1237648720161275992  189.792404  -1.001480  18.91391  19.05355   \n",
       "...                   ...         ...        ...       ...       ...   \n",
       "3995  1237648720690741273  172.826005  -0.484303  18.81890  17.89273   \n",
       "3996  1237649918427267086   11.165126  13.745240  17.46665  15.96142   \n",
       "3997  1237648720164684046  197.579529  -0.971573  19.45682  18.32555   \n",
       "3998  1237648721206575779  124.877626  -0.048110  19.20158  17.31450   \n",
       "3999  1237648720161800205  190.920230  -0.972532  17.63725  16.65544   \n",
       "\n",
       "             r         i         z   run  camcol  field     score  clean  \\\n",
       "0     17.03464  16.82993  16.71711   756       5    466  0.864145      1   \n",
       "1     17.01465  16.62059  16.35239   756       1    588  0.816541      1   \n",
       "2     16.82551  16.42307  16.13864   756       2    295  0.870381      1   \n",
       "3     17.38575  17.11128  16.93540   752       2    382  0.867801      1   \n",
       "4     19.46278  19.75660  20.09613   756       1    494  0.833824      1   \n",
       "...        ...       ...       ...   ...     ...    ...       ...    ...   \n",
       "3995  17.54372  17.41363  17.31821   756       2    381  0.887803      1   \n",
       "3996  15.36014  15.14572  15.04453  1035       1     38  0.844826      1   \n",
       "3997  17.86916  17.57512  17.41648   756       1    546  0.819151      1   \n",
       "3998  16.36573  15.91760  15.57736   756       3     60  0.894044      1   \n",
       "3999  16.29970  16.14733  16.09544   756       1    502  0.845173      1   \n",
       "\n",
       "       class      redshift    mjd      rowv      colv  \n",
       "0       STAR  8.780529e-05  54140  0.002418  0.001363  \n",
       "1     GALAXY  8.619995e-02  51955  0.008650  0.007056  \n",
       "2     GALAXY  1.330486e-01  51913  0.003938 -0.002028  \n",
       "3     GALAXY  8.636355e-02  51959  0.001839  0.001160  \n",
       "4       STAR -4.090000e-08  54562  0.001929 -0.000465  \n",
       "...      ...           ...    ...       ...       ...  \n",
       "3995    STAR  1.521540e-04  54891  0.000675  0.000324  \n",
       "3996    STAR  4.182837e-05  53242 -0.000440 -0.000301  \n",
       "3997  GALAXY  8.160563e-02  51985  0.011348  0.005854  \n",
       "3998  GALAXY  8.744828e-02  55888 -0.004486 -0.006072  \n",
       "3999    STAR  2.131280e-04  51928  0.001372  0.000094  \n",
       "\n",
       "[4000 rows x 18 columns]"
      ]
     },
     "execution_count": 6,
     "metadata": {},
     "output_type": "execute_result"
    }
   ],
   "source": [
    "data_t"
   ]
  },
  {
   "cell_type": "markdown",
   "metadata": {},
   "source": [
    "## Entendimiento de los Datos\n",
    "\n",
    "Antes de comenzar a analizar los datos, es fundamental identificar cuáles son más importantes que otros.\n",
    "\n",
    "###  Variables Necesarias\n",
    "\n",
    "- **ra (Ascensión recta)**\n",
    "  - Indica la posición del objeto en el cielo.\n",
    "- **dec (Declinación)**\n",
    "  - Complementa la posición del objeto en coordenadas celestes.\n",
    "- **u, g, r, z, i (Magnitudes en diferentes filtros)**\n",
    "  - Permiten clasificar y caracterizar los objetos en función de su emisión de luz en distintos rangos de longitud de onda.\n",
    "  - Son fundamentales para estimar redshifts fotométricos si se quiere hacer una estimación sin espectroscopía.\n",
    "- **class**\n",
    "  - Indica si el objeto es una estrella (**STAR**), una galaxia (**GALAXY**) o un cuásar (**QSO**).\n",
    "  - Importante porque el redshift se aplica principalmente a galaxias y cuásares.\n",
    "- **redshift**\n",
    "  - Es el valor clave de estudio, ya que representa el corrimiento al rojo del objeto.\n",
    "\n",
    "\n",
    "###  Variables no necesarias\n",
    "\n",
    "- **mjd (Día juliano)**\n",
    "  - Puede ser útil si se estudian variaciones en observaciones a lo largo del tiempo.\n",
    "- **run**\n",
    "    - Es la cantidad de observaciones realizadas por el telescopio pero en este caso no es importante\n",
    "- **camcol**\n",
    "    - Columna de la cámara en la que se registró el objeto. Se reviso la correlacion lineal pero fue muy bajo tambien por eso se descarto esto.     \n",
    " - **field**\n",
    "    - Sección de la columna de la cámara en la que se registró el objeto. Ya que Camcol no la tomamos importante esta tampoco para el analisis      \n",
    "- **score**\n",
    "  - Indica la calidad de la observación. Podría ser útil para filtrar datos de baja calidad.\n",
    "- **clean**\n",
    "  - También puede ayudar a filtrar observaciones con problemas en la fotometría.\n",
    "- **rowv y colv**\n",
    "  - Indican velocidades en grados/día, que pueden ser útiles si se quiere analizar movimiento propio, pero no son necesarias para un análisis del redshift.\n",
    "\n",
    "\n"
   ]
  },
  {
   "cell_type": "code",
   "execution_count": null,
   "metadata": {},
   "outputs": [],
   "source": [
    "outliers3 = data_t[(data_t['score'] < 0.4) & (data_t[\"clean\"] == 0)]\n",
    "outliers3\n"
   ]
  },
  {
   "cell_type": "code",
   "execution_count": null,
   "metadata": {},
   "outputs": [],
   "source": [
    "#Entendimiento del tamaño del data Set a ser manejado\n",
    "print('Dimensiones de los datos: ', data_t.shape, 'El primer valor corresponde a filas y el segundo a columnas')"
   ]
  },
  {
   "cell_type": "code",
   "execution_count": null,
   "metadata": {},
   "outputs": [],
   "source": [
    "# Visualizacion de los primeros 10 datos\n",
    "display(data_t.head(10))"
   ]
  },
  {
   "cell_type": "code",
   "execution_count": null,
   "metadata": {},
   "outputs": [],
   "source": [
    "# Imprimimos los diferentes tipos de las columnas\n",
    "data_t.dtypes"
   ]
  },
  {
   "cell_type": "code",
   "execution_count": null,
   "metadata": {},
   "outputs": [],
   "source": [
    "# Imprimir las columnas numericas\n",
    "columnasNumericas= data_t.select_dtypes(include=['int','float']).columns\n",
    "print(columnasNumericas)"
   ]
  },
  {
   "cell_type": "code",
   "execution_count": null,
   "metadata": {},
   "outputs": [],
   "source": [
    "data_t.describe( include='all')"
   ]
  },
  {
   "cell_type": "markdown",
   "metadata": {},
   "source": [
    "### Ahora vamos a empezar a revisar los datos que se encuentran mal de cada columna en base a sus datos para ver si se pueden corregir o deben de ser eliminados"
   ]
  },
  {
   "cell_type": "code",
   "execution_count": null,
   "metadata": {},
   "outputs": [],
   "source": [
    "#Para empezar revisamos si hay valores nulos en el dataset, pero no se encuentran datos nulos\n",
    "data_t.isnull().sum()"
   ]
  },
  {
   "cell_type": "code",
   "execution_count": null,
   "metadata": {},
   "outputs": [],
   "source": [
    "# Ver las filas duplicadas\n",
    "duplicados = data_t[data_t.duplicated()]\n",
    "\n",
    "# Para ver tanto las filas originales como sus duplicados:\n",
    "duplicados_todos = data_t[data_t.duplicated(keep=False)]\n",
    "\n",
    "# Para ver cuántas filas duplicadas hay:\n",
    "num_duplicados = data_t.duplicated().sum()\n",
    "\n",
    "# Para ver un resumen más detallado:\n",
    "print(f\"Total de filas duplicadas: {data_t.duplicated().sum()}\")\n"
   ]
  },
  {
   "cell_type": "markdown",
   "metadata": {},
   "source": [
    "### Revisando la Columna 'ra' la cual describe Ubicación del objeto en su componente de ascensión recta de coordenada celeste."
   ]
  },
  {
   "cell_type": "code",
   "execution_count": null,
   "metadata": {},
   "outputs": [],
   "source": [
    "data['ra'].describe()"
   ]
  },
  {
   "cell_type": "code",
   "execution_count": null,
   "metadata": {},
   "outputs": [],
   "source": [
    "#Revisar si hay datos Nulos en la columna ra\n",
    "data['ra'].isna().sum()"
   ]
  },
  {
   "cell_type": "code",
   "execution_count": null,
   "metadata": {},
   "outputs": [],
   "source": [
    "# Ya que Ra describe la ubicación del objeto en su componente de ascensión recta de coordenada celeste. Este valor debe de estar entre 0 y 360 grados.\n",
    "df_out_rango = data_t[(data_t[\"ra\"] < 0) | (data_t[\"ra\"] > 360)]\n",
    "print(df_out_rango)"
   ]
  },
  {
   "cell_type": "code",
   "execution_count": null,
   "metadata": {},
   "outputs": [],
   "source": [
    "#Revisamos si se encuentra dentro del rango intercuartil, los valores que se encuentren por fuera de esto son outlayers [Q1−1.5×IQR,Q3+1.5×IQR]\n",
    "\n",
    "Q1 = data_t['ra'].quantile(0.25)\n",
    "Q3 = data_t['ra'].quantile(0.75)\n",
    "IQR = Q3 - Q1\n",
    "\n",
    "lower_bound = Q1 - 1.5 * IQR\n",
    "upper_bound = Q3 + 1.5 * IQR\n",
    "print(Q1,Q3,IQR)\n",
    "print(lower_bound,upper_bound) \n",
    " \n",
    "outliers = data_t[(data_t['ra'] < lower_bound) | (data_t['ra'] > upper_bound)]\n",
    "# print(outliers['ra'])\n",
    "outliers\n",
    "plt.boxplot(data_t['ra'])\n",
    "plt.title(\"Boxplot de la Ascensión Recta (ra)\")\n",
    "plt.ylabel(\"Ascensión Recta\")\n",
    "plt.show()"
   ]
  },
  {
   "cell_type": "markdown",
   "metadata": {},
   "source": [
    "PENDIENTE PONER EN TIPO MARKDOWN\n",
    "Distribución General:\n",
    "La mediana (línea naranja) se encuentra cerca del centro del cajón, indicando que la distribución no está demasiado sesgada.\n",
    "La mayoría de los datos se encuentran en el rango intercuartil (IQR), entre el primer y tercer cuartil.\n",
    "Valores Atípicos (Outliers):\n",
    "Se observan varios outliers en la parte inferior, lo que sugiere que hay valores significativamente bajos de ascensión recta en comparación con la mayoría de los datos.\n",
    "Algunos de estos valores están bastante lejos del límite inferior del bigote, indicando que podrían ser errores de medición o registros especiales que deben analizarse más a fondo.\n",
    "Límites de los Bigotes:\n",
    "El límite inferior del bigote está alrededor de 90 pero hay valores por debajo de 50, que se consideran atípicos según el método del IQR.\n",
    "El límite superior está alrededor de 250, sin outliers significativos en esta dirección, lo que sugiere que los valores altos no presentan anomalías."
   ]
  },
  {
   "cell_type": "code",
   "execution_count": null,
   "metadata": {},
   "outputs": [],
   "source": [
    "# Crear el histograma para visualizar la distribución de 'ra'\n",
    "plt.figure(figsize=(8, 5))\n",
    "plt.hist(data_t[\"ra\"], bins=20, edgecolor=\"black\", alpha=0.7, color=\"orange\")\n",
    "plt.xlabel(\"Ascensión Recta (ra)\")\n",
    "plt.ylabel(\"Frecuencia\")\n",
    "plt.title(\"Distribución de la Ascensión Recta\")\n",
    "plt.grid(axis=\"y\", linestyle=\"--\", alpha=0.7)\n",
    "\n",
    "plt.show()"
   ]
  },
  {
   "cell_type": "code",
   "execution_count": null,
   "metadata": {},
   "outputs": [],
   "source": [
    "# for col in data_t.select_dtypes(include=['object']):\n",
    "#     print(f\"Valores únicos en {col}:\\n\", data_t[col].unique())"
   ]
  },
  {
   "cell_type": "markdown",
   "metadata": {},
   "source": [
    "## Columna dec\n",
    "Describe: Ubicación del objeto en su componente de declinación de coordenada celeste."
   ]
  },
  {
   "cell_type": "code",
   "execution_count": null,
   "metadata": {},
   "outputs": [],
   "source": [
    "data_t['dec'].describe()"
   ]
  },
  {
   "cell_type": "code",
   "execution_count": null,
   "metadata": {},
   "outputs": [],
   "source": [
    "#Ya que Dec describe la ubicación del objeto en su componente de declinación de coordenada celeste. Este valor debe de estar entre -90 y 90 grados.\n",
    "out_rango = data_t[(data_t[\"dec\"] < -90) | (data_t[\"dec\"] > 90)]\n",
    "print(out_rango)"
   ]
  },
  {
   "cell_type": "code",
   "execution_count": null,
   "metadata": {},
   "outputs": [],
   "source": [
    "Q1 = data_t['dec'].quantile(0.25)\n",
    "Q3 = data_t['dec'].quantile(0.75)\n",
    "IQR = Q3 - Q1\n",
    "\n",
    "lower_bound = Q1 - 1.5 * IQR\n",
    "upper_bound = Q3 + 1.5 * IQR\n",
    "print(Q1,Q3,IQR)\n",
    "print(lower_bound,upper_bound) \n",
    " \n",
    "outliers = data_t[(data_t['dec'] < lower_bound) | (data_t['dec'] > upper_bound)]\n",
    "# print(outliers['dec'])\n",
    "outliers\n",
    "plt.boxplot(data_t['dec'])\n",
    "plt.title(\"Boxplot de la Ascensión Recta (dec)\")\n",
    "plt.ylabel(\"Ascensión Recta\")\n",
    "plt.show()\n"
   ]
  },
  {
   "cell_type": "code",
   "execution_count": null,
   "metadata": {},
   "outputs": [],
   "source": [
    "plt.figure(figsize=(8, 5))\n",
    "plt.hist(data_t[\"dec\"], bins=20, edgecolor=\"black\", alpha=0.7, color=\"orange\")\n",
    "plt.xlabel(\"Ascensión Recta (dec)\")\n",
    "plt.ylabel(\"Frecuencia\")\n",
    "plt.title(\"Distribución de la Ascensión Recta\")\n",
    "plt.grid(axis=\"y\", linestyle=\"--\", alpha=0.7)\n",
    "\n",
    "plt.show()"
   ]
  },
  {
   "cell_type": "markdown",
   "metadata": {},
   "source": [
    "### Vamos a revisar ese dato que se sale de la asension de la recta normal"
   ]
  },
  {
   "cell_type": "code",
   "execution_count": null,
   "metadata": {},
   "outputs": [],
   "source": [
    "# Valores a revisar ya que son valores lejos del centro\n",
    "outliers2 = data_t[(data_t['dec'] > 10)]\n",
    "outliers2"
   ]
  },
  {
   "cell_type": "markdown",
   "metadata": {},
   "source": [
    "## Columna U\n",
    "Magnitud del objeto capturada en el filtro ultravioleta. Valor mayor a 0."
   ]
  },
  {
   "cell_type": "code",
   "execution_count": null,
   "metadata": {},
   "outputs": [],
   "source": [
    "data_t['u'].describe()"
   ]
  },
  {
   "cell_type": "code",
   "execution_count": null,
   "metadata": {},
   "outputs": [],
   "source": [
    "# Revisamos si es que existen valores por debajo del 0 \n",
    "outliers = data_t[(data_t['u'] <= 0)]\n",
    "outliers"
   ]
  },
  {
   "cell_type": "code",
   "execution_count": null,
   "metadata": {},
   "outputs": [],
   "source": [
    "# Revisamos si es que existen valores por encima de 30, pq Normalmente, las magnitudes de objetos astronómicos en el filtro ultravioleta están en un rango entre -5 y 25.\n",
    "outliers = data_t[(data_t['u'] > 30)]\n",
    "outliers"
   ]
  },
  {
   "cell_type": "code",
   "execution_count": null,
   "metadata": {},
   "outputs": [],
   "source": [
    "Q1 = data_t['u'].quantile(0.25)\n",
    "Q3 = data_t['u'].quantile(0.75)\n",
    "IQR = Q3 - Q1\n",
    "\n",
    "lower_bound = Q1 - 1.5 * IQR\n",
    "upper_bound = Q3 + 1.5 * IQR\n",
    "print(Q1,Q3,IQR)\n",
    "print(lower_bound,upper_bound) \n",
    " \n",
    "outliers = data_t[(data_t['u'] < lower_bound) | (data_t['u'] > upper_bound)]\n",
    "# print(outliers['dec'])\n",
    "outliers\n",
    "plt.boxplot(data_t['u'])\n",
    "plt.title(\"Boxplot de la Ascensión Recta (u)\")\n",
    "plt.ylabel(\"Ascensión Recta\")\n",
    "plt.show()\n"
   ]
  },
  {
   "cell_type": "code",
   "execution_count": null,
   "metadata": {},
   "outputs": [],
   "source": [
    "plt.figure(figsize=(8, 5))\n",
    "plt.hist(data_t[\"u\"], bins=20, edgecolor=\"black\", alpha=0.7, color=\"orange\")\n",
    "plt.xlabel(\"Ascensión Recta (u)\")\n",
    "plt.ylabel(\"Frecuencia\")\n",
    "plt.title(\"Distribución de la Ascensión Recta\")\n",
    "plt.grid(axis=\"y\", linestyle=\"--\", alpha=0.7)\n",
    "\n",
    "plt.show()"
   ]
  },
  {
   "cell_type": "markdown",
   "metadata": {},
   "source": [
    "## Columna g\n",
    "Describe: Ubicación del objeto en su componente de declinación de coordenada celeste."
   ]
  },
  {
   "cell_type": "code",
   "execution_count": null,
   "metadata": {},
   "outputs": [],
   "source": [
    "data_t['g'].describe()"
   ]
  },
  {
   "cell_type": "code",
   "execution_count": null,
   "metadata": {},
   "outputs": [],
   "source": [
    "#Ya que g describe la magnitud del objeto en el filtro verde este va entre 12-25\n",
    "out_rango = data_t[(data_t[\"g\"] > 25) | (data_t[\"g\"] < 12)]\n",
    "print(out_rango)"
   ]
  },
  {
   "cell_type": "code",
   "execution_count": null,
   "metadata": {},
   "outputs": [],
   "source": [
    "menor0 = data_t[(data_t[\"g\"] <= 0)]\n",
    "print(menor0)"
   ]
  },
  {
   "cell_type": "code",
   "execution_count": null,
   "metadata": {},
   "outputs": [],
   "source": [
    "Q1 = data_t['g'].quantile(0.25)\n",
    "Q3 = data_t['g'].quantile(0.75)\n",
    "IQR = Q3 - Q1\n",
    "\n",
    "lower_bound = Q1 - 1.5 * IQR\n",
    "upper_bound = Q3 + 1.5 * IQR\n",
    "print(Q1,Q3,IQR)\n",
    "print(lower_bound,upper_bound) \n",
    " \n",
    "outliers = data_t[(data_t['g'] < lower_bound) | (data_t['g'] > upper_bound)]\n",
    "# print(outliers['g'])\n",
    "outliers\n",
    "plt.boxplot(data_t['g'])\n",
    "plt.title(\"Boxplot de la Ascensión Recta (g)\")\n",
    "plt.ylabel(\"Ascensión Recta\")\n",
    "plt.show()"
   ]
  },
  {
   "cell_type": "code",
   "execution_count": null,
   "metadata": {},
   "outputs": [],
   "source": [
    "plt.figure(figsize=(8, 5))\n",
    "plt.hist(data_t[\"g\"], bins=20, edgecolor=\"black\", alpha=0.7, color=\"orange\")\n",
    "plt.xlabel(\"Ascensión Recta (g)\")\n",
    "plt.ylabel(\"Frecuencia\")\n",
    "plt.title(\"Distribución de la Ascensión Recta\")\n",
    "plt.grid(axis=\"y\", linestyle=\"--\", alpha=0.7)\n",
    "\n",
    "plt.show()"
   ]
  },
  {
   "cell_type": "markdown",
   "metadata": {},
   "source": [
    "## Columna r\n",
    "Describe: Magnitud del objeto capturada en el filtro rojo. Valor mayor a 0."
   ]
  },
  {
   "cell_type": "code",
   "execution_count": null,
   "metadata": {},
   "outputs": [],
   "source": [
    "data_t['r'].describe()"
   ]
  },
  {
   "cell_type": "code",
   "execution_count": null,
   "metadata": {},
   "outputs": [],
   "source": [
    "menor0 = data_t[(data_t[\"r\"] <= 0)]\n",
    "print(menor0)"
   ]
  },
  {
   "cell_type": "markdown",
   "metadata": {},
   "source": [
    "## Columna z\n",
    "Describe: Magnitud del objeto capturada en el filtro casi-infrarrojo. Valor mayor a 0."
   ]
  },
  {
   "cell_type": "code",
   "execution_count": null,
   "metadata": {},
   "outputs": [],
   "source": [
    "data_t['z'].describe()"
   ]
  },
  {
   "cell_type": "markdown",
   "metadata": {},
   "source": [
    "## Columna i\n",
    "Describe: Magnitud del objeto capturada en el filtro infrarrojo. Valor mayor a 0."
   ]
  },
  {
   "cell_type": "code",
   "execution_count": null,
   "metadata": {},
   "outputs": [],
   "source": [
    "data_t['i'].describe()"
   ]
  },
  {
   "cell_type": "markdown",
   "metadata": {},
   "source": [
    "## Columna score"
   ]
  },
  {
   "cell_type": "markdown",
   "metadata": {},
   "source": [
    "#### 1. Visualizar como se distribuyen los datos entre 0 y 1 por cuartiles"
   ]
  },
  {
   "cell_type": "code",
   "execution_count": null,
   "metadata": {},
   "outputs": [],
   "source": [
    "data_t['score'].describe()"
   ]
  },
  {
   "cell_type": "markdown",
   "metadata": {},
   "source": [
    "#### 2. Visualización Gráfica"
   ]
  },
  {
   "cell_type": "code",
   "execution_count": null,
   "metadata": {},
   "outputs": [],
   "source": [
    "# Crear el histograma\n",
    "plt.figure(figsize=(8, 6))\n",
    "sb.histplot(data_t['score'], bins=20, kde=True, color='blue', edgecolor='black')\n",
    "plt.title(\"Distribución de Score\", fontsize=14)\n",
    "plt.xlabel(\"Score\", fontsize=12)\n",
    "plt.ylabel(\"Frecuencia\", fontsize=12)\n",
    "plt.grid(True, linestyle=\"--\", alpha=0.6)\n",
    "plt.show()\n",
    "print(\"Esto nos dá a entender que la mayoría de las observaciones presentan una alta calidad, además no se presentaron datos fuera del rango 0 - 1\")"
   ]
  },
  {
   "cell_type": "markdown",
   "metadata": {},
   "source": [
    "#### 3. Eliminar datos que tienen una score y un clean 0"
   ]
  },
  {
   "cell_type": "markdown",
   "metadata": {},
   "source": [
    "Decidimos eliminar ciertos datos con una score y clean bajo ya que no aportan mucho a nuestro analisis"
   ]
  },
  {
   "cell_type": "code",
   "execution_count": null,
   "metadata": {},
   "outputs": [],
   "source": [
    "print(data_t.shape)\n",
    "data_t = data_t[~((data_t[\"score\"] < 0.4) & (data_t[\"clean\"] == 0))]\n",
    "print(data_t.shape)"
   ]
  },
  {
   "cell_type": "markdown",
   "metadata": {},
   "source": [
    "## Columna clean"
   ]
  },
  {
   "cell_type": "markdown",
   "metadata": {},
   "source": [
    "#### 1. Describir por cuartiles los datos de clean"
   ]
  },
  {
   "cell_type": "code",
   "execution_count": null,
   "metadata": {},
   "outputs": [],
   "source": [
    "data_t['clean'].describe()"
   ]
  },
  {
   "cell_type": "markdown",
   "metadata": {},
   "source": [
    "#### 2. Análisis grafico para detectar anomalías"
   ]
  },
  {
   "cell_type": "code",
   "execution_count": null,
   "metadata": {},
   "outputs": [],
   "source": [
    "plt.figure(figsize=(6,6))\n",
    "data_t['clean'].value_counts().plot(kind='pie', autopct='%1.1f%%', colors=['green', 'red'])\n",
    "\n",
    "plt.title(\"Proporción de objetos con fotometría confiable\")\n",
    "plt.ylabel(\"\")\n",
    "plt.show()\n",
    "print(\"Se observa que todos los datos son binarios , es decir 0 o 1, no se detectaron anomalías\")"
   ]
  },
  {
   "cell_type": "markdown",
   "metadata": {},
   "source": [
    "## Columna camcol\n",
    "Describe: Columna de la cámara en la que se registró el objeto."
   ]
  },
  {
   "cell_type": "code",
   "execution_count": 7,
   "metadata": {},
   "outputs": [
    {
     "name": "stdout",
     "output_type": "stream",
     "text": [
      "camcol\n",
      "1    800\n",
      "4    752\n",
      "5    716\n",
      "2    633\n",
      "3    581\n",
      "6    518\n",
      "Name: count, dtype: int64\n",
      "Valores únicos: [5 1 2 3 6 4]\n"
     ]
    },
    {
     "data": {
      "image/png": "[encoded data removed]",
      "text/plain": [
       "<Figure size 640x480 with 1 Axes>"
      ]
     },
     "metadata": {},
     "output_type": "display_data"
    },
    {
     "name": "stdout",
     "output_type": "stream",
     "text": [
      "Correlación entre camcol y redshift: -0.003906015457972524\n"
     ]
    }
   ],
   "source": [
    "print(data_t['camcol'].value_counts())\n",
    "print(\"Valores únicos:\", data_t['camcol'].unique())\n",
    "\n",
    "#Podemos ver que es una columna numerica pero deberia de ser categorica solo toma valores \n",
    "# específicos como {1, 2, 3, 4, 5, 6}, es más una categoría que un número\n",
    "sb.boxplot(x=data_t[\"camcol\"], y=data_t[\"redshift\"])\n",
    "plt.xlabel(\"Camcol (Columna del Sensor)\")\n",
    "plt.ylabel(\"Redshift\")\n",
    "plt.title(\"Distribución del Redshift por Camcol\")\n",
    "plt.show()\n",
    "correlation = data_t[\"camcol\"].corr(data_t[\"redshift\"])\n",
    "print(\"Correlación entre camcol y redshift:\", correlation)"
   ]
  },
  {
   "cell_type": "code",
   "execution_count": null,
   "metadata": {},
   "outputs": [],
   "source": [
    "data_t['camcol'] = data_t['camcol'].astype('category')\n",
    "print(\"Tipo de dato:\", data_t['camcol'].dtype)"
   ]
  },
  {
   "cell_type": "code",
   "execution_count": null,
   "metadata": {},
   "outputs": [],
   "source": [
    "plt.figure(figsize=(8, 5))\n",
    "plt.hist(data_t[\"camcol\"], bins=20, edgecolor=\"black\", alpha=0.7, color=\"orange\")\n",
    "plt.xlabel(\"X\")\n",
    "plt.ylabel(\"Frecuencia\")\n",
    "plt.title(\"Distribución de la Ascensión Recta\")\n",
    "plt.grid(axis=\"y\", linestyle=\"--\", alpha=0.7)\n",
    "\n",
    "plt.show()\n"
   ]
  },
  {
   "cell_type": "markdown",
   "metadata": {},
   "source": [
    "Analizando la correlación decidimos que no es una variable que influye directamente al redshift entonces la omitimos"
   ]
  },
  {
   "cell_type": "markdown",
   "metadata": {},
   "source": [
    "## Columna field\n",
    "Describe: Sección de la columna de la cámara en la que se registró el objeto.\n"
   ]
  },
  {
   "cell_type": "code",
   "execution_count": null,
   "metadata": {},
   "outputs": [],
   "source": [
    "for col in data.columns:\n",
    "    unique_values = data[col].nunique()\n",
    "    print(f\"{col}: {unique_values} valores únicos\")\n"
   ]
  },
  {
   "cell_type": "markdown",
   "metadata": {},
   "source": [
    "## Columna class"
   ]
  },
  {
   "cell_type": "markdown",
   "metadata": {},
   "source": [
    "#### 1. Revisión de como se distribuyen las clases"
   ]
  },
  {
   "cell_type": "code",
   "execution_count": null,
   "metadata": {},
   "outputs": [],
   "source": [
    "data_t['class'].describe()\n",
    "print(\"Valores únicos en 'class':\", data_t['class'].unique())\n",
    "print(\"\\nValores nulos en 'class':\", data_t['class'].isnull().sum())\n",
    "\n",
    "# Ver distribución de las clases\n",
    "print(\"\\nDistribución de clases:\")\n",
    "print(data_t['class'].value_counts())"
   ]
  },
  {
   "cell_type": "markdown",
   "metadata": {},
   "source": [
    "#### 2. Como se detectaron anomalías en las clasificaciones , se hace una normalización"
   ]
  },
  {
   "cell_type": "markdown",
   "metadata": {},
   "source": [
    "En este caso por intuición vamos a tomar los datos de clasificación G y convertirlos GALAXY"
   ]
  },
  {
   "cell_type": "code",
   "execution_count": null,
   "metadata": {},
   "outputs": [],
   "source": [
    "# Reemplazar 'G' por 'GALAXY'\n",
    "data_t['class'] = data_t['class'].replace('G', 'GALAXY')"
   ]
  },
  {
   "cell_type": "markdown",
   "metadata": {},
   "source": [
    "Por otro lado para los datos que tienen la clasificación S los modificaremos para que sean STAR"
   ]
  },
  {
   "cell_type": "code",
   "execution_count": null,
   "metadata": {},
   "outputs": [],
   "source": [
    "# Reemplazar 'S' por 'STAR'\n",
    "data_t['class'] = data_t['class'].replace('S', 'STAR')"
   ]
  },
  {
   "cell_type": "markdown",
   "metadata": {},
   "source": [
    "Tambien para hacer el uso de solo una etiqueta cambiamos Quasar por QSO"
   ]
  },
  {
   "cell_type": "code",
   "execution_count": null,
   "metadata": {},
   "outputs": [],
   "source": [
    "# Reemplazar 'QUASAR' por 'QSO'\n",
    "data_t['class'] = data_t['class'].replace('QUASAR', 'QSO')"
   ]
  },
  {
   "cell_type": "markdown",
   "metadata": {},
   "source": [
    "Luego volvemos a revisar si ya se hicieron los cambios correctamente"
   ]
  },
  {
   "cell_type": "code",
   "execution_count": null,
   "metadata": {},
   "outputs": [],
   "source": [
    "data_t['class'].describe()\n",
    "print(\"Valores únicos en 'class':\", data_t['class'].unique())\n",
    "print(\"\\nValores nulos en 'class':\", data_t['class'].isnull().sum())\n",
    "\n",
    "# Ver distribución de las clases\n",
    "print(\"\\nDistribución de clases:\")\n",
    "print(data_t['class'].value_counts())"
   ]
  },
  {
   "cell_type": "markdown",
   "metadata": {},
   "source": [
    "#### 3. Transformación para facilitar el modelo de regresión"
   ]
  },
  {
   "cell_type": "code",
   "execution_count": null,
   "metadata": {},
   "outputs": [],
   "source": [
    "data_t = pd.get_dummies(data_t, columns=['class'], prefix='class')"
   ]
  },
  {
   "cell_type": "markdown",
   "metadata": {},
   "source": [
    "#### 4. Análisis Gráfico de la columna"
   ]
  },
  {
   "cell_type": "code",
   "execution_count": null,
   "metadata": {},
   "outputs": [],
   "source": [
    "# Contar las ocurrencias de cada clase\n",
    "class_counts = data_t['class'].value_counts()\n",
    "\n",
    "# Crear el gráfico de barras\n",
    "plt.figure(figsize=(8, 5))\n",
    "plt.bar(class_counts.index, class_counts.values, color='skyblue', edgecolor='black')\n",
    "\n",
    "# Etiquetas y título\n",
    "plt.xlabel(\"Tipo de Objeto (class)\")\n",
    "plt.ylabel(\"Cantidad\")\n",
    "plt.title(\"Distribución de Tipos de Objetos\")\n",
    "plt.xticks(rotation=45)  # Rotar etiquetas para mejor visibilidad\n",
    "\n",
    "# Mostrar el gráfico\n",
    "plt.show()"
   ]
  },
  {
   "cell_type": "markdown",
   "metadata": {},
   "source": [
    "## Análisis de calidad de los datos"
   ]
  },
  {
   "cell_type": "markdown",
   "metadata": {},
   "source": [
    "Completitud"
   ]
  },
  {
   "cell_type": "code",
   "execution_count": null,
   "metadata": {},
   "outputs": [],
   "source": [
    "# Cálculo de valores nulos por columna\n",
    "((data_t.isnull().sum()/data_t.shape[0])).sort_values(ascending=False)"
   ]
  },
  {
   "cell_type": "markdown",
   "metadata": {},
   "source": [
    "Al hacer un examen de completitud de los datos podemos ver que no hay datos nulos en ninguna columna del data frame"
   ]
  },
  {
   "cell_type": "markdown",
   "metadata": {},
   "source": [
    "2.2 Unicidad"
   ]
  },
  {
   "cell_type": "code",
   "execution_count": null,
   "metadata": {},
   "outputs": [],
   "source": [
    "data_t.duplicated(keep = False).sum()\n",
    "print(f\"Filas duplicadas: {data_t.duplicated(keep=False).sum()}\")"
   ]
  },
  {
   "cell_type": "markdown",
   "metadata": {},
   "source": [
    "Se identificaron 34 filas duplicadas, ahora vamos a ver a detalle que es lo que está sucediendo"
   ]
  },
  {
   "cell_type": "code",
   "execution_count": null,
   "metadata": {},
   "outputs": [],
   "source": [
    "duplicados = data_t.loc[data_t.duplicated(keep=False)]\n",
    "duplicados"
   ]
  },
  {
   "cell_type": "markdown",
   "metadata": {},
   "source": [
    "Viendo a detalle los datos se puede ver que hay filas completamente duplicadas. Analizando el contexto de los datos y la forma en que se toman no tiene sentido que hayan filas completamente duplicadas, por lo cual consideramos eliminarlas. Eliminaremos 17 filas ya que estas corresponden a las filas duplicadas"
   ]
  },
  {
   "cell_type": "markdown",
   "metadata": {},
   "source": [
    "2.3 Consistencia "
   ]
  },
  {
   "cell_type": "code",
   "execution_count": null,
   "metadata": {},
   "outputs": [],
   "source": []
  },
  {
   "cell_type": "markdown",
   "metadata": {},
   "source": [
    "2.4 Validez"
   ]
  },
  {
   "cell_type": "code",
   "execution_count": null,
   "metadata": {},
   "outputs": [],
   "source": []
  },
  {
   "cell_type": "markdown",
   "metadata": {},
   "source": [
    "## Visualización de datos"
   ]
  },
  {
   "cell_type": "code",
   "execution_count": null,
   "metadata": {},
   "outputs": [],
   "source": [
    "data_t.hist(figsize=(15,18),bins=30,edgecolor=\"black\")"
   ]
  },
  {
   "cell_type": "markdown",
   "metadata": {},
   "source": [
    "Análisis de correlaciones"
   ]
  },
  {
   "cell_type": "code",
   "execution_count": null,
   "metadata": {},
   "outputs": [],
   "source": [
    "data_t[\"class\"].value_counts()"
   ]
  },
  {
   "cell_type": "code",
   "execution_count": null,
   "metadata": {},
   "outputs": [],
   "source": [
    "data_t[\"class\"] = data_t[\"class\"].replace({\n",
    "    \"S\": \"STAR\",\n",
    "    \"G\": \"GALAXY\",\n",
    "    \"QUASAR\": \"QSO\"\n",
    "})\n",
    "data_t[\"class\"].value_counts()"
   ]
  },
  {
   "cell_type": "code",
   "execution_count": null,
   "metadata": {},
   "outputs": [],
   "source": [
    "features=[\"ra\",\"dec\",\"u\",\"g\",\"r\",\"z\",\"i\",\"class\",\"redshift\",\"mjd\"]\n",
    "data_t=data_t[features]\n",
    "data_t.head()"
   ]
  },
  {
   "cell_type": "markdown",
   "metadata": {},
   "source": [
    "One-Hot encoding"
   ]
  },
  {
   "cell_type": "code",
   "execution_count": null,
   "metadata": {},
   "outputs": [],
   "source": [
    "dumies=pd.get_dummies(data_t[\"class\"], dtype=int)\n",
    "data_t=pd.concat([data_t, dumies], axis=1)"
   ]
  },
  {
   "cell_type": "code",
   "execution_count": null,
   "metadata": {},
   "outputs": [],
   "source": [
    "data_t=data_t.drop([\"class\"],axis=1)"
   ]
  },
  {
   "cell_type": "code",
   "execution_count": null,
   "metadata": {},
   "outputs": [],
   "source": [
    "data_t.head()"
   ]
  },
  {
   "cell_type": "markdown",
   "metadata": {},
   "source": [
    "Análisis de correlaciones"
   ]
  },
  {
   "cell_type": "code",
   "execution_count": null,
   "metadata": {},
   "outputs": [],
   "source": [
    "sb.set(rc={\"figure.figsize\":(25,12)})\n",
    "sb.heatmap( data_t.corr(),annot=True, cmap=\"YlGnBu\" )"
   ]
  },
  {
   "cell_type": "markdown",
   "metadata": {},
   "source": [
    "### REGRESION LINEAL"
   ]
  },
  {
   "cell_type": "code",
   "execution_count": null,
   "metadata": {},
   "outputs": [],
   "source": []
  }
 ],
 "metadata": {
  "kernelspec": {
   "display_name": "base",
   "language": "python",
   "name": "python3"
  },
  "language_info": {
   "codemirror_mode": {
    "name": "ipython",
    "version": 3
   },
   "file_extension": ".py",
   "mimetype": "text/x-python",
   "name": "python",
   "nbconvert_exporter": "python",
   "pygments_lexer": "ipython3",
   "version": "3.12.7"
  }
 },
 "nbformat": 4,
 "nbformat_minor": 2
}
